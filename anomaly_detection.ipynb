{
 "cells": [
  {
   "cell_type": "markdown",
   "metadata": {},
   "source": [
    "# ENVIRONMENT"
   ]
  },
  {
   "cell_type": "code",
   "execution_count": 1,
   "metadata": {
    "scrolled": true
   },
   "outputs": [],
   "source": [
    "from __future__ import division\n",
    "import itertools\n",
    "import warnings\n",
    "warnings.filterwarnings(\"ignore\")\n",
    "import matplotlib.pyplot as plt\n",
    "import matplotlib.dates as mdates\n",
    "import numpy as np\n",
    "import pandas as pd\n",
    "import math\n",
    "from sklearn import metrics\n",
    "from random import randint\n",
    "from matplotlib import style\n",
    "import seaborn as sns\n",
    "%matplotlib inline"
   ]
  },
  {
   "cell_type": "markdown",
   "metadata": {},
   "source": [
    "# ACQUIRE"
   ]
  },
  {
   "cell_type": "code",
   "execution_count": 2,
   "metadata": {},
   "outputs": [],
   "source": [
    "colnames=['ip', 'timestamp', 'request_method', 'status', 'size',\n",
    "          'destination', 'request_agent']\n",
    "df_orig = pd.read_csv('http://python.zach.lol/access.log',          \n",
    "                 engine='python',\n",
    "                 header=None,\n",
    "                 index_col=False,\n",
    "                 names=colnames,\n",
    "                 sep=r'\\s(?=(?:[^\"]*\"[^\"]*\")*[^\"]*$)(?![^\\[]*\\])',\n",
    "                 na_values='\"-\"',\n",
    "                 usecols=[0, 3, 4, 5, 6, 7, 8]\n",
    ")\n",
    "\n",
    "new = pd.DataFrame([[\"95.31.18.119\", \"[21/Apr/2019:10:02:41+0000]\", \n",
    "                     \"GET /api/v1/items/HTTP/1.1\", 200, 1153005, np.nan, \n",
    "                     \"python-requests/2.21.0\"],\n",
    "                    [\"95.31.16.121\", \"[17/Apr/2019:19:36:41+0000]\", \n",
    "                     \"GET /api/v1/sales?page=79/HTTP/1.1\", 301, 1005, np.nan, \n",
    "                     \"python-requests/2.21.0\"],\n",
    "                    [\"97.105.15.120\", \"[18/Apr/2019:19:42:41+0000]\", \n",
    "                     \"GET /api/v1/sales?page=79/HTTP/1.1\", 301, 2560, np.nan, \n",
    "                     \"python-requests/2.21.0\"],\n",
    "                    [\"97.105.19.58\", \"[19/Apr/2019:19:42:41+0000]\", \n",
    "                     \"GET /api/v1/sales?page=79/HTTP/1.1\", 200, 2056327, np.nan, \n",
    "                     \"python-requests/2.21.0\"]], columns=colnames)\n",
    "\n",
    "df = df_orig.append(new)"
   ]
  },
  {
   "cell_type": "code",
   "execution_count": 3,
   "metadata": {},
   "outputs": [
    {
     "data": {
      "text/html": [
       "<div>\n",
       "<style scoped>\n",
       "    .dataframe tbody tr th:only-of-type {\n",
       "        vertical-align: middle;\n",
       "    }\n",
       "\n",
       "    .dataframe tbody tr th {\n",
       "        vertical-align: top;\n",
       "    }\n",
       "\n",
       "    .dataframe thead th {\n",
       "        text-align: right;\n",
       "    }\n",
       "</style>\n",
       "<table border=\"1\" class=\"dataframe\">\n",
       "  <thead>\n",
       "    <tr style=\"text-align: right;\">\n",
       "      <th></th>\n",
       "      <th>ip</th>\n",
       "      <th>timestamp</th>\n",
       "      <th>request_method</th>\n",
       "      <th>status</th>\n",
       "      <th>size</th>\n",
       "      <th>destination</th>\n",
       "      <th>request_agent</th>\n",
       "    </tr>\n",
       "  </thead>\n",
       "  <tbody>\n",
       "    <tr>\n",
       "      <th>0</th>\n",
       "      <td>97.105.19.58</td>\n",
       "      <td>[16/Apr/2019:19:34:42 +0000]</td>\n",
       "      <td>\"GET /api/v1/sales?page=81 HTTP/1.1\"</td>\n",
       "      <td>200</td>\n",
       "      <td>512495</td>\n",
       "      <td>NaN</td>\n",
       "      <td>\"python-requests/2.21.0\"</td>\n",
       "    </tr>\n",
       "    <tr>\n",
       "      <th>1</th>\n",
       "      <td>97.105.19.58</td>\n",
       "      <td>[16/Apr/2019:19:34:42 +0000]</td>\n",
       "      <td>\"GET /api/v1/items HTTP/1.1\"</td>\n",
       "      <td>200</td>\n",
       "      <td>3561</td>\n",
       "      <td>NaN</td>\n",
       "      <td>\"python-requests/2.21.0\"</td>\n",
       "    </tr>\n",
       "    <tr>\n",
       "      <th>2</th>\n",
       "      <td>97.105.19.58</td>\n",
       "      <td>[16/Apr/2019:19:34:44 +0000]</td>\n",
       "      <td>\"GET /api/v1/sales?page=82 HTTP/1.1\"</td>\n",
       "      <td>200</td>\n",
       "      <td>510103</td>\n",
       "      <td>NaN</td>\n",
       "      <td>\"python-requests/2.21.0\"</td>\n",
       "    </tr>\n",
       "    <tr>\n",
       "      <th>3</th>\n",
       "      <td>97.105.19.58</td>\n",
       "      <td>[16/Apr/2019:19:34:46 +0000]</td>\n",
       "      <td>\"GET /api/v1/sales?page=83 HTTP/1.1\"</td>\n",
       "      <td>200</td>\n",
       "      <td>510003</td>\n",
       "      <td>NaN</td>\n",
       "      <td>\"python-requests/2.21.0\"</td>\n",
       "    </tr>\n",
       "    <tr>\n",
       "      <th>4</th>\n",
       "      <td>97.105.19.58</td>\n",
       "      <td>[16/Apr/2019:19:34:48 +0000]</td>\n",
       "      <td>\"GET /api/v1/sales?page=84 HTTP/1.1\"</td>\n",
       "      <td>200</td>\n",
       "      <td>511963</td>\n",
       "      <td>NaN</td>\n",
       "      <td>\"python-requests/2.21.0\"</td>\n",
       "    </tr>\n",
       "  </tbody>\n",
       "</table>\n",
       "</div>"
      ],
      "text/plain": [
       "             ip                     timestamp  \\\n",
       "0  97.105.19.58  [16/Apr/2019:19:34:42 +0000]   \n",
       "1  97.105.19.58  [16/Apr/2019:19:34:42 +0000]   \n",
       "2  97.105.19.58  [16/Apr/2019:19:34:44 +0000]   \n",
       "3  97.105.19.58  [16/Apr/2019:19:34:46 +0000]   \n",
       "4  97.105.19.58  [16/Apr/2019:19:34:48 +0000]   \n",
       "\n",
       "                         request_method  status    size destination  \\\n",
       "0  \"GET /api/v1/sales?page=81 HTTP/1.1\"     200  512495         NaN   \n",
       "1          \"GET /api/v1/items HTTP/1.1\"     200    3561         NaN   \n",
       "2  \"GET /api/v1/sales?page=82 HTTP/1.1\"     200  510103         NaN   \n",
       "3  \"GET /api/v1/sales?page=83 HTTP/1.1\"     200  510003         NaN   \n",
       "4  \"GET /api/v1/sales?page=84 HTTP/1.1\"     200  511963         NaN   \n",
       "\n",
       "              request_agent  \n",
       "0  \"python-requests/2.21.0\"  \n",
       "1  \"python-requests/2.21.0\"  \n",
       "2  \"python-requests/2.21.0\"  \n",
       "3  \"python-requests/2.21.0\"  \n",
       "4  \"python-requests/2.21.0\"  "
      ]
     },
     "execution_count": 3,
     "metadata": {},
     "output_type": "execute_result"
    }
   ],
   "source": [
    "df.head()"
   ]
  },
  {
   "cell_type": "code",
   "execution_count": 4,
   "metadata": {},
   "outputs": [
    {
     "name": "stdout",
     "output_type": "stream",
     "text": [
      "<class 'pandas.core.frame.DataFrame'>\n",
      "Int64Index: 13978 entries, 0 to 3\n",
      "Data columns (total 7 columns):\n",
      "ip                13978 non-null object\n",
      "timestamp         13978 non-null object\n",
      "request_method    13978 non-null object\n",
      "status            13978 non-null int64\n",
      "size              13978 non-null int64\n",
      "destination       25 non-null object\n",
      "request_agent     13978 non-null object\n",
      "dtypes: int64(2), object(5)\n",
      "memory usage: 873.6+ KB\n"
     ]
    }
   ],
   "source": [
    "df.info()"
   ]
  },
  {
   "cell_type": "markdown",
   "metadata": {},
   "source": [
    "## Parse timestamp"
   ]
  },
  {
   "cell_type": "code",
   "execution_count": 5,
   "metadata": {},
   "outputs": [],
   "source": [
    "df.timestamp = df.timestamp.str.replace(r'(\\[|\\])', '', regex=True)\n",
    "df.timestamp= pd.to_datetime(df.timestamp.str.replace(':', ' ', 1)) \n",
    "df = df.set_index('timestamp')"
   ]
  },
  {
   "cell_type": "markdown",
   "metadata": {},
   "source": [
    "## Cleanup text"
   ]
  },
  {
   "cell_type": "code",
   "execution_count": 6,
   "metadata": {},
   "outputs": [
    {
     "data": {
      "text/html": [
       "<div>\n",
       "<style scoped>\n",
       "    .dataframe tbody tr th:only-of-type {\n",
       "        vertical-align: middle;\n",
       "    }\n",
       "\n",
       "    .dataframe tbody tr th {\n",
       "        vertical-align: top;\n",
       "    }\n",
       "\n",
       "    .dataframe thead th {\n",
       "        text-align: right;\n",
       "    }\n",
       "</style>\n",
       "<table border=\"1\" class=\"dataframe\">\n",
       "  <thead>\n",
       "    <tr style=\"text-align: right;\">\n",
       "      <th></th>\n",
       "      <th>ip</th>\n",
       "      <th>request_method</th>\n",
       "      <th>status</th>\n",
       "      <th>size</th>\n",
       "      <th>destination</th>\n",
       "      <th>request_agent</th>\n",
       "    </tr>\n",
       "    <tr>\n",
       "      <th>timestamp</th>\n",
       "      <th></th>\n",
       "      <th></th>\n",
       "      <th></th>\n",
       "      <th></th>\n",
       "      <th></th>\n",
       "      <th></th>\n",
       "    </tr>\n",
       "  </thead>\n",
       "  <tbody>\n",
       "    <tr>\n",
       "      <th>2019-04-16 19:34:42</th>\n",
       "      <td>97.105.19.58</td>\n",
       "      <td>GET /api/v1/sales HTTP/1.1</td>\n",
       "      <td>200</td>\n",
       "      <td>512495</td>\n",
       "      <td>NaN</td>\n",
       "      <td>python-requests/2.21.0</td>\n",
       "    </tr>\n",
       "    <tr>\n",
       "      <th>2019-04-16 19:34:42</th>\n",
       "      <td>97.105.19.58</td>\n",
       "      <td>GET /api/v1/items HTTP/1.1</td>\n",
       "      <td>200</td>\n",
       "      <td>3561</td>\n",
       "      <td>NaN</td>\n",
       "      <td>python-requests/2.21.0</td>\n",
       "    </tr>\n",
       "    <tr>\n",
       "      <th>2019-04-16 19:34:44</th>\n",
       "      <td>97.105.19.58</td>\n",
       "      <td>GET /api/v1/sales HTTP/1.1</td>\n",
       "      <td>200</td>\n",
       "      <td>510103</td>\n",
       "      <td>NaN</td>\n",
       "      <td>python-requests/2.21.0</td>\n",
       "    </tr>\n",
       "    <tr>\n",
       "      <th>2019-04-16 19:34:46</th>\n",
       "      <td>97.105.19.58</td>\n",
       "      <td>GET /api/v1/sales HTTP/1.1</td>\n",
       "      <td>200</td>\n",
       "      <td>510003</td>\n",
       "      <td>NaN</td>\n",
       "      <td>python-requests/2.21.0</td>\n",
       "    </tr>\n",
       "    <tr>\n",
       "      <th>2019-04-16 19:34:48</th>\n",
       "      <td>97.105.19.58</td>\n",
       "      <td>GET /api/v1/sales HTTP/1.1</td>\n",
       "      <td>200</td>\n",
       "      <td>511963</td>\n",
       "      <td>NaN</td>\n",
       "      <td>python-requests/2.21.0</td>\n",
       "    </tr>\n",
       "  </tbody>\n",
       "</table>\n",
       "</div>"
      ],
      "text/plain": [
       "                               ip              request_method  status    size  \\\n",
       "timestamp                                                                       \n",
       "2019-04-16 19:34:42  97.105.19.58  GET /api/v1/sales HTTP/1.1     200  512495   \n",
       "2019-04-16 19:34:42  97.105.19.58  GET /api/v1/items HTTP/1.1     200    3561   \n",
       "2019-04-16 19:34:44  97.105.19.58  GET /api/v1/sales HTTP/1.1     200  510103   \n",
       "2019-04-16 19:34:46  97.105.19.58  GET /api/v1/sales HTTP/1.1     200  510003   \n",
       "2019-04-16 19:34:48  97.105.19.58  GET /api/v1/sales HTTP/1.1     200  511963   \n",
       "\n",
       "                    destination           request_agent  \n",
       "timestamp                                                \n",
       "2019-04-16 19:34:42         NaN  python-requests/2.21.0  \n",
       "2019-04-16 19:34:42         NaN  python-requests/2.21.0  \n",
       "2019-04-16 19:34:44         NaN  python-requests/2.21.0  \n",
       "2019-04-16 19:34:46         NaN  python-requests/2.21.0  \n",
       "2019-04-16 19:34:48         NaN  python-requests/2.21.0  "
      ]
     },
     "execution_count": 6,
     "metadata": {},
     "output_type": "execute_result"
    }
   ],
   "source": [
    "for col in ['request_method', 'request_agent', 'destination']:\n",
    "    df[col] = df[col].str.replace('\"', '')\n",
    "\n",
    "df['request_method'] = df.request_method.str.replace(r'\\?page=[0-9]+', '', regex=True)\n",
    "\n",
    "df.head()"
   ]
  },
  {
   "cell_type": "code",
   "execution_count": 7,
   "metadata": {},
   "outputs": [],
   "source": [
    "df['size_mb'] = [n/1024/1024 for n in df['size']]"
   ]
  },
  {
   "cell_type": "code",
   "execution_count": 8,
   "metadata": {},
   "outputs": [
    {
     "data": {
      "text/html": [
       "<div>\n",
       "<style scoped>\n",
       "    .dataframe tbody tr th:only-of-type {\n",
       "        vertical-align: middle;\n",
       "    }\n",
       "\n",
       "    .dataframe tbody tr th {\n",
       "        vertical-align: top;\n",
       "    }\n",
       "\n",
       "    .dataframe thead th {\n",
       "        text-align: right;\n",
       "    }\n",
       "</style>\n",
       "<table border=\"1\" class=\"dataframe\">\n",
       "  <thead>\n",
       "    <tr style=\"text-align: right;\">\n",
       "      <th></th>\n",
       "      <th>status</th>\n",
       "      <th>size</th>\n",
       "      <th>size_mb</th>\n",
       "    </tr>\n",
       "  </thead>\n",
       "  <tbody>\n",
       "    <tr>\n",
       "      <th>count</th>\n",
       "      <td>13978.000000</td>\n",
       "      <td>1.397800e+04</td>\n",
       "      <td>13978.000000</td>\n",
       "    </tr>\n",
       "    <tr>\n",
       "      <th>mean</th>\n",
       "      <td>200.356703</td>\n",
       "      <td>4.500019e+05</td>\n",
       "      <td>0.429155</td>\n",
       "    </tr>\n",
       "    <tr>\n",
       "      <th>std</th>\n",
       "      <td>10.182001</td>\n",
       "      <td>1.614915e+05</td>\n",
       "      <td>0.154010</td>\n",
       "    </tr>\n",
       "    <tr>\n",
       "      <th>min</th>\n",
       "      <td>200.000000</td>\n",
       "      <td>0.000000e+00</td>\n",
       "      <td>0.000000</td>\n",
       "    </tr>\n",
       "    <tr>\n",
       "      <th>25%</th>\n",
       "      <td>200.000000</td>\n",
       "      <td>5.006370e+05</td>\n",
       "      <td>0.477445</td>\n",
       "    </tr>\n",
       "    <tr>\n",
       "      <th>50%</th>\n",
       "      <td>200.000000</td>\n",
       "      <td>5.101380e+05</td>\n",
       "      <td>0.486506</td>\n",
       "    </tr>\n",
       "    <tr>\n",
       "      <th>75%</th>\n",
       "      <td>200.000000</td>\n",
       "      <td>5.112910e+05</td>\n",
       "      <td>0.487605</td>\n",
       "    </tr>\n",
       "    <tr>\n",
       "      <th>max</th>\n",
       "      <td>499.000000</td>\n",
       "      <td>2.056327e+06</td>\n",
       "      <td>1.961066</td>\n",
       "    </tr>\n",
       "  </tbody>\n",
       "</table>\n",
       "</div>"
      ],
      "text/plain": [
       "             status          size       size_mb\n",
       "count  13978.000000  1.397800e+04  13978.000000\n",
       "mean     200.356703  4.500019e+05      0.429155\n",
       "std       10.182001  1.614915e+05      0.154010\n",
       "min      200.000000  0.000000e+00      0.000000\n",
       "25%      200.000000  5.006370e+05      0.477445\n",
       "50%      200.000000  5.101380e+05      0.486506\n",
       "75%      200.000000  5.112910e+05      0.487605\n",
       "max      499.000000  2.056327e+06      1.961066"
      ]
     },
     "execution_count": 8,
     "metadata": {},
     "output_type": "execute_result"
    }
   ],
   "source": [
    "df.describe()"
   ]
  },
  {
   "cell_type": "code",
   "execution_count": 9,
   "metadata": {},
   "outputs": [
    {
     "data": {
      "text/html": [
       "<div>\n",
       "<style scoped>\n",
       "    .dataframe tbody tr th:only-of-type {\n",
       "        vertical-align: middle;\n",
       "    }\n",
       "\n",
       "    .dataframe tbody tr th {\n",
       "        vertical-align: top;\n",
       "    }\n",
       "\n",
       "    .dataframe thead th {\n",
       "        text-align: right;\n",
       "    }\n",
       "</style>\n",
       "<table border=\"1\" class=\"dataframe\">\n",
       "  <thead>\n",
       "    <tr style=\"text-align: right;\">\n",
       "      <th></th>\n",
       "      <th>ip</th>\n",
       "      <th>ip_count</th>\n",
       "      <th>ip_proba</th>\n",
       "    </tr>\n",
       "  </thead>\n",
       "  <tbody>\n",
       "    <tr>\n",
       "      <th>4</th>\n",
       "      <td>68.201.219.223</td>\n",
       "      <td>21</td>\n",
       "      <td>0.001502</td>\n",
       "    </tr>\n",
       "    <tr>\n",
       "      <th>5</th>\n",
       "      <td>24.26.242.9</td>\n",
       "      <td>21</td>\n",
       "      <td>0.001502</td>\n",
       "    </tr>\n",
       "    <tr>\n",
       "      <th>6</th>\n",
       "      <td>52.87.230.102</td>\n",
       "      <td>2</td>\n",
       "      <td>0.000143</td>\n",
       "    </tr>\n",
       "    <tr>\n",
       "      <th>7</th>\n",
       "      <td>70.121.214.34</td>\n",
       "      <td>2</td>\n",
       "      <td>0.000143</td>\n",
       "    </tr>\n",
       "    <tr>\n",
       "      <th>8</th>\n",
       "      <td>35.175.171.137</td>\n",
       "      <td>2</td>\n",
       "      <td>0.000143</td>\n",
       "    </tr>\n",
       "    <tr>\n",
       "      <th>9</th>\n",
       "      <td>52.91.30.150</td>\n",
       "      <td>1</td>\n",
       "      <td>0.000072</td>\n",
       "    </tr>\n",
       "    <tr>\n",
       "      <th>10</th>\n",
       "      <td>34.229.70.250</td>\n",
       "      <td>1</td>\n",
       "      <td>0.000072</td>\n",
       "    </tr>\n",
       "    <tr>\n",
       "      <th>11</th>\n",
       "      <td>3.92.201.136</td>\n",
       "      <td>1</td>\n",
       "      <td>0.000072</td>\n",
       "    </tr>\n",
       "    <tr>\n",
       "      <th>12</th>\n",
       "      <td>95.31.16.121</td>\n",
       "      <td>1</td>\n",
       "      <td>0.000072</td>\n",
       "    </tr>\n",
       "    <tr>\n",
       "      <th>13</th>\n",
       "      <td>35.174.209.2</td>\n",
       "      <td>1</td>\n",
       "      <td>0.000072</td>\n",
       "    </tr>\n",
       "    <tr>\n",
       "      <th>14</th>\n",
       "      <td>97.105.15.120</td>\n",
       "      <td>1</td>\n",
       "      <td>0.000072</td>\n",
       "    </tr>\n",
       "    <tr>\n",
       "      <th>15</th>\n",
       "      <td>54.172.14.223</td>\n",
       "      <td>1</td>\n",
       "      <td>0.000072</td>\n",
       "    </tr>\n",
       "    <tr>\n",
       "      <th>16</th>\n",
       "      <td>45.23.250.16</td>\n",
       "      <td>1</td>\n",
       "      <td>0.000072</td>\n",
       "    </tr>\n",
       "    <tr>\n",
       "      <th>17</th>\n",
       "      <td>54.145.52.184</td>\n",
       "      <td>1</td>\n",
       "      <td>0.000072</td>\n",
       "    </tr>\n",
       "    <tr>\n",
       "      <th>18</th>\n",
       "      <td>52.90.165.200</td>\n",
       "      <td>1</td>\n",
       "      <td>0.000072</td>\n",
       "    </tr>\n",
       "    <tr>\n",
       "      <th>19</th>\n",
       "      <td>34.207.64.242</td>\n",
       "      <td>1</td>\n",
       "      <td>0.000072</td>\n",
       "    </tr>\n",
       "    <tr>\n",
       "      <th>20</th>\n",
       "      <td>95.31.18.119</td>\n",
       "      <td>1</td>\n",
       "      <td>0.000072</td>\n",
       "    </tr>\n",
       "    <tr>\n",
       "      <th>21</th>\n",
       "      <td>3.88.129.158</td>\n",
       "      <td>1</td>\n",
       "      <td>0.000072</td>\n",
       "    </tr>\n",
       "  </tbody>\n",
       "</table>\n",
       "</div>"
      ],
      "text/plain": [
       "                ip  ip_count  ip_proba\n",
       "4   68.201.219.223        21  0.001502\n",
       "5      24.26.242.9        21  0.001502\n",
       "6    52.87.230.102         2  0.000143\n",
       "7    70.121.214.34         2  0.000143\n",
       "8   35.175.171.137         2  0.000143\n",
       "9     52.91.30.150         1  0.000072\n",
       "10   34.229.70.250         1  0.000072\n",
       "11    3.92.201.136         1  0.000072\n",
       "12    95.31.16.121         1  0.000072\n",
       "13    35.174.209.2         1  0.000072\n",
       "14   97.105.15.120         1  0.000072\n",
       "15   54.172.14.223         1  0.000072\n",
       "16    45.23.250.16         1  0.000072\n",
       "17   54.145.52.184         1  0.000072\n",
       "18   52.90.165.200         1  0.000072\n",
       "19   34.207.64.242         1  0.000072\n",
       "20    95.31.18.119         1  0.000072\n",
       "21    3.88.129.158         1  0.000072"
      ]
     },
     "execution_count": 9,
     "metadata": {},
     "output_type": "execute_result"
    }
   ],
   "source": [
    "ip_df = pd.DataFrame(df.ip.value_counts(dropna=False)).reset_index().\\\n",
    "                rename(index=str, columns={'index': 'ip', 'ip': 'ip_count'})\n",
    "ip_df2 = pd.DataFrame(df.ip.value_counts(dropna=False)/df.ip.count()).reset_index().\\\n",
    "                rename(index=str, columns={'index': 'ip', 'ip': 'ip_proba'})\n",
    "ip_df = ip_df.merge(ip_df2)\n",
    "\n",
    "\n",
    "# see those where rate < 1% \n",
    "ip_df[ip_df.ip_proba < .01]"
   ]
  },
  {
   "cell_type": "code",
   "execution_count": 10,
   "metadata": {},
   "outputs": [
    {
     "name": "stdout",
     "output_type": "stream",
     "text": [
      "22\n",
      "               ip  ip_count  ip_proba\n",
      "12   95.31.16.121         1  0.000072\n",
      "13   35.174.209.2         1  0.000072\n",
      "14  97.105.15.120         1  0.000072\n",
      "15  54.172.14.223         1  0.000072\n",
      "16   45.23.250.16         1  0.000072\n",
      "17  54.145.52.184         1  0.000072\n",
      "18  52.90.165.200         1  0.000072\n",
      "19  34.207.64.242         1  0.000072\n",
      "20   95.31.18.119         1  0.000072\n",
      "21   3.88.129.158         1  0.000072\n"
     ]
    },
    {
     "data": {
      "image/png": "[encoded data removed]",
      "text/plain": [
       "<Figure size 864x288 with 1 Axes>"
      ]
     },
     "metadata": {
      "needs_background": "light"
     },
     "output_type": "display_data"
    }
   ],
   "source": [
    "print(len(ip_df))\n",
    "\n",
    "print(ip_df.tail(10))\n",
    "\n",
    "plt.figure(figsize=(12, 4))\n",
    "splot = sns.barplot(data=ip_df, x = 'ip', y = 'ip_count', ci = None)\n",
    "for p in splot.patches:\n",
    "    splot.annotate(format(p.get_height(), '.0f'), \n",
    "                   (p.get_x() + p.get_width() / 2., p.get_height()), \n",
    "                   ha = 'center', va = 'center', xytext = (0, 10), \n",
    "                   textcoords = 'offset points'\n",
    "                   )\n",
    "    plt.xticks(rotation='vertical')"
   ]
  },
  {
   "cell_type": "code",
   "execution_count": 11,
   "metadata": {},
   "outputs": [
    {
     "data": {
      "text/html": [
       "<div>\n",
       "<style scoped>\n",
       "    .dataframe tbody tr th:only-of-type {\n",
       "        vertical-align: middle;\n",
       "    }\n",
       "\n",
       "    .dataframe tbody tr th {\n",
       "        vertical-align: top;\n",
       "    }\n",
       "\n",
       "    .dataframe thead th {\n",
       "        text-align: right;\n",
       "    }\n",
       "</style>\n",
       "<table border=\"1\" class=\"dataframe\">\n",
       "  <thead>\n",
       "    <tr style=\"text-align: right;\">\n",
       "      <th></th>\n",
       "      <th>ip</th>\n",
       "      <th>request_method</th>\n",
       "      <th>status</th>\n",
       "      <th>size</th>\n",
       "      <th>destination</th>\n",
       "      <th>request_agent</th>\n",
       "      <th>size_mb</th>\n",
       "    </tr>\n",
       "    <tr>\n",
       "      <th>timestamp</th>\n",
       "      <th></th>\n",
       "      <th></th>\n",
       "      <th></th>\n",
       "      <th></th>\n",
       "      <th></th>\n",
       "      <th></th>\n",
       "      <th></th>\n",
       "    </tr>\n",
       "  </thead>\n",
       "  <tbody>\n",
       "    <tr>\n",
       "      <th>2019-04-16 19:34:42</th>\n",
       "      <td>97.105.19.58</td>\n",
       "      <td>GET /api/v1/sales HTTP/1.1</td>\n",
       "      <td>200</td>\n",
       "      <td>512495</td>\n",
       "      <td>NaN</td>\n",
       "      <td>python-requests/2.21.0</td>\n",
       "      <td>0.488753</td>\n",
       "    </tr>\n",
       "    <tr>\n",
       "      <th>2019-04-16 19:34:42</th>\n",
       "      <td>97.105.19.58</td>\n",
       "      <td>GET /api/v1/items HTTP/1.1</td>\n",
       "      <td>200</td>\n",
       "      <td>3561</td>\n",
       "      <td>NaN</td>\n",
       "      <td>python-requests/2.21.0</td>\n",
       "      <td>0.003396</td>\n",
       "    </tr>\n",
       "    <tr>\n",
       "      <th>2019-04-16 19:34:44</th>\n",
       "      <td>97.105.19.58</td>\n",
       "      <td>GET /api/v1/sales HTTP/1.1</td>\n",
       "      <td>200</td>\n",
       "      <td>510103</td>\n",
       "      <td>NaN</td>\n",
       "      <td>python-requests/2.21.0</td>\n",
       "      <td>0.486472</td>\n",
       "    </tr>\n",
       "    <tr>\n",
       "      <th>2019-04-16 19:34:46</th>\n",
       "      <td>97.105.19.58</td>\n",
       "      <td>GET /api/v1/sales HTTP/1.1</td>\n",
       "      <td>200</td>\n",
       "      <td>510003</td>\n",
       "      <td>NaN</td>\n",
       "      <td>python-requests/2.21.0</td>\n",
       "      <td>0.486377</td>\n",
       "    </tr>\n",
       "    <tr>\n",
       "      <th>2019-04-16 19:34:48</th>\n",
       "      <td>97.105.19.58</td>\n",
       "      <td>GET /api/v1/sales HTTP/1.1</td>\n",
       "      <td>200</td>\n",
       "      <td>511963</td>\n",
       "      <td>NaN</td>\n",
       "      <td>python-requests/2.21.0</td>\n",
       "      <td>0.488246</td>\n",
       "    </tr>\n",
       "    <tr>\n",
       "      <th>2019-04-16 19:34:48</th>\n",
       "      <td>97.105.19.58</td>\n",
       "      <td>GET /api/v1/stores HTTP/1.1</td>\n",
       "      <td>200</td>\n",
       "      <td>1328</td>\n",
       "      <td>NaN</td>\n",
       "      <td>python-requests/2.21.0</td>\n",
       "      <td>0.001266</td>\n",
       "    </tr>\n",
       "    <tr>\n",
       "      <th>2019-04-16 19:34:50</th>\n",
       "      <td>97.105.19.58</td>\n",
       "      <td>GET /api/v1/sales HTTP/1.1</td>\n",
       "      <td>200</td>\n",
       "      <td>510753</td>\n",
       "      <td>NaN</td>\n",
       "      <td>python-requests/2.21.0</td>\n",
       "      <td>0.487092</td>\n",
       "    </tr>\n",
       "    <tr>\n",
       "      <th>2019-04-16 19:34:52</th>\n",
       "      <td>97.105.19.58</td>\n",
       "      <td>GET /api/v1/sales HTTP/1.1</td>\n",
       "      <td>200</td>\n",
       "      <td>510348</td>\n",
       "      <td>NaN</td>\n",
       "      <td>python-requests/2.21.0</td>\n",
       "      <td>0.486706</td>\n",
       "    </tr>\n",
       "    <tr>\n",
       "      <th>2019-04-16 19:34:52</th>\n",
       "      <td>97.105.19.58</td>\n",
       "      <td>GET / HTTP/1.1</td>\n",
       "      <td>200</td>\n",
       "      <td>42</td>\n",
       "      <td>NaN</td>\n",
       "      <td>python-requests/2.21.0</td>\n",
       "      <td>0.000040</td>\n",
       "    </tr>\n",
       "    <tr>\n",
       "      <th>2019-04-16 19:34:53</th>\n",
       "      <td>97.105.19.58</td>\n",
       "      <td>GET /api/v1/items HTTP/1.1</td>\n",
       "      <td>200</td>\n",
       "      <td>3561</td>\n",
       "      <td>NaN</td>\n",
       "      <td>python-requests/2.21.0</td>\n",
       "      <td>0.003396</td>\n",
       "    </tr>\n",
       "  </tbody>\n",
       "</table>\n",
       "</div>"
      ],
      "text/plain": [
       "                               ip               request_method  status  \\\n",
       "timestamp                                                                \n",
       "2019-04-16 19:34:42  97.105.19.58   GET /api/v1/sales HTTP/1.1     200   \n",
       "2019-04-16 19:34:42  97.105.19.58   GET /api/v1/items HTTP/1.1     200   \n",
       "2019-04-16 19:34:44  97.105.19.58   GET /api/v1/sales HTTP/1.1     200   \n",
       "2019-04-16 19:34:46  97.105.19.58   GET /api/v1/sales HTTP/1.1     200   \n",
       "2019-04-16 19:34:48  97.105.19.58   GET /api/v1/sales HTTP/1.1     200   \n",
       "2019-04-16 19:34:48  97.105.19.58  GET /api/v1/stores HTTP/1.1     200   \n",
       "2019-04-16 19:34:50  97.105.19.58   GET /api/v1/sales HTTP/1.1     200   \n",
       "2019-04-16 19:34:52  97.105.19.58   GET /api/v1/sales HTTP/1.1     200   \n",
       "2019-04-16 19:34:52  97.105.19.58               GET / HTTP/1.1     200   \n",
       "2019-04-16 19:34:53  97.105.19.58   GET /api/v1/items HTTP/1.1     200   \n",
       "\n",
       "                       size destination           request_agent   size_mb  \n",
       "timestamp                                                                  \n",
       "2019-04-16 19:34:42  512495         NaN  python-requests/2.21.0  0.488753  \n",
       "2019-04-16 19:34:42    3561         NaN  python-requests/2.21.0  0.003396  \n",
       "2019-04-16 19:34:44  510103         NaN  python-requests/2.21.0  0.486472  \n",
       "2019-04-16 19:34:46  510003         NaN  python-requests/2.21.0  0.486377  \n",
       "2019-04-16 19:34:48  511963         NaN  python-requests/2.21.0  0.488246  \n",
       "2019-04-16 19:34:48    1328         NaN  python-requests/2.21.0  0.001266  \n",
       "2019-04-16 19:34:50  510753         NaN  python-requests/2.21.0  0.487092  \n",
       "2019-04-16 19:34:52  510348         NaN  python-requests/2.21.0  0.486706  \n",
       "2019-04-16 19:34:52      42         NaN  python-requests/2.21.0  0.000040  \n",
       "2019-04-16 19:34:53    3561         NaN  python-requests/2.21.0  0.003396  "
      ]
     },
     "execution_count": 11,
     "metadata": {},
     "output_type": "execute_result"
    }
   ],
   "source": [
    "df.head(10)"
   ]
  },
  {
   "cell_type": "code",
   "execution_count": 12,
   "metadata": {},
   "outputs": [],
   "source": [
    "train = df['2019-04-16 19:34:42':'2019-04-17 12:55:14'][['ip','request_method','status','size','destination','request_agent','size_mb']]"
   ]
  },
  {
   "cell_type": "code",
   "execution_count": 13,
   "metadata": {},
   "outputs": [
    {
     "data": {
      "text/html": [
       "<div>\n",
       "<style scoped>\n",
       "    .dataframe tbody tr th:only-of-type {\n",
       "        vertical-align: middle;\n",
       "    }\n",
       "\n",
       "    .dataframe tbody tr th {\n",
       "        vertical-align: top;\n",
       "    }\n",
       "\n",
       "    .dataframe thead th {\n",
       "        text-align: right;\n",
       "    }\n",
       "</style>\n",
       "<table border=\"1\" class=\"dataframe\">\n",
       "  <thead>\n",
       "    <tr style=\"text-align: right;\">\n",
       "      <th></th>\n",
       "      <th>ip</th>\n",
       "      <th>request_method</th>\n",
       "      <th>status</th>\n",
       "      <th>size</th>\n",
       "      <th>destination</th>\n",
       "      <th>request_agent</th>\n",
       "      <th>size_mb</th>\n",
       "    </tr>\n",
       "    <tr>\n",
       "      <th>timestamp</th>\n",
       "      <th></th>\n",
       "      <th></th>\n",
       "      <th></th>\n",
       "      <th></th>\n",
       "      <th></th>\n",
       "      <th></th>\n",
       "      <th></th>\n",
       "    </tr>\n",
       "  </thead>\n",
       "  <tbody>\n",
       "    <tr>\n",
       "      <th>2019-04-16 19:34:42</th>\n",
       "      <td>97.105.19.58</td>\n",
       "      <td>GET /api/v1/sales HTTP/1.1</td>\n",
       "      <td>200</td>\n",
       "      <td>512495</td>\n",
       "      <td>NaN</td>\n",
       "      <td>python-requests/2.21.0</td>\n",
       "      <td>0.488753</td>\n",
       "    </tr>\n",
       "    <tr>\n",
       "      <th>2019-04-16 19:34:42</th>\n",
       "      <td>97.105.19.58</td>\n",
       "      <td>GET /api/v1/items HTTP/1.1</td>\n",
       "      <td>200</td>\n",
       "      <td>3561</td>\n",
       "      <td>NaN</td>\n",
       "      <td>python-requests/2.21.0</td>\n",
       "      <td>0.003396</td>\n",
       "    </tr>\n",
       "    <tr>\n",
       "      <th>2019-04-16 19:34:44</th>\n",
       "      <td>97.105.19.58</td>\n",
       "      <td>GET /api/v1/sales HTTP/1.1</td>\n",
       "      <td>200</td>\n",
       "      <td>510103</td>\n",
       "      <td>NaN</td>\n",
       "      <td>python-requests/2.21.0</td>\n",
       "      <td>0.486472</td>\n",
       "    </tr>\n",
       "    <tr>\n",
       "      <th>2019-04-16 19:34:46</th>\n",
       "      <td>97.105.19.58</td>\n",
       "      <td>GET /api/v1/sales HTTP/1.1</td>\n",
       "      <td>200</td>\n",
       "      <td>510003</td>\n",
       "      <td>NaN</td>\n",
       "      <td>python-requests/2.21.0</td>\n",
       "      <td>0.486377</td>\n",
       "    </tr>\n",
       "    <tr>\n",
       "      <th>2019-04-16 19:34:48</th>\n",
       "      <td>97.105.19.58</td>\n",
       "      <td>GET /api/v1/sales HTTP/1.1</td>\n",
       "      <td>200</td>\n",
       "      <td>511963</td>\n",
       "      <td>NaN</td>\n",
       "      <td>python-requests/2.21.0</td>\n",
       "      <td>0.488246</td>\n",
       "    </tr>\n",
       "    <tr>\n",
       "      <th>2019-04-16 19:34:48</th>\n",
       "      <td>97.105.19.58</td>\n",
       "      <td>GET /api/v1/stores HTTP/1.1</td>\n",
       "      <td>200</td>\n",
       "      <td>1328</td>\n",
       "      <td>NaN</td>\n",
       "      <td>python-requests/2.21.0</td>\n",
       "      <td>0.001266</td>\n",
       "    </tr>\n",
       "    <tr>\n",
       "      <th>2019-04-16 19:34:50</th>\n",
       "      <td>97.105.19.58</td>\n",
       "      <td>GET /api/v1/sales HTTP/1.1</td>\n",
       "      <td>200</td>\n",
       "      <td>510753</td>\n",
       "      <td>NaN</td>\n",
       "      <td>python-requests/2.21.0</td>\n",
       "      <td>0.487092</td>\n",
       "    </tr>\n",
       "    <tr>\n",
       "      <th>2019-04-16 19:34:52</th>\n",
       "      <td>97.105.19.58</td>\n",
       "      <td>GET /api/v1/sales HTTP/1.1</td>\n",
       "      <td>200</td>\n",
       "      <td>510348</td>\n",
       "      <td>NaN</td>\n",
       "      <td>python-requests/2.21.0</td>\n",
       "      <td>0.486706</td>\n",
       "    </tr>\n",
       "    <tr>\n",
       "      <th>2019-04-16 19:34:52</th>\n",
       "      <td>97.105.19.58</td>\n",
       "      <td>GET / HTTP/1.1</td>\n",
       "      <td>200</td>\n",
       "      <td>42</td>\n",
       "      <td>NaN</td>\n",
       "      <td>python-requests/2.21.0</td>\n",
       "      <td>0.000040</td>\n",
       "    </tr>\n",
       "    <tr>\n",
       "      <th>2019-04-16 19:34:53</th>\n",
       "      <td>97.105.19.58</td>\n",
       "      <td>GET /api/v1/items HTTP/1.1</td>\n",
       "      <td>200</td>\n",
       "      <td>3561</td>\n",
       "      <td>NaN</td>\n",
       "      <td>python-requests/2.21.0</td>\n",
       "      <td>0.003396</td>\n",
       "    </tr>\n",
       "  </tbody>\n",
       "</table>\n",
       "</div>"
      ],
      "text/plain": [
       "                               ip               request_method  status  \\\n",
       "timestamp                                                                \n",
       "2019-04-16 19:34:42  97.105.19.58   GET /api/v1/sales HTTP/1.1     200   \n",
       "2019-04-16 19:34:42  97.105.19.58   GET /api/v1/items HTTP/1.1     200   \n",
       "2019-04-16 19:34:44  97.105.19.58   GET /api/v1/sales HTTP/1.1     200   \n",
       "2019-04-16 19:34:46  97.105.19.58   GET /api/v1/sales HTTP/1.1     200   \n",
       "2019-04-16 19:34:48  97.105.19.58   GET /api/v1/sales HTTP/1.1     200   \n",
       "2019-04-16 19:34:48  97.105.19.58  GET /api/v1/stores HTTP/1.1     200   \n",
       "2019-04-16 19:34:50  97.105.19.58   GET /api/v1/sales HTTP/1.1     200   \n",
       "2019-04-16 19:34:52  97.105.19.58   GET /api/v1/sales HTTP/1.1     200   \n",
       "2019-04-16 19:34:52  97.105.19.58               GET / HTTP/1.1     200   \n",
       "2019-04-16 19:34:53  97.105.19.58   GET /api/v1/items HTTP/1.1     200   \n",
       "\n",
       "                       size destination           request_agent   size_mb  \n",
       "timestamp                                                                  \n",
       "2019-04-16 19:34:42  512495         NaN  python-requests/2.21.0  0.488753  \n",
       "2019-04-16 19:34:42    3561         NaN  python-requests/2.21.0  0.003396  \n",
       "2019-04-16 19:34:44  510103         NaN  python-requests/2.21.0  0.486472  \n",
       "2019-04-16 19:34:46  510003         NaN  python-requests/2.21.0  0.486377  \n",
       "2019-04-16 19:34:48  511963         NaN  python-requests/2.21.0  0.488246  \n",
       "2019-04-16 19:34:48    1328         NaN  python-requests/2.21.0  0.001266  \n",
       "2019-04-16 19:34:50  510753         NaN  python-requests/2.21.0  0.487092  \n",
       "2019-04-16 19:34:52  510348         NaN  python-requests/2.21.0  0.486706  \n",
       "2019-04-16 19:34:52      42         NaN  python-requests/2.21.0  0.000040  \n",
       "2019-04-16 19:34:53    3561         NaN  python-requests/2.21.0  0.003396  "
      ]
     },
     "execution_count": 13,
     "metadata": {},
     "output_type": "execute_result"
    }
   ],
   "source": [
    "train.head(10)"
   ]
  },
  {
   "cell_type": "code",
   "execution_count": 14,
   "metadata": {},
   "outputs": [],
   "source": [
    "request_df = pd.DataFrame(train.request_agent.value_counts(dropna=False)/train.request_agent.count()).reset_index().\\\n",
    "                rename(index=str, columns={'index': 'request_agent', 'request_agent': 'request_agent_proba'})"
   ]
  },
  {
   "cell_type": "code",
   "execution_count": 15,
   "metadata": {},
   "outputs": [
    {
     "data": {
      "text/html": [
       "<div>\n",
       "<style scoped>\n",
       "    .dataframe tbody tr th:only-of-type {\n",
       "        vertical-align: middle;\n",
       "    }\n",
       "\n",
       "    .dataframe tbody tr th {\n",
       "        vertical-align: top;\n",
       "    }\n",
       "\n",
       "    .dataframe thead th {\n",
       "        text-align: right;\n",
       "    }\n",
       "</style>\n",
       "<table border=\"1\" class=\"dataframe\">\n",
       "  <thead>\n",
       "    <tr style=\"text-align: right;\">\n",
       "      <th></th>\n",
       "      <th>request_agent</th>\n",
       "      <th>request_agent_proba</th>\n",
       "    </tr>\n",
       "  </thead>\n",
       "  <tbody>\n",
       "    <tr>\n",
       "      <th>0</th>\n",
       "      <td>python-requests/2.21.0</td>\n",
       "      <td>0.858809</td>\n",
       "    </tr>\n",
       "    <tr>\n",
       "      <th>1</th>\n",
       "      <td>python-requests/2.20.1</td>\n",
       "      <td>0.136754</td>\n",
       "    </tr>\n",
       "    <tr>\n",
       "      <th>2</th>\n",
       "      <td>Mozilla/5.0 (Macintosh; Intel Mac OS X 10_14_4...</td>\n",
       "      <td>0.002433</td>\n",
       "    </tr>\n",
       "    <tr>\n",
       "      <th>3</th>\n",
       "      <td>Mozilla/5.0 (Macintosh; Intel Mac OS X 10.14; ...</td>\n",
       "      <td>0.000572</td>\n",
       "    </tr>\n",
       "    <tr>\n",
       "      <th>4</th>\n",
       "      <td>Slackbot-LinkExpanding 1.0 (+https://api.slack...</td>\n",
       "      <td>0.000501</td>\n",
       "    </tr>\n",
       "    <tr>\n",
       "      <th>5</th>\n",
       "      <td>Slackbot 1.0 (+https://api.slack.com/robots)</td>\n",
       "      <td>0.000429</td>\n",
       "    </tr>\n",
       "    <tr>\n",
       "      <th>6</th>\n",
       "      <td>Mozilla/5.0 (Macintosh; Intel Mac OS X 10_14_3...</td>\n",
       "      <td>0.000286</td>\n",
       "    </tr>\n",
       "    <tr>\n",
       "      <th>7</th>\n",
       "      <td>Mozilla/5.0 (Macintosh; Intel Mac OS X 10_14_3...</td>\n",
       "      <td>0.000143</td>\n",
       "    </tr>\n",
       "    <tr>\n",
       "      <th>8</th>\n",
       "      <td>Python-urllib/3.7</td>\n",
       "      <td>0.000072</td>\n",
       "    </tr>\n",
       "  </tbody>\n",
       "</table>\n",
       "</div>"
      ],
      "text/plain": [
       "                                       request_agent  request_agent_proba\n",
       "0                             python-requests/2.21.0             0.858809\n",
       "1                             python-requests/2.20.1             0.136754\n",
       "2  Mozilla/5.0 (Macintosh; Intel Mac OS X 10_14_4...             0.002433\n",
       "3  Mozilla/5.0 (Macintosh; Intel Mac OS X 10.14; ...             0.000572\n",
       "4  Slackbot-LinkExpanding 1.0 (+https://api.slack...             0.000501\n",
       "5       Slackbot 1.0 (+https://api.slack.com/robots)             0.000429\n",
       "6  Mozilla/5.0 (Macintosh; Intel Mac OS X 10_14_3...             0.000286\n",
       "7  Mozilla/5.0 (Macintosh; Intel Mac OS X 10_14_3...             0.000143\n",
       "8                                  Python-urllib/3.7             0.000072"
      ]
     },
     "execution_count": 15,
     "metadata": {},
     "output_type": "execute_result"
    }
   ],
   "source": [
    "request_df"
   ]
  },
  {
   "cell_type": "code",
   "execution_count": 16,
   "metadata": {},
   "outputs": [
    {
     "data": {
      "text/plain": [
       "python-requests/2.21.0                                                                                                       12005\n",
       "python-requests/2.20.1                                                                                                        1911\n",
       "Mozilla/5.0 (Macintosh; Intel Mac OS X 10_14_4) AppleWebKit/537.36 (KHTML, like Gecko) Chrome/73.0.3683.103 Safari/537.36       34\n",
       "Mozilla/5.0 (Macintosh; Intel Mac OS X 10.14; rv:66.0) Gecko/20100101 Firefox/66.0                                               8\n",
       "Slackbot-LinkExpanding 1.0 (+https://api.slack.com/robots)                                                                       7\n",
       "Slackbot 1.0 (+https://api.slack.com/robots)                                                                                     6\n",
       "Mozilla/5.0 (Macintosh; Intel Mac OS X 10_14_3) AppleWebKit/537.36 (KHTML, like Gecko) Chrome/73.0.3683.103 Safari/537.36        4\n",
       "Mozilla/5.0 (Macintosh; Intel Mac OS X 10_14_3) AppleWebKit/537.36 (KHTML, like Gecko) Chrome/72.0.3626.121 Safari/537.36        2\n",
       "Python-urllib/3.7                                                                                                                1\n",
       "Name: request_agent, dtype: int64"
      ]
     },
     "execution_count": 16,
     "metadata": {},
     "output_type": "execute_result"
    }
   ],
   "source": [
    "df = df.reset_index().merge(request_df, on=['request_agent'], how='left').fillna(value=0).set_index('timestamp')\n",
    "df.request_agent.value_counts()"
   ]
  },
  {
   "cell_type": "code",
   "execution_count": 17,
   "metadata": {},
   "outputs": [],
   "source": [
    "request_probs = train.groupby('request_agent').size().div(len(df))\n",
    "\n",
    "status_given_request = pd.DataFrame(train.groupby(['request_agent', 'status']).\\\n",
    "                               size().div(len(train)).\\\n",
    "                               div(request_probs, \n",
    "                                   axis=0, \n",
    "                                   level='request_agent').\\\n",
    "                               reset_index().\\\n",
    "                               rename(index=str, \n",
    "                                      columns={0: 'proba_status_given_request'})\n",
    "                              )"
   ]
  },
  {
   "cell_type": "code",
   "execution_count": 18,
   "metadata": {},
   "outputs": [],
   "source": [
    "request_status_count = pd.DataFrame(train.groupby(['request_agent', 'status'])['request_method'].\\\n",
    "                                count().reset_index().\\\n",
    "                                rename(index=str, \n",
    "                                       columns={'request_method': 'request_status_count'}))\n",
    "\n",
    "\n",
    "request_status = status_given_request.merge(request_status_count)"
   ]
  },
  {
   "cell_type": "code",
   "execution_count": 19,
   "metadata": {},
   "outputs": [],
   "source": [
    "df = df.reset_index().merge(request_status, on=['request_agent', 'status'], how='left').fillna(value=0).set_index('timestamp')"
   ]
  },
  {
   "cell_type": "code",
   "execution_count": 20,
   "metadata": {},
   "outputs": [
    {
     "data": {
      "text/html": [
       "<div>\n",
       "<style scoped>\n",
       "    .dataframe tbody tr th:only-of-type {\n",
       "        vertical-align: middle;\n",
       "    }\n",
       "\n",
       "    .dataframe tbody tr th {\n",
       "        vertical-align: top;\n",
       "    }\n",
       "\n",
       "    .dataframe thead th {\n",
       "        text-align: right;\n",
       "    }\n",
       "</style>\n",
       "<table border=\"1\" class=\"dataframe\">\n",
       "  <thead>\n",
       "    <tr style=\"text-align: right;\">\n",
       "      <th></th>\n",
       "      <th>ip</th>\n",
       "      <th>request_method</th>\n",
       "      <th>status</th>\n",
       "      <th>size</th>\n",
       "      <th>destination</th>\n",
       "      <th>request_agent</th>\n",
       "      <th>size_mb</th>\n",
       "      <th>request_agent_proba</th>\n",
       "      <th>proba_status_given_request</th>\n",
       "      <th>request_status_count</th>\n",
       "    </tr>\n",
       "    <tr>\n",
       "      <th>timestamp</th>\n",
       "      <th></th>\n",
       "      <th></th>\n",
       "      <th></th>\n",
       "      <th></th>\n",
       "      <th></th>\n",
       "      <th></th>\n",
       "      <th></th>\n",
       "      <th></th>\n",
       "      <th></th>\n",
       "      <th></th>\n",
       "    </tr>\n",
       "  </thead>\n",
       "  <tbody>\n",
       "    <tr>\n",
       "      <th>2019-04-16 19:34:42</th>\n",
       "      <td>97.105.19.58</td>\n",
       "      <td>GET /api/v1/sales HTTP/1.1</td>\n",
       "      <td>200</td>\n",
       "      <td>512495</td>\n",
       "      <td>0</td>\n",
       "      <td>python-requests/2.21.0</td>\n",
       "      <td>0.488753</td>\n",
       "      <td>0.858809</td>\n",
       "      <td>0.999286</td>\n",
       "      <td>11989.0</td>\n",
       "    </tr>\n",
       "    <tr>\n",
       "      <th>2019-04-16 19:34:42</th>\n",
       "      <td>97.105.19.58</td>\n",
       "      <td>GET /api/v1/items HTTP/1.1</td>\n",
       "      <td>200</td>\n",
       "      <td>3561</td>\n",
       "      <td>0</td>\n",
       "      <td>python-requests/2.21.0</td>\n",
       "      <td>0.003396</td>\n",
       "      <td>0.858809</td>\n",
       "      <td>0.999286</td>\n",
       "      <td>11989.0</td>\n",
       "    </tr>\n",
       "    <tr>\n",
       "      <th>2019-04-16 19:34:44</th>\n",
       "      <td>97.105.19.58</td>\n",
       "      <td>GET /api/v1/sales HTTP/1.1</td>\n",
       "      <td>200</td>\n",
       "      <td>510103</td>\n",
       "      <td>0</td>\n",
       "      <td>python-requests/2.21.0</td>\n",
       "      <td>0.486472</td>\n",
       "      <td>0.858809</td>\n",
       "      <td>0.999286</td>\n",
       "      <td>11989.0</td>\n",
       "    </tr>\n",
       "    <tr>\n",
       "      <th>2019-04-16 19:34:46</th>\n",
       "      <td>97.105.19.58</td>\n",
       "      <td>GET /api/v1/sales HTTP/1.1</td>\n",
       "      <td>200</td>\n",
       "      <td>510003</td>\n",
       "      <td>0</td>\n",
       "      <td>python-requests/2.21.0</td>\n",
       "      <td>0.486377</td>\n",
       "      <td>0.858809</td>\n",
       "      <td>0.999286</td>\n",
       "      <td>11989.0</td>\n",
       "    </tr>\n",
       "    <tr>\n",
       "      <th>2019-04-16 19:34:48</th>\n",
       "      <td>97.105.19.58</td>\n",
       "      <td>GET /api/v1/sales HTTP/1.1</td>\n",
       "      <td>200</td>\n",
       "      <td>511963</td>\n",
       "      <td>0</td>\n",
       "      <td>python-requests/2.21.0</td>\n",
       "      <td>0.488246</td>\n",
       "      <td>0.858809</td>\n",
       "      <td>0.999286</td>\n",
       "      <td>11989.0</td>\n",
       "    </tr>\n",
       "    <tr>\n",
       "      <th>2019-04-16 19:34:48</th>\n",
       "      <td>97.105.19.58</td>\n",
       "      <td>GET /api/v1/stores HTTP/1.1</td>\n",
       "      <td>200</td>\n",
       "      <td>1328</td>\n",
       "      <td>0</td>\n",
       "      <td>python-requests/2.21.0</td>\n",
       "      <td>0.001266</td>\n",
       "      <td>0.858809</td>\n",
       "      <td>0.999286</td>\n",
       "      <td>11989.0</td>\n",
       "    </tr>\n",
       "    <tr>\n",
       "      <th>2019-04-16 19:34:50</th>\n",
       "      <td>97.105.19.58</td>\n",
       "      <td>GET /api/v1/sales HTTP/1.1</td>\n",
       "      <td>200</td>\n",
       "      <td>510753</td>\n",
       "      <td>0</td>\n",
       "      <td>python-requests/2.21.0</td>\n",
       "      <td>0.487092</td>\n",
       "      <td>0.858809</td>\n",
       "      <td>0.999286</td>\n",
       "      <td>11989.0</td>\n",
       "    </tr>\n",
       "    <tr>\n",
       "      <th>2019-04-16 19:34:52</th>\n",
       "      <td>97.105.19.58</td>\n",
       "      <td>GET /api/v1/sales HTTP/1.1</td>\n",
       "      <td>200</td>\n",
       "      <td>510348</td>\n",
       "      <td>0</td>\n",
       "      <td>python-requests/2.21.0</td>\n",
       "      <td>0.486706</td>\n",
       "      <td>0.858809</td>\n",
       "      <td>0.999286</td>\n",
       "      <td>11989.0</td>\n",
       "    </tr>\n",
       "    <tr>\n",
       "      <th>2019-04-16 19:34:52</th>\n",
       "      <td>97.105.19.58</td>\n",
       "      <td>GET / HTTP/1.1</td>\n",
       "      <td>200</td>\n",
       "      <td>42</td>\n",
       "      <td>0</td>\n",
       "      <td>python-requests/2.21.0</td>\n",
       "      <td>0.000040</td>\n",
       "      <td>0.858809</td>\n",
       "      <td>0.999286</td>\n",
       "      <td>11989.0</td>\n",
       "    </tr>\n",
       "    <tr>\n",
       "      <th>2019-04-16 19:34:53</th>\n",
       "      <td>97.105.19.58</td>\n",
       "      <td>GET /api/v1/items HTTP/1.1</td>\n",
       "      <td>200</td>\n",
       "      <td>3561</td>\n",
       "      <td>0</td>\n",
       "      <td>python-requests/2.21.0</td>\n",
       "      <td>0.003396</td>\n",
       "      <td>0.858809</td>\n",
       "      <td>0.999286</td>\n",
       "      <td>11989.0</td>\n",
       "    </tr>\n",
       "  </tbody>\n",
       "</table>\n",
       "</div>"
      ],
      "text/plain": [
       "                               ip               request_method  status  \\\n",
       "timestamp                                                                \n",
       "2019-04-16 19:34:42  97.105.19.58   GET /api/v1/sales HTTP/1.1     200   \n",
       "2019-04-16 19:34:42  97.105.19.58   GET /api/v1/items HTTP/1.1     200   \n",
       "2019-04-16 19:34:44  97.105.19.58   GET /api/v1/sales HTTP/1.1     200   \n",
       "2019-04-16 19:34:46  97.105.19.58   GET /api/v1/sales HTTP/1.1     200   \n",
       "2019-04-16 19:34:48  97.105.19.58   GET /api/v1/sales HTTP/1.1     200   \n",
       "2019-04-16 19:34:48  97.105.19.58  GET /api/v1/stores HTTP/1.1     200   \n",
       "2019-04-16 19:34:50  97.105.19.58   GET /api/v1/sales HTTP/1.1     200   \n",
       "2019-04-16 19:34:52  97.105.19.58   GET /api/v1/sales HTTP/1.1     200   \n",
       "2019-04-16 19:34:52  97.105.19.58               GET / HTTP/1.1     200   \n",
       "2019-04-16 19:34:53  97.105.19.58   GET /api/v1/items HTTP/1.1     200   \n",
       "\n",
       "                       size destination           request_agent   size_mb  \\\n",
       "timestamp                                                                   \n",
       "2019-04-16 19:34:42  512495           0  python-requests/2.21.0  0.488753   \n",
       "2019-04-16 19:34:42    3561           0  python-requests/2.21.0  0.003396   \n",
       "2019-04-16 19:34:44  510103           0  python-requests/2.21.0  0.486472   \n",
       "2019-04-16 19:34:46  510003           0  python-requests/2.21.0  0.486377   \n",
       "2019-04-16 19:34:48  511963           0  python-requests/2.21.0  0.488246   \n",
       "2019-04-16 19:34:48    1328           0  python-requests/2.21.0  0.001266   \n",
       "2019-04-16 19:34:50  510753           0  python-requests/2.21.0  0.487092   \n",
       "2019-04-16 19:34:52  510348           0  python-requests/2.21.0  0.486706   \n",
       "2019-04-16 19:34:52      42           0  python-requests/2.21.0  0.000040   \n",
       "2019-04-16 19:34:53    3561           0  python-requests/2.21.0  0.003396   \n",
       "\n",
       "                     request_agent_proba  proba_status_given_request  \\\n",
       "timestamp                                                              \n",
       "2019-04-16 19:34:42             0.858809                    0.999286   \n",
       "2019-04-16 19:34:42             0.858809                    0.999286   \n",
       "2019-04-16 19:34:44             0.858809                    0.999286   \n",
       "2019-04-16 19:34:46             0.858809                    0.999286   \n",
       "2019-04-16 19:34:48             0.858809                    0.999286   \n",
       "2019-04-16 19:34:48             0.858809                    0.999286   \n",
       "2019-04-16 19:34:50             0.858809                    0.999286   \n",
       "2019-04-16 19:34:52             0.858809                    0.999286   \n",
       "2019-04-16 19:34:52             0.858809                    0.999286   \n",
       "2019-04-16 19:34:53             0.858809                    0.999286   \n",
       "\n",
       "                     request_status_count  \n",
       "timestamp                                  \n",
       "2019-04-16 19:34:42               11989.0  \n",
       "2019-04-16 19:34:42               11989.0  \n",
       "2019-04-16 19:34:44               11989.0  \n",
       "2019-04-16 19:34:46               11989.0  \n",
       "2019-04-16 19:34:48               11989.0  \n",
       "2019-04-16 19:34:48               11989.0  \n",
       "2019-04-16 19:34:50               11989.0  \n",
       "2019-04-16 19:34:52               11989.0  \n",
       "2019-04-16 19:34:52               11989.0  \n",
       "2019-04-16 19:34:53               11989.0  "
      ]
     },
     "execution_count": 20,
     "metadata": {},
     "output_type": "execute_result"
    }
   ],
   "source": [
    "df.head(10)"
   ]
  },
  {
   "cell_type": "code",
   "execution_count": 21,
   "metadata": {},
   "outputs": [
    {
     "data": {
      "text/plain": [
       "<matplotlib.collections.PathCollection at 0x1a23bff6d8>"
      ]
     },
     "execution_count": 21,
     "metadata": {},
     "output_type": "execute_result"
    },
    {
     "data": {
      "image/png": "[encoded data removed]",
      "text/plain": [
       "<Figure size 432x288 with 1 Axes>"
      ]
     },
     "metadata": {
      "needs_background": "light"
     },
     "output_type": "display_data"
    }
   ],
   "source": [
    "plt.scatter(df.proba_status_given_request, df.request_agent_proba)"
   ]
  },
  {
   "cell_type": "markdown",
   "metadata": {},
   "source": [
    "# Stats & Time-Series"
   ]
  },
  {
   "cell_type": "code",
   "execution_count": 22,
   "metadata": {},
   "outputs": [],
   "source": [
    "df_ts_size = df['size_mb'].resample('30T').max()\n",
    "\n",
    "idx = pd.date_range(\n",
    "    df_ts_size.sort_index().index.min(), \n",
    "    df_ts_size.sort_index().index.max(),\n",
    "    freq='30min'\n",
    ")\n",
    "\n",
    "df_ts_size = df_ts_size.reindex(idx, fill_value=0).fillna(value=0)"
   ]
  },
  {
   "cell_type": "code",
   "execution_count": 23,
   "metadata": {},
   "outputs": [
    {
     "name": "stdout",
     "output_type": "stream",
     "text": [
      "<class 'pandas.core.frame.DataFrame'>\n",
      "DatetimeIndex: 13978 entries, 2019-04-16 19:34:42 to 2019-04-19 19:42:41\n",
      "Data columns (total 10 columns):\n",
      "ip                            13978 non-null object\n",
      "request_method                13978 non-null object\n",
      "status                        13978 non-null int64\n",
      "size                          13978 non-null int64\n",
      "destination                   13978 non-null object\n",
      "request_agent                 13978 non-null object\n",
      "size_mb                       13978 non-null float64\n",
      "request_agent_proba           13978 non-null float64\n",
      "proba_status_given_request    13978 non-null float64\n",
      "request_status_count          13978 non-null float64\n",
      "dtypes: float64(4), int64(2), object(4)\n",
      "memory usage: 1.2+ MB\n"
     ]
    }
   ],
   "source": [
    "df.info()"
   ]
  },
  {
   "cell_type": "markdown",
   "metadata": {},
   "source": [
    "## Train/Test Split"
   ]
  },
  {
   "cell_type": "code",
   "execution_count": 24,
   "metadata": {},
   "outputs": [
    {
     "data": {
      "image/png": "[encoded data removed]",
      "text/plain": [
       "<Figure size 864x576 with 1 Axes>"
      ]
     },
     "metadata": {
      "needs_background": "light"
     },
     "output_type": "display_data"
    }
   ],
   "source": [
    "start_date_train = df_ts_size.head(1).index[0]\n",
    "end_date_train = '2019-04-18 23:30:00'\n",
    "start_date_test = '2019-04-19 00:00:00'\n",
    "\n",
    "train_ts_size = df_ts_size[:end_date_train]\n",
    "test_ts_size = df_ts_size[start_date_test:]\n",
    "\n",
    "plt.figure(figsize=(12, 8))\n",
    "plt.plot(train_ts_size)\n",
    "plt.plot(test_ts_size)\n",
    "plt.show()"
   ]
  },
  {
   "cell_type": "markdown",
   "metadata": {},
   "source": [
    "## SMA - Simple Moving Average"
   ]
  },
  {
   "cell_type": "code",
   "execution_count": 25,
   "metadata": {},
   "outputs": [],
   "source": [
    "# Calculating the short-window simple moving average\n",
    "short_rolling = train_ts_size.rolling(window=12).mean()\n",
    "\n",
    "# Calculating the long-window simple moving average\n",
    "long_rolling = train_ts_size.rolling(window=24).mean()"
   ]
  },
  {
   "cell_type": "code",
   "execution_count": 27,
   "metadata": {},
   "outputs": [],
   "source": [
    "# fig, ax = plt.subplots(figsize=(12,4))\n",
    "\n",
    "# ax.plot(train_ts_size.index, \n",
    "#         train,\n",
    "#         label='Size (MB)')\n",
    "\n",
    "# ax.plot(short_rolling.index, \n",
    "#         short_rolling, \n",
    "#         label = '6-Hour SMA')\n",
    "# ax.plot(long_rolling.index, \n",
    "#         long_rolling, \n",
    "#         label = '12-Hour SMA')\n",
    "\n",
    "# ax.legend(loc='best')\n",
    "# ax.set_ylabel('Size (MB)')"
   ]
  },
  {
   "cell_type": "markdown",
   "metadata": {},
   "source": [
    "## Compute the EMA"
   ]
  },
  {
   "cell_type": "code",
   "execution_count": 28,
   "metadata": {},
   "outputs": [
    {
     "data": {
      "text/plain": [
       "2019-04-16 19:30:00    0.489937\n",
       "2019-04-16 20:00:00    0.489937\n",
       "2019-04-16 20:30:00    0.489937\n",
       "Freq: 30T, Name: size_mb, dtype: float64"
      ]
     },
     "execution_count": 28,
     "metadata": {},
     "output_type": "execute_result"
    }
   ],
   "source": [
    "# Using Pandas to calculate a 2 hour span EMA. \n",
    "# adjust=False specifies that we are interested in the \n",
    "# recursive calculation mode.\n",
    "ema_short = train_ts_size.ewm(span=12, adjust=False).mean()\n",
    "ema_short[0:3]\n",
    "\n",
    "ema_long = train_ts_size.ewm(span=24, adjust=False).mean()\n",
    "ema_long[0:3]"
   ]
  },
  {
   "cell_type": "markdown",
   "metadata": {},
   "source": [
    "## Compare SMA with EMA"
   ]
  },
  {
   "cell_type": "code",
   "execution_count": 29,
   "metadata": {},
   "outputs": [
    {
     "data": {
      "image/png": "[encoded data removed]",
      "text/plain": [
       "<Figure size 864x288 with 1 Axes>"
      ]
     },
     "metadata": {
      "needs_background": "light"
     },
     "output_type": "display_data"
    }
   ],
   "source": [
    "fig, ax = plt.subplots(figsize=(12,4))\n",
    "\n",
    "ax.plot(train_ts_size.index, \n",
    "        train_ts_size,\n",
    "        label='Size (MB)')\n",
    "\n",
    "ax.plot(short_rolling.index, \n",
    "        short_rolling, \n",
    "        label = '6-Hour SMA')\n",
    "ax.plot(long_rolling.index, \n",
    "        ema_short, \n",
    "        label = 'Span 6-Hour EMA')\n",
    "ax.plot(long_rolling.index, \n",
    "        long_rolling, \n",
    "        label = '12-Hour SMA')\n",
    "ax.plot(long_rolling.index, \n",
    "        ema_long, \n",
    "        label = 'Span 12-Hour EMA')\n",
    "\n",
    "ax.legend(loc='best')\n",
    "ax.set_ylabel('Size (MB)')\n",
    "\n",
    "yhat = pd.DataFrame(dict(actual=test_ts_size))"
   ]
  },
  {
   "cell_type": "markdown",
   "metadata": {},
   "source": [
    "# Forecast using the EMA"
   ]
  },
  {
   "cell_type": "code",
   "execution_count": 30,
   "metadata": {},
   "outputs": [],
   "source": [
    "ema_long = train_ts_size.ewm(span=24, adjust=False).mean()\n",
    "midband = ema_long[-1]\n",
    "ub = midband + ema_long[-24:-1].std()*3\n",
    "lb = midband - ema_long[-24:-1].std()*3\n",
    "\n",
    "yhat['moving_avg_forecast'] = midband"
   ]
  },
  {
   "cell_type": "markdown",
   "metadata": {},
   "source": [
    "## Compute the `%b` for each record"
   ]
  },
  {
   "cell_type": "code",
   "execution_count": 31,
   "metadata": {},
   "outputs": [],
   "source": [
    "# compute the absolute error:\n",
    "yhat['error'] = abs(yhat.actual - yhat.moving_avg_forecast)\n",
    "\n",
    "# compute the mean of the absolute error:\n",
    "# yhat.error.median()\n",
    "\n",
    "# compute upper band and lower band using IQR with weight of 3\n",
    "\n",
    "yhat['pct_b'] = (yhat.actual-lb)/(ub-lb)"
   ]
  },
  {
   "cell_type": "markdown",
   "metadata": {},
   "source": [
    "## Extract the anomalies"
   ]
  },
  {
   "cell_type": "code",
   "execution_count": 32,
   "metadata": {},
   "outputs": [
    {
     "data": {
      "text/html": [
       "<div>\n",
       "<style scoped>\n",
       "    .dataframe tbody tr th:only-of-type {\n",
       "        vertical-align: middle;\n",
       "    }\n",
       "\n",
       "    .dataframe tbody tr th {\n",
       "        vertical-align: top;\n",
       "    }\n",
       "\n",
       "    .dataframe thead th {\n",
       "        text-align: right;\n",
       "    }\n",
       "</style>\n",
       "<table border=\"1\" class=\"dataframe\">\n",
       "  <thead>\n",
       "    <tr style=\"text-align: right;\">\n",
       "      <th></th>\n",
       "      <th>actual</th>\n",
       "      <th>moving_avg_forecast</th>\n",
       "      <th>error</th>\n",
       "      <th>pct_b</th>\n",
       "    </tr>\n",
       "  </thead>\n",
       "  <tbody>\n",
       "    <tr>\n",
       "      <th>2019-04-19 19:30:00</th>\n",
       "      <td>1.961066</td>\n",
       "      <td>0.000597</td>\n",
       "      <td>1.960469</td>\n",
       "      <td>402.911854</td>\n",
       "    </tr>\n",
       "    <tr>\n",
       "      <th>2019-04-21 10:00:00</th>\n",
       "      <td>1.099591</td>\n",
       "      <td>0.000597</td>\n",
       "      <td>1.098994</td>\n",
       "      <td>226.082897</td>\n",
       "    </tr>\n",
       "  </tbody>\n",
       "</table>\n",
       "</div>"
      ],
      "text/plain": [
       "                       actual  moving_avg_forecast     error       pct_b\n",
       "2019-04-19 19:30:00  1.961066             0.000597  1.960469  402.911854\n",
       "2019-04-21 10:00:00  1.099591             0.000597  1.098994  226.082897"
      ]
     },
     "execution_count": 32,
     "metadata": {},
     "output_type": "execute_result"
    }
   ],
   "source": [
    "yhat[yhat.pct_b > 1]"
   ]
  },
  {
   "cell_type": "markdown",
   "metadata": {},
   "source": [
    "# RIGHTIE - OH"
   ]
  },
  {
   "cell_type": "code",
   "execution_count": 33,
   "metadata": {},
   "outputs": [
    {
     "name": "stdout",
     "output_type": "stream",
     "text": [
      "<class 'pandas.core.frame.DataFrame'>\n",
      "DatetimeIndex: 13978 entries, 2019-04-16 19:34:42 to 2019-04-19 19:42:41\n",
      "Data columns (total 10 columns):\n",
      "ip                            13978 non-null object\n",
      "request_method                13978 non-null object\n",
      "status                        13978 non-null int64\n",
      "size                          13978 non-null int64\n",
      "destination                   13978 non-null object\n",
      "request_agent                 13978 non-null object\n",
      "size_mb                       13978 non-null float64\n",
      "request_agent_proba           13978 non-null float64\n",
      "proba_status_given_request    13978 non-null float64\n",
      "request_status_count          13978 non-null float64\n",
      "dtypes: float64(4), int64(2), object(4)\n",
      "memory usage: 1.2+ MB\n"
     ]
    }
   ],
   "source": [
    "df.info()"
   ]
  },
  {
   "cell_type": "code",
   "execution_count": 34,
   "metadata": {
    "scrolled": false
   },
   "outputs": [
    {
     "data": {
      "text/html": [
       "<div>\n",
       "<style scoped>\n",
       "    .dataframe tbody tr th:only-of-type {\n",
       "        vertical-align: middle;\n",
       "    }\n",
       "\n",
       "    .dataframe tbody tr th {\n",
       "        vertical-align: top;\n",
       "    }\n",
       "\n",
       "    .dataframe thead th {\n",
       "        text-align: right;\n",
       "    }\n",
       "</style>\n",
       "<table border=\"1\" class=\"dataframe\">\n",
       "  <thead>\n",
       "    <tr style=\"text-align: right;\">\n",
       "      <th></th>\n",
       "      <th>ip</th>\n",
       "      <th>request_method</th>\n",
       "      <th>status</th>\n",
       "      <th>size</th>\n",
       "      <th>destination</th>\n",
       "      <th>request_agent</th>\n",
       "      <th>size_mb</th>\n",
       "      <th>request_agent_proba</th>\n",
       "      <th>proba_status_given_request</th>\n",
       "      <th>request_status_count</th>\n",
       "    </tr>\n",
       "    <tr>\n",
       "      <th>timestamp</th>\n",
       "      <th></th>\n",
       "      <th></th>\n",
       "      <th></th>\n",
       "      <th></th>\n",
       "      <th></th>\n",
       "      <th></th>\n",
       "      <th></th>\n",
       "      <th></th>\n",
       "      <th></th>\n",
       "      <th></th>\n",
       "    </tr>\n",
       "  </thead>\n",
       "  <tbody>\n",
       "    <tr>\n",
       "      <th>2019-04-16 19:34:42</th>\n",
       "      <td>97.105.19.58</td>\n",
       "      <td>GET /api/v1/sales HTTP/1.1</td>\n",
       "      <td>200</td>\n",
       "      <td>512495</td>\n",
       "      <td>0</td>\n",
       "      <td>python-requests/2.21.0</td>\n",
       "      <td>0.488753</td>\n",
       "      <td>0.858809</td>\n",
       "      <td>0.999286</td>\n",
       "      <td>11989.0</td>\n",
       "    </tr>\n",
       "    <tr>\n",
       "      <th>2019-04-16 19:34:42</th>\n",
       "      <td>97.105.19.58</td>\n",
       "      <td>GET /api/v1/items HTTP/1.1</td>\n",
       "      <td>200</td>\n",
       "      <td>3561</td>\n",
       "      <td>0</td>\n",
       "      <td>python-requests/2.21.0</td>\n",
       "      <td>0.003396</td>\n",
       "      <td>0.858809</td>\n",
       "      <td>0.999286</td>\n",
       "      <td>11989.0</td>\n",
       "    </tr>\n",
       "    <tr>\n",
       "      <th>2019-04-16 19:34:44</th>\n",
       "      <td>97.105.19.58</td>\n",
       "      <td>GET /api/v1/sales HTTP/1.1</td>\n",
       "      <td>200</td>\n",
       "      <td>510103</td>\n",
       "      <td>0</td>\n",
       "      <td>python-requests/2.21.0</td>\n",
       "      <td>0.486472</td>\n",
       "      <td>0.858809</td>\n",
       "      <td>0.999286</td>\n",
       "      <td>11989.0</td>\n",
       "    </tr>\n",
       "    <tr>\n",
       "      <th>2019-04-16 19:34:46</th>\n",
       "      <td>97.105.19.58</td>\n",
       "      <td>GET /api/v1/sales HTTP/1.1</td>\n",
       "      <td>200</td>\n",
       "      <td>510003</td>\n",
       "      <td>0</td>\n",
       "      <td>python-requests/2.21.0</td>\n",
       "      <td>0.486377</td>\n",
       "      <td>0.858809</td>\n",
       "      <td>0.999286</td>\n",
       "      <td>11989.0</td>\n",
       "    </tr>\n",
       "    <tr>\n",
       "      <th>2019-04-16 19:34:48</th>\n",
       "      <td>97.105.19.58</td>\n",
       "      <td>GET /api/v1/sales HTTP/1.1</td>\n",
       "      <td>200</td>\n",
       "      <td>511963</td>\n",
       "      <td>0</td>\n",
       "      <td>python-requests/2.21.0</td>\n",
       "      <td>0.488246</td>\n",
       "      <td>0.858809</td>\n",
       "      <td>0.999286</td>\n",
       "      <td>11989.0</td>\n",
       "    </tr>\n",
       "  </tbody>\n",
       "</table>\n",
       "</div>"
      ],
      "text/plain": [
       "                               ip              request_method  status    size  \\\n",
       "timestamp                                                                       \n",
       "2019-04-16 19:34:42  97.105.19.58  GET /api/v1/sales HTTP/1.1     200  512495   \n",
       "2019-04-16 19:34:42  97.105.19.58  GET /api/v1/items HTTP/1.1     200    3561   \n",
       "2019-04-16 19:34:44  97.105.19.58  GET /api/v1/sales HTTP/1.1     200  510103   \n",
       "2019-04-16 19:34:46  97.105.19.58  GET /api/v1/sales HTTP/1.1     200  510003   \n",
       "2019-04-16 19:34:48  97.105.19.58  GET /api/v1/sales HTTP/1.1     200  511963   \n",
       "\n",
       "                    destination           request_agent   size_mb  \\\n",
       "timestamp                                                           \n",
       "2019-04-16 19:34:42           0  python-requests/2.21.0  0.488753   \n",
       "2019-04-16 19:34:42           0  python-requests/2.21.0  0.003396   \n",
       "2019-04-16 19:34:44           0  python-requests/2.21.0  0.486472   \n",
       "2019-04-16 19:34:46           0  python-requests/2.21.0  0.486377   \n",
       "2019-04-16 19:34:48           0  python-requests/2.21.0  0.488246   \n",
       "\n",
       "                     request_agent_proba  proba_status_given_request  \\\n",
       "timestamp                                                              \n",
       "2019-04-16 19:34:42             0.858809                    0.999286   \n",
       "2019-04-16 19:34:42             0.858809                    0.999286   \n",
       "2019-04-16 19:34:44             0.858809                    0.999286   \n",
       "2019-04-16 19:34:46             0.858809                    0.999286   \n",
       "2019-04-16 19:34:48             0.858809                    0.999286   \n",
       "\n",
       "                     request_status_count  \n",
       "timestamp                                  \n",
       "2019-04-16 19:34:42               11989.0  \n",
       "2019-04-16 19:34:42               11989.0  \n",
       "2019-04-16 19:34:44               11989.0  \n",
       "2019-04-16 19:34:46               11989.0  \n",
       "2019-04-16 19:34:48               11989.0  "
      ]
     },
     "execution_count": 34,
     "metadata": {},
     "output_type": "execute_result"
    }
   ],
   "source": [
    "df.head()"
   ]
  },
  {
   "cell_type": "markdown",
   "metadata": {},
   "source": [
    "# DBSCAN"
   ]
  },
  {
   "cell_type": "code",
   "execution_count": 36,
   "metadata": {},
   "outputs": [],
   "source": [
    "from __future__ import division\n",
    "import itertools\n",
    "import warnings\n",
    "warnings.filterwarnings(\"ignore\")\n",
    "import matplotlib.pyplot as plt\n",
    "import matplotlib.dates as mdates\n",
    "import numpy as np\n",
    "import pandas as pd\n",
    "import math\n",
    "from sklearn import metrics\n",
    "from random import randint\n",
    "from matplotlib import style\n",
    "import seaborn as sns\n",
    "from sklearn.cluster import DBSCAN\n",
    "from sklearn.preprocessing import StandardScaler\n",
    "\n",
    "%matplotlib inline"
   ]
  },
  {
   "cell_type": "code",
   "execution_count": 37,
   "metadata": {},
   "outputs": [
    {
     "data": {
      "text/html": [
       "<div>\n",
       "<style scoped>\n",
       "    .dataframe tbody tr th:only-of-type {\n",
       "        vertical-align: middle;\n",
       "    }\n",
       "\n",
       "    .dataframe tbody tr th {\n",
       "        vertical-align: top;\n",
       "    }\n",
       "\n",
       "    .dataframe thead th {\n",
       "        text-align: right;\n",
       "    }\n",
       "</style>\n",
       "<table border=\"1\" class=\"dataframe\">\n",
       "  <thead>\n",
       "    <tr style=\"text-align: right;\">\n",
       "      <th></th>\n",
       "      <th>Channel</th>\n",
       "      <th>Region</th>\n",
       "      <th>Fresh</th>\n",
       "      <th>Milk</th>\n",
       "      <th>Grocery</th>\n",
       "      <th>Frozen</th>\n",
       "      <th>Detergents_Paper</th>\n",
       "      <th>Delicassen</th>\n",
       "    </tr>\n",
       "  </thead>\n",
       "  <tbody>\n",
       "    <tr>\n",
       "      <th>0</th>\n",
       "      <td>2</td>\n",
       "      <td>3</td>\n",
       "      <td>12669</td>\n",
       "      <td>9656</td>\n",
       "      <td>7561</td>\n",
       "      <td>214</td>\n",
       "      <td>2674</td>\n",
       "      <td>1338</td>\n",
       "    </tr>\n",
       "    <tr>\n",
       "      <th>1</th>\n",
       "      <td>2</td>\n",
       "      <td>3</td>\n",
       "      <td>7057</td>\n",
       "      <td>9810</td>\n",
       "      <td>9568</td>\n",
       "      <td>1762</td>\n",
       "      <td>3293</td>\n",
       "      <td>1776</td>\n",
       "    </tr>\n",
       "    <tr>\n",
       "      <th>2</th>\n",
       "      <td>2</td>\n",
       "      <td>3</td>\n",
       "      <td>6353</td>\n",
       "      <td>8808</td>\n",
       "      <td>7684</td>\n",
       "      <td>2405</td>\n",
       "      <td>3516</td>\n",
       "      <td>7844</td>\n",
       "    </tr>\n",
       "    <tr>\n",
       "      <th>3</th>\n",
       "      <td>1</td>\n",
       "      <td>3</td>\n",
       "      <td>13265</td>\n",
       "      <td>1196</td>\n",
       "      <td>4221</td>\n",
       "      <td>6404</td>\n",
       "      <td>507</td>\n",
       "      <td>1788</td>\n",
       "    </tr>\n",
       "    <tr>\n",
       "      <th>4</th>\n",
       "      <td>2</td>\n",
       "      <td>3</td>\n",
       "      <td>22615</td>\n",
       "      <td>5410</td>\n",
       "      <td>7198</td>\n",
       "      <td>3915</td>\n",
       "      <td>1777</td>\n",
       "      <td>5185</td>\n",
       "    </tr>\n",
       "  </tbody>\n",
       "</table>\n",
       "</div>"
      ],
      "text/plain": [
       "   Channel  Region  Fresh  Milk  Grocery  Frozen  Detergents_Paper  Delicassen\n",
       "0        2       3  12669  9656     7561     214              2674        1338\n",
       "1        2       3   7057  9810     9568    1762              3293        1776\n",
       "2        2       3   6353  8808     7684    2405              3516        7844\n",
       "3        1       3  13265  1196     4221    6404               507        1788\n",
       "4        2       3  22615  5410     7198    3915              1777        5185"
      ]
     },
     "execution_count": 37,
     "metadata": {},
     "output_type": "execute_result"
    }
   ],
   "source": [
    "# Import .csv file and convert it to a DataFrame object\n",
    "df = pd.read_csv(\"customers.csv\")\n",
    "\n",
    "df.head()"
   ]
  },
  {
   "cell_type": "code",
   "execution_count": 38,
   "metadata": {},
   "outputs": [],
   "source": [
    "# df.drop([\"Channel\", \"Region\"], axis = 1, inplace = True)\n",
    "df = df[[\"Grocery\", \"Milk\",\"Fresh\"]]"
   ]
  },
  {
   "cell_type": "code",
   "execution_count": 39,
   "metadata": {},
   "outputs": [
    {
     "data": {
      "text/plain": [
       "array([[ 7561.,  9656., 12669.],\n",
       "       [ 9568.,  9810.,  7057.],\n",
       "       [ 7684.,  8808.,  6353.],\n",
       "       [ 4221.,  1196., 13265.],\n",
       "       [ 7198.,  5410., 22615.],\n",
       "       [ 5126.,  8259.,  9413.],\n",
       "       [ 6975.,  3199., 12126.],\n",
       "       [ 9426.,  4956.,  7579.],\n",
       "       [ 6192.,  3648.,  5963.],\n",
       "       [18881., 11093.,  6006.]], dtype=float32)"
      ]
     },
     "execution_count": 39,
     "metadata": {},
     "output_type": "execute_result"
    }
   ],
   "source": [
    "np_array = df.values.astype(\"float32\", copy = False)\n",
    "np_array[0:10]"
   ]
  },
  {
   "cell_type": "code",
   "execution_count": 40,
   "metadata": {},
   "outputs": [
    {
     "data": {
      "text/plain": [
       "array([[-0.0411149 ,  0.5235678 ,  0.05293319],\n",
       "       [ 0.17031837,  0.5444577 , -0.39130196],\n",
       "       [-0.0281571 ,  0.40853772, -0.44702926],\n",
       "       [-0.3929769 , -0.62402   ,  0.1001114 ],\n",
       "       [-0.07935619, -0.05239645,  0.8402394 ],\n",
       "       [-0.29763708,  0.3340666 , -0.20480551],\n",
       "       [-0.10284877, -0.35231563,  0.00995035],\n",
       "       [ 0.15535896, -0.11398095, -0.34998146],\n",
       "       [-0.18533617, -0.2914094 , -0.4779009 ],\n",
       "       [ 1.1514235 ,  0.7184949 , -0.4744971 ]], dtype=float32)"
      ]
     },
     "execution_count": 40,
     "metadata": {},
     "output_type": "execute_result"
    }
   ],
   "source": [
    "stscaler = StandardScaler().fit(np_array)\n",
    "np_array = stscaler.transform(np_array)\n",
    "np_array[0:10]"
   ]
  },
  {
   "cell_type": "code",
   "execution_count": 41,
   "metadata": {},
   "outputs": [],
   "source": [
    "dbsc = DBSCAN(eps = .75, min_samples = 15).fit(np_array)"
   ]
  },
  {
   "cell_type": "code",
   "execution_count": 42,
   "metadata": {},
   "outputs": [
    {
     "data": {
      "text/plain": [
       "array([0, 0, 0, 0, 0, 0, 0, 0, 0, 0])"
      ]
     },
     "execution_count": 42,
     "metadata": {},
     "output_type": "execute_result"
    }
   ],
   "source": [
    "labels = dbsc.labels_\n",
    "labels[0:10]"
   ]
  },
  {
   "cell_type": "code",
   "execution_count": 43,
   "metadata": {},
   "outputs": [
    {
     "data": {
      "text/plain": [
       " 0    400\n",
       "-1     40\n",
       "Name: labels, dtype: int64"
      ]
     },
     "execution_count": 43,
     "metadata": {},
     "output_type": "execute_result"
    }
   ],
   "source": [
    "df['labels'] = labels\n",
    "df.labels.value_counts()"
   ]
  },
  {
   "cell_type": "code",
   "execution_count": 44,
   "metadata": {},
   "outputs": [
    {
     "data": {
      "text/html": [
       "<div>\n",
       "<style scoped>\n",
       "    .dataframe tbody tr th:only-of-type {\n",
       "        vertical-align: middle;\n",
       "    }\n",
       "\n",
       "    .dataframe tbody tr th {\n",
       "        vertical-align: top;\n",
       "    }\n",
       "\n",
       "    .dataframe thead th {\n",
       "        text-align: right;\n",
       "    }\n",
       "</style>\n",
       "<table border=\"1\" class=\"dataframe\">\n",
       "  <thead>\n",
       "    <tr style=\"text-align: right;\">\n",
       "      <th></th>\n",
       "      <th>Grocery</th>\n",
       "      <th>Milk</th>\n",
       "      <th>Fresh</th>\n",
       "      <th>labels</th>\n",
       "    </tr>\n",
       "  </thead>\n",
       "  <tbody>\n",
       "    <tr>\n",
       "      <th>12</th>\n",
       "      <td>11757</td>\n",
       "      <td>12319</td>\n",
       "      <td>31714</td>\n",
       "      <td>-1</td>\n",
       "    </tr>\n",
       "    <tr>\n",
       "      <th>23</th>\n",
       "      <td>22019</td>\n",
       "      <td>36423</td>\n",
       "      <td>26373</td>\n",
       "      <td>-1</td>\n",
       "    </tr>\n",
       "    <tr>\n",
       "      <th>28</th>\n",
       "      <td>25957</td>\n",
       "      <td>20484</td>\n",
       "      <td>4113</td>\n",
       "      <td>-1</td>\n",
       "    </tr>\n",
       "    <tr>\n",
       "      <th>39</th>\n",
       "      <td>902</td>\n",
       "      <td>555</td>\n",
       "      <td>56159</td>\n",
       "      <td>-1</td>\n",
       "    </tr>\n",
       "    <tr>\n",
       "      <th>45</th>\n",
       "      <td>21531</td>\n",
       "      <td>22044</td>\n",
       "      <td>5181</td>\n",
       "      <td>-1</td>\n",
       "    </tr>\n",
       "  </tbody>\n",
       "</table>\n",
       "</div>"
      ],
      "text/plain": [
       "    Grocery   Milk  Fresh  labels\n",
       "12    11757  12319  31714      -1\n",
       "23    22019  36423  26373      -1\n",
       "28    25957  20484   4113      -1\n",
       "39      902    555  56159      -1\n",
       "45    21531  22044   5181      -1"
      ]
     },
     "execution_count": 44,
     "metadata": {},
     "output_type": "execute_result"
    }
   ],
   "source": [
    "df[df.labels==-1].head()"
   ]
  },
  {
   "cell_type": "code",
   "execution_count": 45,
   "metadata": {},
   "outputs": [
    {
     "data": {
      "image/png": "[encoded data removed]",
      "text/plain": [
       "<Figure size 432x288 with 1 Axes>"
      ]
     },
     "metadata": {
      "needs_background": "light"
     },
     "output_type": "display_data"
    },
    {
     "data": {
      "image/png": "[encoded data removed]",
      "text/plain": [
       "<Figure size 432x288 with 1 Axes>"
      ]
     },
     "metadata": {
      "needs_background": "light"
     },
     "output_type": "display_data"
    }
   ],
   "source": [
    "sns.scatterplot(df.Grocery, df.Fresh, hue=df.labels)\n",
    "plt.show()\n",
    "\n",
    "sns.scatterplot(df.Milk, df.Fresh, hue=df.labels)\n",
    "plt.show()"
   ]
  },
  {
   "cell_type": "code",
   "execution_count": 46,
   "metadata": {},
   "outputs": [
    {
     "data": {
      "text/plain": [
       "Text(0.5, 0, 'Grocery')"
      ]
     },
     "execution_count": 46,
     "metadata": {},
     "output_type": "execute_result"
    },
    {
     "data": {
      "image/png": "[encoded data removed]",
      "text/plain": [
       "<Figure size 576x576 with 1 Axes>"
      ]
     },
     "metadata": {
      "needs_background": "light"
     },
     "output_type": "display_data"
    }
   ],
   "source": [
    "from mpl_toolkits.mplot3d import Axes3D\n",
    "\n",
    "fig = plt.figure(1, figsize=(8, 8))\n",
    "ax = Axes3D(fig, rect=[0, 0, .95, 1], elev=48, azim=134)\n",
    "\n",
    "# plot the points\n",
    "ax.scatter(df.Fresh, df.Milk, df.Grocery,\n",
    "           c=df.labels, edgecolor='k')\n",
    "\n",
    "ax.w_xaxis.set_ticklabels([])\n",
    "ax.w_yaxis.set_ticklabels([])\n",
    "ax.w_zaxis.set_ticklabels([])\n",
    "\n",
    "ax.set_xlabel('Fresh')\n",
    "ax.set_ylabel('Milk')\n",
    "ax.set_zlabel('Grocery')"
   ]
  },
  {
   "cell_type": "code",
   "execution_count": null,
   "metadata": {},
   "outputs": [],
   "source": []
  }
 ],
 "metadata": {
  "kernelspec": {
   "display_name": "Python 3",
   "language": "python",
   "name": "python3"
  },
  "language_info": {
   "codemirror_mode": {
    "name": "ipython",
    "version": 3
   },
   "file_extension": ".py",
   "mimetype": "text/x-python",
   "name": "python",
   "nbconvert_exporter": "python",
   "pygments_lexer": "ipython3",
   "version": "3.7.1"
  }
 },
 "nbformat": 4,
 "nbformat_minor": 2
}
