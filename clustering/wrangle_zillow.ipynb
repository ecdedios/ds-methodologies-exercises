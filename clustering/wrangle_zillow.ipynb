{
 "cells": [
  {
   "cell_type": "markdown",
   "metadata": {},
   "source": [
    "# Environment"
   ]
  },
  {
   "cell_type": "code",
   "execution_count": 1,
   "metadata": {},
   "outputs": [],
   "source": [
    "import pandas as pd\n",
    "import numpy as np\n",
    "import ddfloww as dd\n",
    "import scipy.stats as stats\n",
    "\n",
    "%matplotlib inline\n",
    "import matplotlib.pyplot as plt\n",
    "import seaborn as sns\n",
    "\n",
    "from sklearn.linear_model import LinearRegression\n"
   ]
  },
  {
   "cell_type": "markdown",
   "metadata": {},
   "source": [
    "# Acquisition"
   ]
  },
  {
   "cell_type": "code",
   "execution_count": 2,
   "metadata": {},
   "outputs": [],
   "source": [
    "df = dd.get_zillow()"
   ]
  },
  {
   "cell_type": "markdown",
   "metadata": {},
   "source": [
    "# Preparation"
   ]
  },
  {
   "cell_type": "code",
   "execution_count": 3,
   "metadata": {},
   "outputs": [],
   "source": [
    "df = dd.prep_zillow(df, preq_col=.5, preq_row=.6, cols_to_remove=['parcelid', 'id'], coords_to_validate=['latitude', 'longitude'])"
   ]
  },
  {
   "cell_type": "code",
   "execution_count": 4,
   "metadata": {},
   "outputs": [
    {
     "name": "stdout",
     "output_type": "stream",
     "text": [
      "LinearRegression(copy_X=True, fit_intercept=True, n_jobs=None,\n",
      "         normalize=False)\n",
      "[32683.87758287]\n",
      "[[-0.01046837]]\n",
      "Univariate - final_exam = b + m * exam1\n",
      "    y-intercept (b): 32683.88\n",
      "    coefficient (m): -0.01\n",
      "\n"
     ]
    }
   ],
   "source": [
    "df = dd.impute_missing(df)"
   ]
  },
  {
   "cell_type": "code",
   "execution_count": 5,
   "metadata": {},
   "outputs": [
    {
     "data": {
      "text/html": [
       "<div>\n",
       "<style scoped>\n",
       "    .dataframe tbody tr th:only-of-type {\n",
       "        vertical-align: middle;\n",
       "    }\n",
       "\n",
       "    .dataframe tbody tr th {\n",
       "        vertical-align: top;\n",
       "    }\n",
       "\n",
       "    .dataframe thead th {\n",
       "        text-align: right;\n",
       "    }\n",
       "</style>\n",
       "<table border=\"1\" class=\"dataframe\">\n",
       "  <thead>\n",
       "    <tr style=\"text-align: right;\">\n",
       "      <th></th>\n",
       "      <th>num_missing</th>\n",
       "      <th>missing_percentage</th>\n",
       "      <th>num_empty</th>\n",
       "      <th>empty_percentage</th>\n",
       "      <th>nan_count</th>\n",
       "      <th>nan_percentage</th>\n",
       "    </tr>\n",
       "  </thead>\n",
       "  <tbody>\n",
       "    <tr>\n",
       "      <th>logerror</th>\n",
       "      <td>0</td>\n",
       "      <td>0.000000</td>\n",
       "      <td>0</td>\n",
       "      <td>0.0</td>\n",
       "      <td>0</td>\n",
       "      <td>0.0</td>\n",
       "    </tr>\n",
       "    <tr>\n",
       "      <th>transactiondate</th>\n",
       "      <td>0</td>\n",
       "      <td>0.000000</td>\n",
       "      <td>0</td>\n",
       "      <td>0.0</td>\n",
       "      <td>0</td>\n",
       "      <td>0.0</td>\n",
       "    </tr>\n",
       "    <tr>\n",
       "      <th>bathroomcnt</th>\n",
       "      <td>0</td>\n",
       "      <td>0.000000</td>\n",
       "      <td>0</td>\n",
       "      <td>0.0</td>\n",
       "      <td>0</td>\n",
       "      <td>0.0</td>\n",
       "    </tr>\n",
       "    <tr>\n",
       "      <th>bedroomcnt</th>\n",
       "      <td>0</td>\n",
       "      <td>0.000000</td>\n",
       "      <td>0</td>\n",
       "      <td>0.0</td>\n",
       "      <td>0</td>\n",
       "      <td>0.0</td>\n",
       "    </tr>\n",
       "    <tr>\n",
       "      <th>buildingqualitytypeid</th>\n",
       "      <td>56590</td>\n",
       "      <td>34.809620</td>\n",
       "      <td>0</td>\n",
       "      <td>0.0</td>\n",
       "      <td>0</td>\n",
       "      <td>0.0</td>\n",
       "    </tr>\n",
       "    <tr>\n",
       "      <th>calculatedbathnbr</th>\n",
       "      <td>112</td>\n",
       "      <td>0.068893</td>\n",
       "      <td>0</td>\n",
       "      <td>0.0</td>\n",
       "      <td>0</td>\n",
       "      <td>0.0</td>\n",
       "    </tr>\n",
       "    <tr>\n",
       "      <th>calculatedfinishedsquarefeet</th>\n",
       "      <td>26</td>\n",
       "      <td>0.015993</td>\n",
       "      <td>0</td>\n",
       "      <td>0.0</td>\n",
       "      <td>0</td>\n",
       "      <td>0.0</td>\n",
       "    </tr>\n",
       "    <tr>\n",
       "      <th>finishedsquarefeet12</th>\n",
       "      <td>5699</td>\n",
       "      <td>3.505567</td>\n",
       "      <td>0</td>\n",
       "      <td>0.0</td>\n",
       "      <td>0</td>\n",
       "      <td>0.0</td>\n",
       "    </tr>\n",
       "    <tr>\n",
       "      <th>fips</th>\n",
       "      <td>0</td>\n",
       "      <td>0.000000</td>\n",
       "      <td>0</td>\n",
       "      <td>0.0</td>\n",
       "      <td>0</td>\n",
       "      <td>0.0</td>\n",
       "    </tr>\n",
       "    <tr>\n",
       "      <th>fullbathcnt</th>\n",
       "      <td>112</td>\n",
       "      <td>0.068893</td>\n",
       "      <td>0</td>\n",
       "      <td>0.0</td>\n",
       "      <td>0</td>\n",
       "      <td>0.0</td>\n",
       "    </tr>\n",
       "    <tr>\n",
       "      <th>heatingorsystemtypeid</th>\n",
       "      <td>57129</td>\n",
       "      <td>35.141170</td>\n",
       "      <td>0</td>\n",
       "      <td>0.0</td>\n",
       "      <td>0</td>\n",
       "      <td>0.0</td>\n",
       "    </tr>\n",
       "    <tr>\n",
       "      <th>latitude</th>\n",
       "      <td>0</td>\n",
       "      <td>0.000000</td>\n",
       "      <td>0</td>\n",
       "      <td>0.0</td>\n",
       "      <td>0</td>\n",
       "      <td>0.0</td>\n",
       "    </tr>\n",
       "    <tr>\n",
       "      <th>longitude</th>\n",
       "      <td>0</td>\n",
       "      <td>0.000000</td>\n",
       "      <td>0</td>\n",
       "      <td>0.0</td>\n",
       "      <td>0</td>\n",
       "      <td>0.0</td>\n",
       "    </tr>\n",
       "    <tr>\n",
       "      <th>lotsizesquarefeet</th>\n",
       "      <td>0</td>\n",
       "      <td>0.000000</td>\n",
       "      <td>0</td>\n",
       "      <td>0.0</td>\n",
       "      <td>0</td>\n",
       "      <td>0.0</td>\n",
       "    </tr>\n",
       "    <tr>\n",
       "      <th>propertycountylandusecode</th>\n",
       "      <td>1</td>\n",
       "      <td>0.000615</td>\n",
       "      <td>0</td>\n",
       "      <td>0.0</td>\n",
       "      <td>0</td>\n",
       "      <td>0.0</td>\n",
       "    </tr>\n",
       "    <tr>\n",
       "      <th>propertylandusetypeid</th>\n",
       "      <td>0</td>\n",
       "      <td>0.000000</td>\n",
       "      <td>0</td>\n",
       "      <td>0.0</td>\n",
       "      <td>0</td>\n",
       "      <td>0.0</td>\n",
       "    </tr>\n",
       "    <tr>\n",
       "      <th>propertyzoningdesc</th>\n",
       "      <td>55503</td>\n",
       "      <td>34.140985</td>\n",
       "      <td>0</td>\n",
       "      <td>0.0</td>\n",
       "      <td>0</td>\n",
       "      <td>0.0</td>\n",
       "    </tr>\n",
       "    <tr>\n",
       "      <th>rawcensustractandblock</th>\n",
       "      <td>0</td>\n",
       "      <td>0.000000</td>\n",
       "      <td>0</td>\n",
       "      <td>0.0</td>\n",
       "      <td>0</td>\n",
       "      <td>0.0</td>\n",
       "    </tr>\n",
       "    <tr>\n",
       "      <th>regionidcity</th>\n",
       "      <td>3087</td>\n",
       "      <td>1.898874</td>\n",
       "      <td>0</td>\n",
       "      <td>0.0</td>\n",
       "      <td>0</td>\n",
       "      <td>0.0</td>\n",
       "    </tr>\n",
       "    <tr>\n",
       "      <th>regionidcounty</th>\n",
       "      <td>0</td>\n",
       "      <td>0.000000</td>\n",
       "      <td>0</td>\n",
       "      <td>0.0</td>\n",
       "      <td>0</td>\n",
       "      <td>0.0</td>\n",
       "    </tr>\n",
       "    <tr>\n",
       "      <th>regionidzip</th>\n",
       "      <td>58</td>\n",
       "      <td>0.035677</td>\n",
       "      <td>0</td>\n",
       "      <td>0.0</td>\n",
       "      <td>0</td>\n",
       "      <td>0.0</td>\n",
       "    </tr>\n",
       "    <tr>\n",
       "      <th>roomcnt</th>\n",
       "      <td>0</td>\n",
       "      <td>0.000000</td>\n",
       "      <td>0</td>\n",
       "      <td>0.0</td>\n",
       "      <td>0</td>\n",
       "      <td>0.0</td>\n",
       "    </tr>\n",
       "    <tr>\n",
       "      <th>unitcnt</th>\n",
       "      <td>55366</td>\n",
       "      <td>34.056714</td>\n",
       "      <td>0</td>\n",
       "      <td>0.0</td>\n",
       "      <td>0</td>\n",
       "      <td>0.0</td>\n",
       "    </tr>\n",
       "    <tr>\n",
       "      <th>yearbuilt</th>\n",
       "      <td>133</td>\n",
       "      <td>0.081811</td>\n",
       "      <td>0</td>\n",
       "      <td>0.0</td>\n",
       "      <td>0</td>\n",
       "      <td>0.0</td>\n",
       "    </tr>\n",
       "    <tr>\n",
       "      <th>structuretaxvaluedollarcnt</th>\n",
       "      <td>155</td>\n",
       "      <td>0.095344</td>\n",
       "      <td>0</td>\n",
       "      <td>0.0</td>\n",
       "      <td>0</td>\n",
       "      <td>0.0</td>\n",
       "    </tr>\n",
       "    <tr>\n",
       "      <th>taxvaluedollarcnt</th>\n",
       "      <td>2</td>\n",
       "      <td>0.001230</td>\n",
       "      <td>0</td>\n",
       "      <td>0.0</td>\n",
       "      <td>0</td>\n",
       "      <td>0.0</td>\n",
       "    </tr>\n",
       "    <tr>\n",
       "      <th>assessmentyear</th>\n",
       "      <td>0</td>\n",
       "      <td>0.000000</td>\n",
       "      <td>0</td>\n",
       "      <td>0.0</td>\n",
       "      <td>0</td>\n",
       "      <td>0.0</td>\n",
       "    </tr>\n",
       "    <tr>\n",
       "      <th>landtaxvaluedollarcnt</th>\n",
       "      <td>2</td>\n",
       "      <td>0.001230</td>\n",
       "      <td>0</td>\n",
       "      <td>0.0</td>\n",
       "      <td>0</td>\n",
       "      <td>0.0</td>\n",
       "    </tr>\n",
       "    <tr>\n",
       "      <th>taxamount</th>\n",
       "      <td>11</td>\n",
       "      <td>0.006766</td>\n",
       "      <td>0</td>\n",
       "      <td>0.0</td>\n",
       "      <td>0</td>\n",
       "      <td>0.0</td>\n",
       "    </tr>\n",
       "    <tr>\n",
       "      <th>censustractandblock</th>\n",
       "      <td>436</td>\n",
       "      <td>0.268192</td>\n",
       "      <td>0</td>\n",
       "      <td>0.0</td>\n",
       "      <td>0</td>\n",
       "      <td>0.0</td>\n",
       "    </tr>\n",
       "    <tr>\n",
       "      <th>propertylandusedesc</th>\n",
       "      <td>0</td>\n",
       "      <td>0.000000</td>\n",
       "      <td>0</td>\n",
       "      <td>0.0</td>\n",
       "      <td>0</td>\n",
       "      <td>0.0</td>\n",
       "    </tr>\n",
       "    <tr>\n",
       "      <th>heatingorsystemdesc</th>\n",
       "      <td>57129</td>\n",
       "      <td>35.141170</td>\n",
       "      <td>0</td>\n",
       "      <td>0.0</td>\n",
       "      <td>0</td>\n",
       "      <td>0.0</td>\n",
       "    </tr>\n",
       "  </tbody>\n",
       "</table>\n",
       "</div>"
      ],
      "text/plain": [
       "                              num_missing  missing_percentage  num_empty  \\\n",
       "logerror                                0            0.000000          0   \n",
       "transactiondate                         0            0.000000          0   \n",
       "bathroomcnt                             0            0.000000          0   \n",
       "bedroomcnt                              0            0.000000          0   \n",
       "buildingqualitytypeid               56590           34.809620          0   \n",
       "calculatedbathnbr                     112            0.068893          0   \n",
       "calculatedfinishedsquarefeet           26            0.015993          0   \n",
       "finishedsquarefeet12                 5699            3.505567          0   \n",
       "fips                                    0            0.000000          0   \n",
       "fullbathcnt                           112            0.068893          0   \n",
       "heatingorsystemtypeid               57129           35.141170          0   \n",
       "latitude                                0            0.000000          0   \n",
       "longitude                               0            0.000000          0   \n",
       "lotsizesquarefeet                       0            0.000000          0   \n",
       "propertycountylandusecode               1            0.000615          0   \n",
       "propertylandusetypeid                   0            0.000000          0   \n",
       "propertyzoningdesc                  55503           34.140985          0   \n",
       "rawcensustractandblock                  0            0.000000          0   \n",
       "regionidcity                         3087            1.898874          0   \n",
       "regionidcounty                          0            0.000000          0   \n",
       "regionidzip                            58            0.035677          0   \n",
       "roomcnt                                 0            0.000000          0   \n",
       "unitcnt                             55366           34.056714          0   \n",
       "yearbuilt                             133            0.081811          0   \n",
       "structuretaxvaluedollarcnt            155            0.095344          0   \n",
       "taxvaluedollarcnt                       2            0.001230          0   \n",
       "assessmentyear                          0            0.000000          0   \n",
       "landtaxvaluedollarcnt                   2            0.001230          0   \n",
       "taxamount                              11            0.006766          0   \n",
       "censustractandblock                   436            0.268192          0   \n",
       "propertylandusedesc                     0            0.000000          0   \n",
       "heatingorsystemdesc                 57129           35.141170          0   \n",
       "\n",
       "                              empty_percentage  nan_count  nan_percentage  \n",
       "logerror                                   0.0          0             0.0  \n",
       "transactiondate                            0.0          0             0.0  \n",
       "bathroomcnt                                0.0          0             0.0  \n",
       "bedroomcnt                                 0.0          0             0.0  \n",
       "buildingqualitytypeid                      0.0          0             0.0  \n",
       "calculatedbathnbr                          0.0          0             0.0  \n",
       "calculatedfinishedsquarefeet               0.0          0             0.0  \n",
       "finishedsquarefeet12                       0.0          0             0.0  \n",
       "fips                                       0.0          0             0.0  \n",
       "fullbathcnt                                0.0          0             0.0  \n",
       "heatingorsystemtypeid                      0.0          0             0.0  \n",
       "latitude                                   0.0          0             0.0  \n",
       "longitude                                  0.0          0             0.0  \n",
       "lotsizesquarefeet                          0.0          0             0.0  \n",
       "propertycountylandusecode                  0.0          0             0.0  \n",
       "propertylandusetypeid                      0.0          0             0.0  \n",
       "propertyzoningdesc                         0.0          0             0.0  \n",
       "rawcensustractandblock                     0.0          0             0.0  \n",
       "regionidcity                               0.0          0             0.0  \n",
       "regionidcounty                             0.0          0             0.0  \n",
       "regionidzip                                0.0          0             0.0  \n",
       "roomcnt                                    0.0          0             0.0  \n",
       "unitcnt                                    0.0          0             0.0  \n",
       "yearbuilt                                  0.0          0             0.0  \n",
       "structuretaxvaluedollarcnt                 0.0          0             0.0  \n",
       "taxvaluedollarcnt                          0.0          0             0.0  \n",
       "assessmentyear                             0.0          0             0.0  \n",
       "landtaxvaluedollarcnt                      0.0          0             0.0  \n",
       "taxamount                                  0.0          0             0.0  \n",
       "censustractandblock                        0.0          0             0.0  \n",
       "propertylandusedesc                        0.0          0             0.0  \n",
       "heatingorsystemdesc                        0.0          0             0.0  "
      ]
     },
     "execution_count": 5,
     "metadata": {},
     "output_type": "execute_result"
    }
   ],
   "source": [
    "dd.missing_values_col(df)"
   ]
  },
  {
   "cell_type": "code",
   "execution_count": null,
   "metadata": {},
   "outputs": [],
   "source": []
  },
  {
   "cell_type": "code",
   "execution_count": null,
   "metadata": {},
   "outputs": [],
   "source": [
    "# at this point, none would benefit by imputing with zeroes"
   ]
  },
  {
   "cell_type": "code",
   "execution_count": null,
   "metadata": {},
   "outputs": [],
   "source": [
    "# remove the rows that cannot be reasonably imputed.\n",
    "df = df.dropna()"
   ]
  },
  {
   "cell_type": "code",
   "execution_count": null,
   "metadata": {},
   "outputs": [],
   "source": [
    "dd.missing_values_col(df)"
   ]
  },
  {
   "cell_type": "code",
   "execution_count": null,
   "metadata": {},
   "outputs": [],
   "source": [
    "dd.missing_values_row(df)"
   ]
  },
  {
   "cell_type": "code",
   "execution_count": null,
   "metadata": {},
   "outputs": [],
   "source": [
    "df.info()"
   ]
  },
  {
   "cell_type": "code",
   "execution_count": null,
   "metadata": {},
   "outputs": [],
   "source": [
    "df = dd.convert_to_string(df, 'buildingqualitytypeid', 'fips', 'heatingorsystemtypeid',\n",
    "                         'propertylandusetypeid', 'regionidcity', 'regionidcounty',\n",
    "                         'regionidzip', 'censustractandblock')"
   ]
  },
  {
   "cell_type": "code",
   "execution_count": null,
   "metadata": {},
   "outputs": [],
   "source": [
    "df = dd.convert_to_int(df, 'yearbuilt', 'assessmentyear')"
   ]
  },
  {
   "cell_type": "code",
   "execution_count": null,
   "metadata": {},
   "outputs": [],
   "source": [
    "df.info()"
   ]
  },
  {
   "cell_type": "code",
   "execution_count": null,
   "metadata": {},
   "outputs": [],
   "source": [
    "# Remove outliers and nonsensical observations\n",
    "# TODO: do this using function with for loop\n",
    "df = df[df.bathroomcnt <= 12.5]\n",
    "df = df[df.bathroomcnt <= 12.5]\n",
    "df = df[df.calculatedfinishedsquarefeet <= 14000]\n",
    "df = df[df.fullbathcnt <= 12.5]\n",
    "df = df[df.taxvaluedollarcnt <= 20000000.0]\n",
    "df = df[df.taxamount <= 200000]\n",
    "df = df[df.bedroomcnt <= 8]"
   ]
  },
  {
   "cell_type": "markdown",
   "metadata": {},
   "source": [
    "# Exploration"
   ]
  },
  {
   "cell_type": "code",
   "execution_count": null,
   "metadata": {},
   "outputs": [],
   "source": [
    "tbl = pd.crosstab(df['fips'], df['regionidcounty'])\n",
    "\n",
    "stat, p, dof, expected = stats.chi2_contingency(tbl)\n",
    "p"
   ]
  },
  {
   "cell_type": "code",
   "execution_count": null,
   "metadata": {},
   "outputs": [],
   "source": [
    "tbl = pd.crosstab(df['heatingorsystemtypeid'], df['heatingorsystemdesc'])\n",
    "\n",
    "stat, p, dof, expected = stats.chi2_contingency(tbl)\n",
    "p"
   ]
  },
  {
   "cell_type": "code",
   "execution_count": null,
   "metadata": {},
   "outputs": [],
   "source": [
    "df = dd.remove_columns(df, cols_to_remove=['finishedsquarefeet12', 'fullbathcnt', 'fips',\n",
    "                                           'heatingorsystemtypeid', 'propertylandusetypeid',\n",
    "                                           'rawcensustractandblock', 'regionidcity',\n",
    "                                           'structuretaxvaluedollarcnt', 'taxvaluedollarcnt',\n",
    "                                           'taxamount', 'bathroomcnt', 'bedroomcnt',\n",
    "                                           ])"
   ]
  },
  {
   "cell_type": "code",
   "execution_count": null,
   "metadata": {},
   "outputs": [],
   "source": [
    "num_cols = df.select_dtypes(include='number').columns.tolist()\n",
    "num_cols"
   ]
  },
  {
   "cell_type": "code",
   "execution_count": null,
   "metadata": {},
   "outputs": [],
   "source": [
    "str_cols = df.select_dtypes(exclude='number').columns.tolist()\n",
    "str_cols"
   ]
  },
  {
   "cell_type": "code",
   "execution_count": null,
   "metadata": {},
   "outputs": [],
   "source": [
    "all_cols = num_cols + str_cols\n",
    "all_cols"
   ]
  },
  {
   "cell_type": "code",
   "execution_count": null,
   "metadata": {},
   "outputs": [],
   "source": [
    "df = dd.standardize_data(df, columns=['logerror', 'fullbathcnt', 'latitude',\n",
    "                      'longitude', 'lotsizesquarefeet', 'roomcnt',\n",
    "                      'unitcnt', 'yearbuilt', 'landtaxvaluedollarcnt'])"
   ]
  },
  {
   "cell_type": "code",
   "execution_count": null,
   "metadata": {},
   "outputs": [],
   "source": [
    "dd.plot_hist(df)"
   ]
  },
  {
   "cell_type": "code",
   "execution_count": null,
   "metadata": {},
   "outputs": [],
   "source": [
    "dd.plot_pairs(df, num_cols)"
   ]
  },
  {
   "cell_type": "code",
   "execution_count": null,
   "metadata": {},
   "outputs": [],
   "source": [
    "df_heat = df[num_cols]\n",
    "dd.plot_heat(df_heat)"
   ]
  },
  {
   "cell_type": "code",
   "execution_count": null,
   "metadata": {},
   "outputs": [],
   "source": [
    "df.propertylandusedesc.value_counts()"
   ]
  },
  {
   "cell_type": "code",
   "execution_count": null,
   "metadata": {},
   "outputs": [],
   "source": [
    "df = dd.remove_columns(df, cols_to_remove=['calculatedfinishedsquarefeet', 'finishedsquarefeet12',\n",
    "                                           'fips', 'heatingorsystemtypeid', 'propertylandusetypeid',\n",
    "                                           'rawcensustractandblock', 'regionidcity', 'structuretaxvaluedollarcnt',\n",
    "                                           'taxvaluedollarcnt', 'taxamount', 'bathroomcnt', 'bedroomcnt',\n",
    "                                           'calculatedbathnbr'])"
   ]
  }
 ],
 "metadata": {
  "kernelspec": {
   "display_name": "Python 3",
   "language": "python",
   "name": "python3"
  },
  "language_info": {
   "codemirror_mode": {
    "name": "ipython",
    "version": 3
   },
   "file_extension": ".py",
   "mimetype": "text/x-python",
   "name": "python",
   "nbconvert_exporter": "python",
   "pygments_lexer": "ipython3",
   "version": "3.7.1"
  }
 },
 "nbformat": 4,
 "nbformat_minor": 2
}
