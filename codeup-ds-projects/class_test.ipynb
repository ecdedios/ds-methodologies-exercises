{
 "cells": [
  {
   "cell_type": "code",
   "execution_count": 1,
   "metadata": {},
   "outputs": [],
   "source": [
    "# imports\n",
    "\n",
    "# ignore warnings\n",
    "import warnings\n",
    "warnings.filterwarnings(\"ignore\")\n",
    "\n",
    "# Wrangling\n",
    "import pandas as pd\n",
    "import numpy as np\n",
    "\n",
    "# Exploring\n",
    "import scipy.stats as stats\n",
    "\n",
    "# Visualizing\n",
    "%matplotlib inline\n",
    "import matplotlib.pyplot as plt\n",
    "import seaborn as sns\n",
    "\n",
    "# Modeling\n",
    "import statsmodels.api as sm\n",
    "\n",
    "from scipy.stats import pearsonr\n",
    "\n",
    "from sklearn.model_selection import train_test_split\n",
    "from sklearn.linear_model import LinearRegression\n",
    "from sklearn.metrics import mean_squared_error, r2_score, mean_absolute_error, median_absolute_error"
   ]
  },
  {
   "cell_type": "code",
   "execution_count": 2,
   "metadata": {},
   "outputs": [],
   "source": [
    "full_df1 = pd.read_csv('properties_2016.csv')\n",
    "full_df2 = pd.read_csv('train_2016_v2.csv')"
   ]
  },
  {
   "cell_type": "code",
   "execution_count": 3,
   "metadata": {},
   "outputs": [
    {
     "name": "stdout",
     "output_type": "stream",
     "text": [
      "Shape: (2985217, 58)\n",
      "Unique: 2985217\n"
     ]
    }
   ],
   "source": [
    "print(f'Shape: {full_df1.shape}')\n",
    "print(f'Unique: {full_df1.parcelid.nunique()}')"
   ]
  },
  {
   "cell_type": "code",
   "execution_count": 4,
   "metadata": {},
   "outputs": [
    {
     "data": {
      "text/plain": [
       "Index(['parcelid', 'airconditioningtypeid', 'architecturalstyletypeid',\n",
       "       'basementsqft', 'bathroomcnt', 'bedroomcnt', 'buildingclasstypeid',\n",
       "       'buildingqualitytypeid', 'calculatedbathnbr', 'decktypeid',\n",
       "       'finishedfloor1squarefeet', 'calculatedfinishedsquarefeet',\n",
       "       'finishedsquarefeet12', 'finishedsquarefeet13', 'finishedsquarefeet15',\n",
       "       'finishedsquarefeet50', 'finishedsquarefeet6', 'fips', 'fireplacecnt',\n",
       "       'fullbathcnt', 'garagecarcnt', 'garagetotalsqft', 'hashottuborspa',\n",
       "       'heatingorsystemtypeid', 'latitude', 'longitude', 'lotsizesquarefeet',\n",
       "       'poolcnt', 'poolsizesum', 'pooltypeid10', 'pooltypeid2', 'pooltypeid7',\n",
       "       'propertycountylandusecode', 'propertylandusetypeid',\n",
       "       'propertyzoningdesc', 'rawcensustractandblock', 'regionidcity',\n",
       "       'regionidcounty', 'regionidneighborhood', 'regionidzip', 'roomcnt',\n",
       "       'storytypeid', 'threequarterbathnbr', 'typeconstructiontypeid',\n",
       "       'unitcnt', 'yardbuildingsqft17', 'yardbuildingsqft26', 'yearbuilt',\n",
       "       'numberofstories', 'fireplaceflag', 'structuretaxvaluedollarcnt',\n",
       "       'taxvaluedollarcnt', 'assessmentyear', 'landtaxvaluedollarcnt',\n",
       "       'taxamount', 'taxdelinquencyflag', 'taxdelinquencyyear',\n",
       "       'censustractandblock'],\n",
       "      dtype='object')"
      ]
     },
     "execution_count": 4,
     "metadata": {},
     "output_type": "execute_result"
    }
   ],
   "source": [
    "full_df1.columns"
   ]
  },
  {
   "cell_type": "markdown",
   "metadata": {},
   "source": [
    "We're looking for things in Zillow's model that are causing problems\n",
    "\n",
    "* What if the null rows are a factor of why the error is what it is\n",
    "* Polynomial??\n",
    "* Zipcodes - bin/group them?\n",
    "\n",
    "Duplicates\n",
    "* wtf do we do with them\n",
    "* Newer homes have lower error - so take the most recent date parcelid\n",
    "\n",
    "Hypotheses:\n",
    "* Null values are negativly affecting logerror?\n",
    "* Does the year built affect the tax assessed value?\n",
    "* Further distance from mean of taxassessment increases logerror?\n",
    "* Flipped homes causing variance?\n",
    "\n",
    "\n",
    "Feature Engineering\n",
    "* Tax Assessment per sqft\n",
    "* Actual room count\n",
    "* Tax Assessment per lotsize"
   ]
  },
  {
   "cell_type": "code",
   "execution_count": 5,
   "metadata": {},
   "outputs": [
    {
     "data": {
      "text/plain": [
       "(90275, 60)"
      ]
     },
     "execution_count": 5,
     "metadata": {},
     "output_type": "execute_result"
    }
   ],
   "source": [
    "df4 = full_df1.merge(full_df2, on='parcelid',how='inner')\n",
    "df4.shape"
   ]
  },
  {
   "cell_type": "code",
   "execution_count": 6,
   "metadata": {},
   "outputs": [
    {
     "data": {
      "text/html": [
       "<div>\n",
       "<style scoped>\n",
       "    .dataframe tbody tr th:only-of-type {\n",
       "        vertical-align: middle;\n",
       "    }\n",
       "\n",
       "    .dataframe tbody tr th {\n",
       "        vertical-align: top;\n",
       "    }\n",
       "\n",
       "    .dataframe thead th {\n",
       "        text-align: right;\n",
       "    }\n",
       "</style>\n",
       "<table border=\"1\" class=\"dataframe\">\n",
       "  <thead>\n",
       "    <tr style=\"text-align: right;\">\n",
       "      <th></th>\n",
       "      <th>parcelid</th>\n",
       "      <th>airconditioningtypeid</th>\n",
       "      <th>architecturalstyletypeid</th>\n",
       "      <th>basementsqft</th>\n",
       "      <th>bathroomcnt</th>\n",
       "      <th>bedroomcnt</th>\n",
       "      <th>buildingclasstypeid</th>\n",
       "      <th>buildingqualitytypeid</th>\n",
       "      <th>calculatedbathnbr</th>\n",
       "      <th>decktypeid</th>\n",
       "      <th>...</th>\n",
       "      <th>structuretaxvaluedollarcnt</th>\n",
       "      <th>taxvaluedollarcnt</th>\n",
       "      <th>assessmentyear</th>\n",
       "      <th>landtaxvaluedollarcnt</th>\n",
       "      <th>taxamount</th>\n",
       "      <th>taxdelinquencyflag</th>\n",
       "      <th>taxdelinquencyyear</th>\n",
       "      <th>censustractandblock</th>\n",
       "      <th>logerror</th>\n",
       "      <th>transactiondate</th>\n",
       "    </tr>\n",
       "  </thead>\n",
       "  <tbody>\n",
       "    <tr>\n",
       "      <th>0</th>\n",
       "      <td>17073783</td>\n",
       "      <td>NaN</td>\n",
       "      <td>NaN</td>\n",
       "      <td>NaN</td>\n",
       "      <td>2.5</td>\n",
       "      <td>3.0</td>\n",
       "      <td>NaN</td>\n",
       "      <td>NaN</td>\n",
       "      <td>2.5</td>\n",
       "      <td>NaN</td>\n",
       "      <td>...</td>\n",
       "      <td>115087.0</td>\n",
       "      <td>191811.0</td>\n",
       "      <td>2015.0</td>\n",
       "      <td>76724.0</td>\n",
       "      <td>2015.06</td>\n",
       "      <td>NaN</td>\n",
       "      <td>NaN</td>\n",
       "      <td>6.111002e+13</td>\n",
       "      <td>0.0953</td>\n",
       "      <td>2016-01-27</td>\n",
       "    </tr>\n",
       "    <tr>\n",
       "      <th>1</th>\n",
       "      <td>17088994</td>\n",
       "      <td>NaN</td>\n",
       "      <td>NaN</td>\n",
       "      <td>NaN</td>\n",
       "      <td>1.0</td>\n",
       "      <td>2.0</td>\n",
       "      <td>NaN</td>\n",
       "      <td>NaN</td>\n",
       "      <td>1.0</td>\n",
       "      <td>NaN</td>\n",
       "      <td>...</td>\n",
       "      <td>143809.0</td>\n",
       "      <td>239679.0</td>\n",
       "      <td>2015.0</td>\n",
       "      <td>95870.0</td>\n",
       "      <td>2581.30</td>\n",
       "      <td>NaN</td>\n",
       "      <td>NaN</td>\n",
       "      <td>6.111002e+13</td>\n",
       "      <td>0.0198</td>\n",
       "      <td>2016-03-30</td>\n",
       "    </tr>\n",
       "    <tr>\n",
       "      <th>2</th>\n",
       "      <td>17100444</td>\n",
       "      <td>NaN</td>\n",
       "      <td>NaN</td>\n",
       "      <td>NaN</td>\n",
       "      <td>2.0</td>\n",
       "      <td>3.0</td>\n",
       "      <td>NaN</td>\n",
       "      <td>NaN</td>\n",
       "      <td>2.0</td>\n",
       "      <td>NaN</td>\n",
       "      <td>...</td>\n",
       "      <td>33619.0</td>\n",
       "      <td>47853.0</td>\n",
       "      <td>2015.0</td>\n",
       "      <td>14234.0</td>\n",
       "      <td>591.64</td>\n",
       "      <td>NaN</td>\n",
       "      <td>NaN</td>\n",
       "      <td>6.111001e+13</td>\n",
       "      <td>0.0060</td>\n",
       "      <td>2016-05-27</td>\n",
       "    </tr>\n",
       "    <tr>\n",
       "      <th>3</th>\n",
       "      <td>17102429</td>\n",
       "      <td>NaN</td>\n",
       "      <td>NaN</td>\n",
       "      <td>NaN</td>\n",
       "      <td>1.5</td>\n",
       "      <td>2.0</td>\n",
       "      <td>NaN</td>\n",
       "      <td>NaN</td>\n",
       "      <td>1.5</td>\n",
       "      <td>NaN</td>\n",
       "      <td>...</td>\n",
       "      <td>45609.0</td>\n",
       "      <td>62914.0</td>\n",
       "      <td>2015.0</td>\n",
       "      <td>17305.0</td>\n",
       "      <td>682.78</td>\n",
       "      <td>NaN</td>\n",
       "      <td>NaN</td>\n",
       "      <td>6.111001e+13</td>\n",
       "      <td>-0.0566</td>\n",
       "      <td>2016-06-07</td>\n",
       "    </tr>\n",
       "    <tr>\n",
       "      <th>4</th>\n",
       "      <td>17109604</td>\n",
       "      <td>NaN</td>\n",
       "      <td>NaN</td>\n",
       "      <td>NaN</td>\n",
       "      <td>2.5</td>\n",
       "      <td>4.0</td>\n",
       "      <td>NaN</td>\n",
       "      <td>NaN</td>\n",
       "      <td>2.5</td>\n",
       "      <td>NaN</td>\n",
       "      <td>...</td>\n",
       "      <td>277000.0</td>\n",
       "      <td>554000.0</td>\n",
       "      <td>2015.0</td>\n",
       "      <td>277000.0</td>\n",
       "      <td>5886.92</td>\n",
       "      <td>NaN</td>\n",
       "      <td>NaN</td>\n",
       "      <td>6.111001e+13</td>\n",
       "      <td>0.0573</td>\n",
       "      <td>2016-08-08</td>\n",
       "    </tr>\n",
       "  </tbody>\n",
       "</table>\n",
       "<p>5 rows × 60 columns</p>\n",
       "</div>"
      ],
      "text/plain": [
       "   parcelid  airconditioningtypeid  architecturalstyletypeid  basementsqft  \\\n",
       "0  17073783                    NaN                       NaN           NaN   \n",
       "1  17088994                    NaN                       NaN           NaN   \n",
       "2  17100444                    NaN                       NaN           NaN   \n",
       "3  17102429                    NaN                       NaN           NaN   \n",
       "4  17109604                    NaN                       NaN           NaN   \n",
       "\n",
       "   bathroomcnt  bedroomcnt  buildingclasstypeid  buildingqualitytypeid  \\\n",
       "0          2.5         3.0                  NaN                    NaN   \n",
       "1          1.0         2.0                  NaN                    NaN   \n",
       "2          2.0         3.0                  NaN                    NaN   \n",
       "3          1.5         2.0                  NaN                    NaN   \n",
       "4          2.5         4.0                  NaN                    NaN   \n",
       "\n",
       "   calculatedbathnbr  decktypeid       ...         structuretaxvaluedollarcnt  \\\n",
       "0                2.5         NaN       ...                           115087.0   \n",
       "1                1.0         NaN       ...                           143809.0   \n",
       "2                2.0         NaN       ...                            33619.0   \n",
       "3                1.5         NaN       ...                            45609.0   \n",
       "4                2.5         NaN       ...                           277000.0   \n",
       "\n",
       "   taxvaluedollarcnt  assessmentyear  landtaxvaluedollarcnt  taxamount  \\\n",
       "0           191811.0          2015.0                76724.0    2015.06   \n",
       "1           239679.0          2015.0                95870.0    2581.30   \n",
       "2            47853.0          2015.0                14234.0     591.64   \n",
       "3            62914.0          2015.0                17305.0     682.78   \n",
       "4           554000.0          2015.0               277000.0    5886.92   \n",
       "\n",
       "   taxdelinquencyflag  taxdelinquencyyear  censustractandblock  logerror  \\\n",
       "0                 NaN                 NaN         6.111002e+13    0.0953   \n",
       "1                 NaN                 NaN         6.111002e+13    0.0198   \n",
       "2                 NaN                 NaN         6.111001e+13    0.0060   \n",
       "3                 NaN                 NaN         6.111001e+13   -0.0566   \n",
       "4                 NaN                 NaN         6.111001e+13    0.0573   \n",
       "\n",
       "   transactiondate  \n",
       "0       2016-01-27  \n",
       "1       2016-03-30  \n",
       "2       2016-05-27  \n",
       "3       2016-06-07  \n",
       "4       2016-08-08  \n",
       "\n",
       "[5 rows x 60 columns]"
      ]
     },
     "execution_count": 6,
     "metadata": {},
     "output_type": "execute_result"
    }
   ],
   "source": [
    "df4.head()"
   ]
  },
  {
   "cell_type": "code",
   "execution_count": 7,
   "metadata": {},
   "outputs": [],
   "source": [
    "df = df4[['logerror', 'bathroomcnt', 'bedroomcnt', 'calculatedfinishedsquarefeet',\\\n",
    "          'lotsizesquarefeet', 'yearbuilt', 'taxvaluedollarcnt', 'regionidzip', 'landtaxvaluedollarcnt']]"
   ]
  },
  {
   "cell_type": "code",
   "execution_count": 8,
   "metadata": {},
   "outputs": [
    {
     "data": {
      "text/html": [
       "<div>\n",
       "<style scoped>\n",
       "    .dataframe tbody tr th:only-of-type {\n",
       "        vertical-align: middle;\n",
       "    }\n",
       "\n",
       "    .dataframe tbody tr th {\n",
       "        vertical-align: top;\n",
       "    }\n",
       "\n",
       "    .dataframe thead th {\n",
       "        text-align: right;\n",
       "    }\n",
       "</style>\n",
       "<table border=\"1\" class=\"dataframe\">\n",
       "  <thead>\n",
       "    <tr style=\"text-align: right;\">\n",
       "      <th></th>\n",
       "      <th>logerror</th>\n",
       "      <th>bathroomcnt</th>\n",
       "      <th>bedroomcnt</th>\n",
       "      <th>calculatedfinishedsquarefeet</th>\n",
       "      <th>lotsizesquarefeet</th>\n",
       "      <th>yearbuilt</th>\n",
       "      <th>taxvaluedollarcnt</th>\n",
       "      <th>regionidzip</th>\n",
       "      <th>landtaxvaluedollarcnt</th>\n",
       "    </tr>\n",
       "  </thead>\n",
       "  <tbody>\n",
       "    <tr>\n",
       "      <th>0</th>\n",
       "      <td>0.0953</td>\n",
       "      <td>2.5</td>\n",
       "      <td>3.0</td>\n",
       "      <td>1264.0</td>\n",
       "      <td>1735.0</td>\n",
       "      <td>1986.0</td>\n",
       "      <td>191811.0</td>\n",
       "      <td>97081.0</td>\n",
       "      <td>76724.0</td>\n",
       "    </tr>\n",
       "    <tr>\n",
       "      <th>1</th>\n",
       "      <td>0.0198</td>\n",
       "      <td>1.0</td>\n",
       "      <td>2.0</td>\n",
       "      <td>777.0</td>\n",
       "      <td>NaN</td>\n",
       "      <td>1990.0</td>\n",
       "      <td>239679.0</td>\n",
       "      <td>97083.0</td>\n",
       "      <td>95870.0</td>\n",
       "    </tr>\n",
       "    <tr>\n",
       "      <th>2</th>\n",
       "      <td>0.0060</td>\n",
       "      <td>2.0</td>\n",
       "      <td>3.0</td>\n",
       "      <td>1101.0</td>\n",
       "      <td>6569.0</td>\n",
       "      <td>1956.0</td>\n",
       "      <td>47853.0</td>\n",
       "      <td>97113.0</td>\n",
       "      <td>14234.0</td>\n",
       "    </tr>\n",
       "    <tr>\n",
       "      <th>3</th>\n",
       "      <td>-0.0566</td>\n",
       "      <td>1.5</td>\n",
       "      <td>2.0</td>\n",
       "      <td>1554.0</td>\n",
       "      <td>7400.0</td>\n",
       "      <td>1965.0</td>\n",
       "      <td>62914.0</td>\n",
       "      <td>97113.0</td>\n",
       "      <td>17305.0</td>\n",
       "    </tr>\n",
       "    <tr>\n",
       "      <th>4</th>\n",
       "      <td>0.0573</td>\n",
       "      <td>2.5</td>\n",
       "      <td>4.0</td>\n",
       "      <td>2415.0</td>\n",
       "      <td>6326.0</td>\n",
       "      <td>1984.0</td>\n",
       "      <td>554000.0</td>\n",
       "      <td>97084.0</td>\n",
       "      <td>277000.0</td>\n",
       "    </tr>\n",
       "  </tbody>\n",
       "</table>\n",
       "</div>"
      ],
      "text/plain": [
       "   logerror  bathroomcnt  bedroomcnt  calculatedfinishedsquarefeet  \\\n",
       "0    0.0953          2.5         3.0                        1264.0   \n",
       "1    0.0198          1.0         2.0                         777.0   \n",
       "2    0.0060          2.0         3.0                        1101.0   \n",
       "3   -0.0566          1.5         2.0                        1554.0   \n",
       "4    0.0573          2.5         4.0                        2415.0   \n",
       "\n",
       "   lotsizesquarefeet  yearbuilt  taxvaluedollarcnt  regionidzip  \\\n",
       "0             1735.0     1986.0           191811.0      97081.0   \n",
       "1                NaN     1990.0           239679.0      97083.0   \n",
       "2             6569.0     1956.0            47853.0      97113.0   \n",
       "3             7400.0     1965.0            62914.0      97113.0   \n",
       "4             6326.0     1984.0           554000.0      97084.0   \n",
       "\n",
       "   landtaxvaluedollarcnt  \n",
       "0                76724.0  \n",
       "1                95870.0  \n",
       "2                14234.0  \n",
       "3                17305.0  \n",
       "4               277000.0  "
      ]
     },
     "execution_count": 8,
     "metadata": {},
     "output_type": "execute_result"
    }
   ],
   "source": [
    "df.head()"
   ]
  },
  {
   "cell_type": "code",
   "execution_count": 9,
   "metadata": {},
   "outputs": [
    {
     "data": {
      "text/plain": [
       "logerror                            0\n",
       "bathroomcnt                         0\n",
       "bedroomcnt                          0\n",
       "calculatedfinishedsquarefeet      661\n",
       "lotsizesquarefeet               10150\n",
       "yearbuilt                         756\n",
       "taxvaluedollarcnt                   1\n",
       "regionidzip                        35\n",
       "landtaxvaluedollarcnt               1\n",
       "dtype: int64"
      ]
     },
     "execution_count": 9,
     "metadata": {},
     "output_type": "execute_result"
    }
   ],
   "source": [
    "df.isnull().sum()"
   ]
  },
  {
   "cell_type": "code",
   "execution_count": 10,
   "metadata": {},
   "outputs": [],
   "source": [
    "\n",
    "def summarize_df(df):\n",
    "    print(\"Summary of Data\\n\")\n",
    "    print(\"Rows & Columns:\\n\")\n",
    "    print(df.shape)\n",
    "    print(\"Variables:\\n\")\n",
    "    var_names = df.columns.values\n",
    "    print(var_names)\n",
    "    print(\"\\nColumn Info:\\n\")\n",
    "    print(df.info())\n",
    "    print(\"\\nNumeric Summary Stats:\\n\")\n",
    "    print(df.describe())\n",
    "    print(\"\\nTop 5 Values:\\n\")\n",
    "    for var in var_names:\n",
    "        print(var+\":\")\n",
    "        print(df[var].value_counts().head())\n",
    "        print('\\n')\n",
    "    print(\"\\nMissing Values:\\n\")\n",
    "    null_counts = df.isnull().sum()\n",
    "    if len(null_counts[null_counts > 0]) == 0:\n",
    "        print(\"No missing values\")\n",
    "    else:\n",
    "        print(null_counts[null_counts > 0])\n",
    "    print(\"\\nFirst 5 rows:\\n\")\n",
    "    print(df.head())\n",
    "    print(\"\\nEnd of Summary\")"
   ]
  },
  {
   "cell_type": "code",
   "execution_count": 11,
   "metadata": {},
   "outputs": [],
   "source": [
    "def percent_NaNs(df):\n",
    "    cols = list(df.columns)\n",
    "    Nans = {}\n",
    "    for col in cols:\n",
    "        Nans[col] = 'Missing {:0.2f}%'.format((df[col].isnull().sum()/df.shape[0]*100))\n",
    "    return Nans"
   ]
  },
  {
   "cell_type": "code",
   "execution_count": 12,
   "metadata": {},
   "outputs": [
    {
     "data": {
      "text/plain": [
       "{'logerror': 'Missing 0.00%',\n",
       " 'bathroomcnt': 'Missing 0.00%',\n",
       " 'bedroomcnt': 'Missing 0.00%',\n",
       " 'calculatedfinishedsquarefeet': 'Missing 0.73%',\n",
       " 'lotsizesquarefeet': 'Missing 11.24%',\n",
       " 'yearbuilt': 'Missing 0.84%',\n",
       " 'taxvaluedollarcnt': 'Missing 0.00%',\n",
       " 'regionidzip': 'Missing 0.04%',\n",
       " 'landtaxvaluedollarcnt': 'Missing 0.00%'}"
      ]
     },
     "execution_count": 12,
     "metadata": {},
     "output_type": "execute_result"
    }
   ],
   "source": [
    "percent_NaNs(df)"
   ]
  },
  {
   "cell_type": "code",
   "execution_count": 13,
   "metadata": {},
   "outputs": [
    {
     "data": {
      "text/html": [
       "<div>\n",
       "<style scoped>\n",
       "    .dataframe tbody tr th:only-of-type {\n",
       "        vertical-align: middle;\n",
       "    }\n",
       "\n",
       "    .dataframe tbody tr th {\n",
       "        vertical-align: top;\n",
       "    }\n",
       "\n",
       "    .dataframe thead th {\n",
       "        text-align: right;\n",
       "    }\n",
       "</style>\n",
       "<table border=\"1\" class=\"dataframe\">\n",
       "  <thead>\n",
       "    <tr style=\"text-align: right;\">\n",
       "      <th></th>\n",
       "      <th>logerror</th>\n",
       "      <th>bathroomcnt</th>\n",
       "      <th>bedroomcnt</th>\n",
       "      <th>calculatedfinishedsquarefeet</th>\n",
       "      <th>lotsizesquarefeet</th>\n",
       "      <th>yearbuilt</th>\n",
       "      <th>taxvaluedollarcnt</th>\n",
       "      <th>regionidzip</th>\n",
       "      <th>landtaxvaluedollarcnt</th>\n",
       "    </tr>\n",
       "  </thead>\n",
       "  <tbody>\n",
       "    <tr>\n",
       "      <th>count</th>\n",
       "      <td>90275.000000</td>\n",
       "      <td>90275.000000</td>\n",
       "      <td>90275.000000</td>\n",
       "      <td>89614.000000</td>\n",
       "      <td>8.012500e+04</td>\n",
       "      <td>89519.000000</td>\n",
       "      <td>9.027400e+04</td>\n",
       "      <td>90240.000000</td>\n",
       "      <td>9.027400e+04</td>\n",
       "    </tr>\n",
       "    <tr>\n",
       "      <th>mean</th>\n",
       "      <td>0.011457</td>\n",
       "      <td>2.279474</td>\n",
       "      <td>3.031869</td>\n",
       "      <td>1773.185987</td>\n",
       "      <td>2.911016e+04</td>\n",
       "      <td>1968.532870</td>\n",
       "      <td>4.576726e+05</td>\n",
       "      <td>96586.131184</td>\n",
       "      <td>2.783353e+05</td>\n",
       "    </tr>\n",
       "    <tr>\n",
       "      <th>std</th>\n",
       "      <td>0.161079</td>\n",
       "      <td>1.004271</td>\n",
       "      <td>1.156436</td>\n",
       "      <td>928.162393</td>\n",
       "      <td>1.217213e+05</td>\n",
       "      <td>23.763475</td>\n",
       "      <td>5.548844e+05</td>\n",
       "      <td>3661.339094</td>\n",
       "      <td>4.004955e+05</td>\n",
       "    </tr>\n",
       "    <tr>\n",
       "      <th>min</th>\n",
       "      <td>-4.605000</td>\n",
       "      <td>0.000000</td>\n",
       "      <td>0.000000</td>\n",
       "      <td>2.000000</td>\n",
       "      <td>1.670000e+02</td>\n",
       "      <td>1885.000000</td>\n",
       "      <td>2.200000e+01</td>\n",
       "      <td>95982.000000</td>\n",
       "      <td>2.200000e+01</td>\n",
       "    </tr>\n",
       "    <tr>\n",
       "      <th>25%</th>\n",
       "      <td>-0.025300</td>\n",
       "      <td>2.000000</td>\n",
       "      <td>2.000000</td>\n",
       "      <td>1184.000000</td>\n",
       "      <td>5.703000e+03</td>\n",
       "      <td>1953.000000</td>\n",
       "      <td>1.990232e+05</td>\n",
       "      <td>96193.000000</td>\n",
       "      <td>8.222800e+04</td>\n",
       "    </tr>\n",
       "    <tr>\n",
       "      <th>50%</th>\n",
       "      <td>0.006000</td>\n",
       "      <td>2.000000</td>\n",
       "      <td>3.000000</td>\n",
       "      <td>1540.000000</td>\n",
       "      <td>7.200000e+03</td>\n",
       "      <td>1970.000000</td>\n",
       "      <td>3.428720e+05</td>\n",
       "      <td>96393.000000</td>\n",
       "      <td>1.929700e+05</td>\n",
       "    </tr>\n",
       "    <tr>\n",
       "      <th>75%</th>\n",
       "      <td>0.039200</td>\n",
       "      <td>3.000000</td>\n",
       "      <td>4.000000</td>\n",
       "      <td>2095.000000</td>\n",
       "      <td>1.168600e+04</td>\n",
       "      <td>1987.000000</td>\n",
       "      <td>5.405890e+05</td>\n",
       "      <td>96987.000000</td>\n",
       "      <td>3.454195e+05</td>\n",
       "    </tr>\n",
       "    <tr>\n",
       "      <th>max</th>\n",
       "      <td>4.737000</td>\n",
       "      <td>20.000000</td>\n",
       "      <td>16.000000</td>\n",
       "      <td>22741.000000</td>\n",
       "      <td>6.971010e+06</td>\n",
       "      <td>2015.000000</td>\n",
       "      <td>2.775000e+07</td>\n",
       "      <td>399675.000000</td>\n",
       "      <td>2.450000e+07</td>\n",
       "    </tr>\n",
       "  </tbody>\n",
       "</table>\n",
       "</div>"
      ],
      "text/plain": [
       "           logerror   bathroomcnt    bedroomcnt  calculatedfinishedsquarefeet  \\\n",
       "count  90275.000000  90275.000000  90275.000000                  89614.000000   \n",
       "mean       0.011457      2.279474      3.031869                   1773.185987   \n",
       "std        0.161079      1.004271      1.156436                    928.162393   \n",
       "min       -4.605000      0.000000      0.000000                      2.000000   \n",
       "25%       -0.025300      2.000000      2.000000                   1184.000000   \n",
       "50%        0.006000      2.000000      3.000000                   1540.000000   \n",
       "75%        0.039200      3.000000      4.000000                   2095.000000   \n",
       "max        4.737000     20.000000     16.000000                  22741.000000   \n",
       "\n",
       "       lotsizesquarefeet     yearbuilt  taxvaluedollarcnt    regionidzip  \\\n",
       "count       8.012500e+04  89519.000000       9.027400e+04   90240.000000   \n",
       "mean        2.911016e+04   1968.532870       4.576726e+05   96586.131184   \n",
       "std         1.217213e+05     23.763475       5.548844e+05    3661.339094   \n",
       "min         1.670000e+02   1885.000000       2.200000e+01   95982.000000   \n",
       "25%         5.703000e+03   1953.000000       1.990232e+05   96193.000000   \n",
       "50%         7.200000e+03   1970.000000       3.428720e+05   96393.000000   \n",
       "75%         1.168600e+04   1987.000000       5.405890e+05   96987.000000   \n",
       "max         6.971010e+06   2015.000000       2.775000e+07  399675.000000   \n",
       "\n",
       "       landtaxvaluedollarcnt  \n",
       "count           9.027400e+04  \n",
       "mean            2.783353e+05  \n",
       "std             4.004955e+05  \n",
       "min             2.200000e+01  \n",
       "25%             8.222800e+04  \n",
       "50%             1.929700e+05  \n",
       "75%             3.454195e+05  \n",
       "max             2.450000e+07  "
      ]
     },
     "execution_count": 13,
     "metadata": {},
     "output_type": "execute_result"
    }
   ],
   "source": [
    "df.describe()"
   ]
  },
  {
   "cell_type": "code",
   "execution_count": 14,
   "metadata": {},
   "outputs": [],
   "source": [
    "def replace_values(df,entry,orginal_value,new):\n",
    "   df[entry] = df[entry].replace(orginal_value,new)\n",
    "   return df\n",
    "df = replace_values(df,'lotsizesquarefeet',np.nan, df['lotsizesquarefeet'].mean())"
   ]
  },
  {
   "cell_type": "code",
   "execution_count": 15,
   "metadata": {},
   "outputs": [
    {
     "name": "stdout",
     "output_type": "stream",
     "text": [
      "<class 'pandas.core.frame.DataFrame'>\n",
      "Int64Index: 90275 entries, 0 to 90274\n",
      "Data columns (total 9 columns):\n",
      "logerror                        90275 non-null float64\n",
      "bathroomcnt                     90275 non-null float64\n",
      "bedroomcnt                      90275 non-null float64\n",
      "calculatedfinishedsquarefeet    89614 non-null float64\n",
      "lotsizesquarefeet               90275 non-null float64\n",
      "yearbuilt                       89519 non-null float64\n",
      "taxvaluedollarcnt               90274 non-null float64\n",
      "regionidzip                     90240 non-null float64\n",
      "landtaxvaluedollarcnt           90274 non-null float64\n",
      "dtypes: float64(9)\n",
      "memory usage: 6.9 MB\n"
     ]
    }
   ],
   "source": [
    "df.info()"
   ]
  },
  {
   "cell_type": "code",
   "execution_count": 16,
   "metadata": {},
   "outputs": [],
   "source": [
    "df = df.dropna()"
   ]
  },
  {
   "cell_type": "code",
   "execution_count": 17,
   "metadata": {},
   "outputs": [
    {
     "data": {
      "text/plain": [
       "logerror                        0\n",
       "bathroomcnt                     0\n",
       "bedroomcnt                      0\n",
       "calculatedfinishedsquarefeet    0\n",
       "lotsizesquarefeet               0\n",
       "yearbuilt                       0\n",
       "taxvaluedollarcnt               0\n",
       "regionidzip                     0\n",
       "landtaxvaluedollarcnt           0\n",
       "dtype: int64"
      ]
     },
     "execution_count": 17,
     "metadata": {},
     "output_type": "execute_result"
    }
   ],
   "source": [
    "df.isnull().sum()"
   ]
  },
  {
   "cell_type": "code",
   "execution_count": 18,
   "metadata": {},
   "outputs": [
    {
     "data": {
      "text/plain": [
       "(89489, 9)"
      ]
     },
     "execution_count": 18,
     "metadata": {},
     "output_type": "execute_result"
    }
   ],
   "source": [
    "df.shape"
   ]
  },
  {
   "cell_type": "code",
   "execution_count": 19,
   "metadata": {},
   "outputs": [
    {
     "data": {
      "text/plain": [
       "(78769, 9)"
      ]
     },
     "execution_count": 19,
     "metadata": {},
     "output_type": "execute_result"
    }
   ],
   "source": [
    "new_df = df.copy()\n",
    "\n",
    "for col in df:\n",
    "    q1 = df[col].quantile(.01)\n",
    "    q3 = df[col].quantile(.99)\n",
    "    new_df = new_df[(new_df[col] >= q1) & (new_df[col] <= q3)]\n",
    "\n",
    "new_df.shape"
   ]
  },
  {
   "cell_type": "code",
   "execution_count": 20,
   "metadata": {},
   "outputs": [
    {
     "data": {
      "text/html": [
       "<div>\n",
       "<style scoped>\n",
       "    .dataframe tbody tr th:only-of-type {\n",
       "        vertical-align: middle;\n",
       "    }\n",
       "\n",
       "    .dataframe tbody tr th {\n",
       "        vertical-align: top;\n",
       "    }\n",
       "\n",
       "    .dataframe thead th {\n",
       "        text-align: right;\n",
       "    }\n",
       "</style>\n",
       "<table border=\"1\" class=\"dataframe\">\n",
       "  <thead>\n",
       "    <tr style=\"text-align: right;\">\n",
       "      <th></th>\n",
       "      <th>logerror</th>\n",
       "      <th>bathroomcnt</th>\n",
       "      <th>bedroomcnt</th>\n",
       "      <th>calculatedfinishedsquarefeet</th>\n",
       "      <th>lotsizesquarefeet</th>\n",
       "      <th>yearbuilt</th>\n",
       "      <th>taxvaluedollarcnt</th>\n",
       "      <th>regionidzip</th>\n",
       "      <th>landtaxvaluedollarcnt</th>\n",
       "    </tr>\n",
       "  </thead>\n",
       "  <tbody>\n",
       "    <tr>\n",
       "      <th>count</th>\n",
       "      <td>78769.000000</td>\n",
       "      <td>78769.000000</td>\n",
       "      <td>78769.000000</td>\n",
       "      <td>78769.000000</td>\n",
       "      <td>78769.000000</td>\n",
       "      <td>78769.000000</td>\n",
       "      <td>7.876900e+04</td>\n",
       "      <td>78769.000000</td>\n",
       "      <td>7.876900e+04</td>\n",
       "    </tr>\n",
       "    <tr>\n",
       "      <th>mean</th>\n",
       "      <td>0.009021</td>\n",
       "      <td>2.263784</td>\n",
       "      <td>3.043266</td>\n",
       "      <td>1716.002577</td>\n",
       "      <td>21752.364094</td>\n",
       "      <td>1969.181696</td>\n",
       "      <td>4.195828e+05</td>\n",
       "      <td>96551.262387</td>\n",
       "      <td>2.535456e+05</td>\n",
       "    </tr>\n",
       "    <tr>\n",
       "      <th>std</th>\n",
       "      <td>0.079732</td>\n",
       "      <td>0.819872</td>\n",
       "      <td>0.962351</td>\n",
       "      <td>733.093564</td>\n",
       "      <td>43431.010237</td>\n",
       "      <td>22.280036</td>\n",
       "      <td>3.169846e+05</td>\n",
       "      <td>404.248857</td>\n",
       "      <td>2.320480e+05</td>\n",
       "    </tr>\n",
       "    <tr>\n",
       "      <th>min</th>\n",
       "      <td>-0.338300</td>\n",
       "      <td>1.000000</td>\n",
       "      <td>1.000000</td>\n",
       "      <td>619.000000</td>\n",
       "      <td>1460.000000</td>\n",
       "      <td>1911.000000</td>\n",
       "      <td>3.818800e+04</td>\n",
       "      <td>95986.000000</td>\n",
       "      <td>1.302700e+04</td>\n",
       "    </tr>\n",
       "    <tr>\n",
       "      <th>25%</th>\n",
       "      <td>-0.024300</td>\n",
       "      <td>2.000000</td>\n",
       "      <td>2.000000</td>\n",
       "      <td>1198.000000</td>\n",
       "      <td>6000.000000</td>\n",
       "      <td>1954.000000</td>\n",
       "      <td>2.090180e+05</td>\n",
       "      <td>96210.000000</td>\n",
       "      <td>8.793300e+04</td>\n",
       "    </tr>\n",
       "    <tr>\n",
       "      <th>50%</th>\n",
       "      <td>0.006000</td>\n",
       "      <td>2.000000</td>\n",
       "      <td>3.000000</td>\n",
       "      <td>1539.000000</td>\n",
       "      <td>7558.000000</td>\n",
       "      <td>1970.000000</td>\n",
       "      <td>3.486040e+05</td>\n",
       "      <td>96403.000000</td>\n",
       "      <td>1.975760e+05</td>\n",
       "    </tr>\n",
       "    <tr>\n",
       "      <th>75%</th>\n",
       "      <td>0.036300</td>\n",
       "      <td>3.000000</td>\n",
       "      <td>4.000000</td>\n",
       "      <td>2054.000000</td>\n",
       "      <td>20256.000000</td>\n",
       "      <td>1986.000000</td>\n",
       "      <td>5.348630e+05</td>\n",
       "      <td>96987.000000</td>\n",
       "      <td>3.429170e+05</td>\n",
       "    </tr>\n",
       "    <tr>\n",
       "      <th>max</th>\n",
       "      <td>0.458700</td>\n",
       "      <td>5.500000</td>\n",
       "      <td>6.000000</td>\n",
       "      <td>5095.000000</td>\n",
       "      <td>406305.000000</td>\n",
       "      <td>2011.000000</td>\n",
       "      <td>2.463199e+06</td>\n",
       "      <td>97329.000000</td>\n",
       "      <td>1.684667e+06</td>\n",
       "    </tr>\n",
       "  </tbody>\n",
       "</table>\n",
       "</div>"
      ],
      "text/plain": [
       "           logerror   bathroomcnt    bedroomcnt  calculatedfinishedsquarefeet  \\\n",
       "count  78769.000000  78769.000000  78769.000000                  78769.000000   \n",
       "mean       0.009021      2.263784      3.043266                   1716.002577   \n",
       "std        0.079732      0.819872      0.962351                    733.093564   \n",
       "min       -0.338300      1.000000      1.000000                    619.000000   \n",
       "25%       -0.024300      2.000000      2.000000                   1198.000000   \n",
       "50%        0.006000      2.000000      3.000000                   1539.000000   \n",
       "75%        0.036300      3.000000      4.000000                   2054.000000   \n",
       "max        0.458700      5.500000      6.000000                   5095.000000   \n",
       "\n",
       "       lotsizesquarefeet     yearbuilt  taxvaluedollarcnt   regionidzip  \\\n",
       "count       78769.000000  78769.000000       7.876900e+04  78769.000000   \n",
       "mean        21752.364094   1969.181696       4.195828e+05  96551.262387   \n",
       "std         43431.010237     22.280036       3.169846e+05    404.248857   \n",
       "min          1460.000000   1911.000000       3.818800e+04  95986.000000   \n",
       "25%          6000.000000   1954.000000       2.090180e+05  96210.000000   \n",
       "50%          7558.000000   1970.000000       3.486040e+05  96403.000000   \n",
       "75%         20256.000000   1986.000000       5.348630e+05  96987.000000   \n",
       "max        406305.000000   2011.000000       2.463199e+06  97329.000000   \n",
       "\n",
       "       landtaxvaluedollarcnt  \n",
       "count           7.876900e+04  \n",
       "mean            2.535456e+05  \n",
       "std             2.320480e+05  \n",
       "min             1.302700e+04  \n",
       "25%             8.793300e+04  \n",
       "50%             1.975760e+05  \n",
       "75%             3.429170e+05  \n",
       "max             1.684667e+06  "
      ]
     },
     "execution_count": 20,
     "metadata": {},
     "output_type": "execute_result"
    }
   ],
   "source": [
    "new_df.describe()"
   ]
  },
  {
   "cell_type": "code",
   "execution_count": 21,
   "metadata": {},
   "outputs": [],
   "source": [
    "log_upper = new_df[(new_df['logerror'] >= .0363)]\n",
    "log_lower = new_df[(new_df['logerror'] <= -.0243)]"
   ]
  },
  {
   "cell_type": "code",
   "execution_count": 22,
   "metadata": {},
   "outputs": [],
   "source": [
    "outer_log = new_df[(new_df['logerror'] >= .0363) | (new_df['logerror'] <= -.0243)]"
   ]
  },
  {
   "cell_type": "code",
   "execution_count": 37,
   "metadata": {},
   "outputs": [],
   "source": [
    "#outer_looks = full_log.describe()\n",
    "#full_looks = new_df.describe()"
   ]
  },
  {
   "cell_type": "code",
   "execution_count": 38,
   "metadata": {},
   "outputs": [],
   "source": [
    "#full_log.shape"
   ]
  },
  {
   "cell_type": "code",
   "execution_count": 39,
   "metadata": {},
   "outputs": [],
   "source": [
    "df7745 = pd.DataFrame()"
   ]
  },
  {
   "cell_type": "code",
   "execution_count": 46,
   "metadata": {},
   "outputs": [
    {
     "ename": "NameError",
     "evalue": "name 'outer_looks' is not defined",
     "output_type": "error",
     "traceback": [
      "\u001b[0;31m---------------------------------------------------------------------------\u001b[0m",
      "\u001b[0;31mNameError\u001b[0m                                 Traceback (most recent call last)",
      "\u001b[0;32m<ipython-input-46-4a8ebf4548ea>\u001b[0m in \u001b[0;36m<module>\u001b[0;34m\u001b[0m\n\u001b[0;32m----> 1\u001b[0;31m \u001b[0md\u001b[0m \u001b[0;34m=\u001b[0m \u001b[0;34m{\u001b[0m\u001b[0;34m'col1'\u001b[0m\u001b[0;34m:\u001b[0m \u001b[0mouter_looks\u001b[0m\u001b[0;34m.\u001b[0m\u001b[0mloc\u001b[0m\u001b[0;34m[\u001b[0m\u001b[0;34m'mean'\u001b[0m\u001b[0;34m]\u001b[0m\u001b[0;34m,\u001b[0m \u001b[0;34m'col2'\u001b[0m\u001b[0;34m:\u001b[0m \u001b[0mfull_looks\u001b[0m\u001b[0;34m.\u001b[0m\u001b[0mloc\u001b[0m\u001b[0;34m[\u001b[0m\u001b[0;34m'mean'\u001b[0m\u001b[0;34m]\u001b[0m\u001b[0;34m}\u001b[0m\u001b[0;34m\u001b[0m\u001b[0;34m\u001b[0m\u001b[0m\n\u001b[0m\u001b[1;32m      2\u001b[0m \u001b[0mdf42\u001b[0m \u001b[0;34m=\u001b[0m \u001b[0mpd\u001b[0m\u001b[0;34m.\u001b[0m\u001b[0mDataFrame\u001b[0m\u001b[0;34m(\u001b[0m\u001b[0mdata\u001b[0m\u001b[0;34m=\u001b[0m\u001b[0md\u001b[0m\u001b[0;34m)\u001b[0m\u001b[0;34m\u001b[0m\u001b[0;34m\u001b[0m\u001b[0m\n",
      "\u001b[0;31mNameError\u001b[0m: name 'outer_looks' is not defined"
     ]
    }
   ],
   "source": [
    "d = {'col1': outer_looks.loc['mean'], 'col2': full_looks.loc['mean']}\n",
    "df42 = pd.DataFrame(data=d)"
   ]
  },
  {
   "cell_type": "code",
   "execution_count": null,
   "metadata": {},
   "outputs": [],
   "source": [
    "df42"
   ]
  },
  {
   "cell_type": "markdown",
   "metadata": {},
   "source": [
    "30 minutes gone"
   ]
  },
  {
   "cell_type": "code",
   "execution_count": null,
   "metadata": {},
   "outputs": [],
   "source": [
    "new_df['tax_sqft'] = new_df.taxvaluedollarcnt / new_df.calculatedfinishedsquarefeet"
   ]
  },
  {
   "cell_type": "code",
   "execution_count": null,
   "metadata": {},
   "outputs": [],
   "source": [
    "new_df.describe()"
   ]
  },
  {
   "cell_type": "code",
   "execution_count": null,
   "metadata": {},
   "outputs": [],
   "source": [
    "new_df.shape"
   ]
  },
  {
   "cell_type": "code",
   "execution_count": null,
   "metadata": {},
   "outputs": [],
   "source": [
    "new_df['room_count'] = new_df.bathroomcnt + new_df.bedroomcnt"
   ]
  },
  {
   "cell_type": "code",
   "execution_count": null,
   "metadata": {},
   "outputs": [],
   "source": [
    "new_df['lot_sqft'] = new_df.taxvaluedollarcnt / new_df.lotsizesquarefeet"
   ]
  },
  {
   "cell_type": "code",
   "execution_count": null,
   "metadata": {},
   "outputs": [],
   "source": [
    "new_df['abs_log'] = new_df.logerror.abs()"
   ]
  },
  {
   "cell_type": "code",
   "execution_count": null,
   "metadata": {},
   "outputs": [],
   "source": [
    "plot_count = 0"
   ]
  },
  {
   "cell_type": "code",
   "execution_count": null,
   "metadata": {},
   "outputs": [],
   "source": [
    "plt.figure(figsize=(25,50))\n",
    "\n",
    "for i, col in enumerate(new_df):\n",
    "    plot_number = i + 1\n",
    "    series = new_df[col]\n",
    "    plt.subplot(7,2,plot_number)\n",
    "    plt.title(col)\n",
    "    sns.distplot(series)"
   ]
  },
  {
   "cell_type": "code",
   "execution_count": null,
   "metadata": {},
   "outputs": [],
   "source": [
    "sns.pairplot(new_df)"
   ]
  },
  {
   "cell_type": "code",
   "execution_count": 47,
   "metadata": {},
   "outputs": [],
   "source": [
    "def df_print_r_and_p_values(X, y):\n",
    "    r_and_p_values = {col: stats.pearsonr(X[col], y) for col in X.columns}\n",
    "    print(\"PEARSON'S R\")\n",
    "    for k, v in r_and_p_values.items():\n",
    "        col = k\n",
    "        r, p = v\n",
    "        print(f\"{col}:\")\n",
    "        print(\n",
    "            f\"\\tPearson's R is {r:.2f} with a significance p-value of {p: .8}\\n\"\n",
    "        )\n",
    "\n",
    "\n",
    "def linreg_fit_and_predict(x_train, y_train, x_test, y_test):\n",
    "    lm = LinearRegression()\n",
    "    lm.fit(x_train, y_train)\n",
    "\n",
    "    y_label = y_train.columns[0]\n",
    "    y_intercept = lm.intercept_[0]\n",
    "    m = lm.coef_[0][0]\n",
    "    x_label = x_train.columns[0]\n",
    "    print(f\"Univariate: {y_label} = {y_intercept:.2f} + {m:.8}*{x_label}\")\n",
    "    print()\n",
    "\n",
    "    preds_train = lm.predict(x_train)\n",
    "\n",
    "    # run test data through model\n",
    "    preds_test = lm.predict(x_test)\n",
    "\n",
    "    return lm, preds_train, preds_test\n",
    "\n",
    "\n",
    "def evaluate_model_train(x, y, preds):\n",
    "    y_label = y.columns[0]\n",
    "    x_label = x.columns[0]\n",
    "\n",
    "    print(\"Model Evaluation on TRAIN Data\")\n",
    "    meanse = mean_squared_error(y, preds)\n",
    "    print(f\"\\tMSE: {meanse:.8f}\")\n",
    "\n",
    "    medianae = median_absolute_error(y, preds)\n",
    "    print(f\"\\tMAE: {medianae:.8f}\")\n",
    "\n",
    "    r2 = r2_score(y, preds)\n",
    "    print(\n",
    "        f\"\\t{r2:.2%} of the variance in {y_label} can be explained by {x_label}.\"\n",
    "    )\n",
    "    print()\n",
    "\n",
    "    print(\"P-VALUE\")\n",
    "    f_vals, p_vals = f_regression(x, y)\n",
    "    print(f\"\\tTrain: {p_vals[0]:.8}\")\n",
    "    print()\n",
    "\n",
    "\n",
    "def evaluate_model_test(x, y, preds):\n",
    "    y_label = y.columns[0]\n",
    "    x_label = x.columns[0]\n",
    "\n",
    "    print(\"Model Evaluation on TEST Data\")\n",
    "    meanse = mean_squared_error(y, preds)\n",
    "    print(f\"\\tMSE: {meanse:.8f}\")\n",
    "\n",
    "    medianae = median_absolute_error(y, preds)\n",
    "    print(f\"\\tMAE: {medianae:.8f}\")\n",
    "\n",
    "    r2 = r2_score(y, preds)\n",
    "    print(\n",
    "        f\"\\t{r2:.2%} of the variance in {y_label} can be explained by {x_label}.\"\n",
    "    )\n",
    "    print()\n",
    "\n",
    "    print(\"P-VALUE\")\n",
    "    f_vals, p_vals = f_regression(x, y)\n",
    "    print(f\"\\tTest: {p_vals[0]:.8}\")\n",
    "    print()\n",
    "\n",
    "\n",
    "def plot_residuals(y_test, preds_test):\n",
    "    y_label = y_test.columns[0]\n",
    "    plt.scatter(preds_test, preds_test - y_test, c=\"g\", s=20)\n",
    "    plt.hlines(y=0, xmin=preds_test.min(), xmax=preds_test.max())\n",
    "    plt.title(\"Residual plot\")\n",
    "    plt.ylabel(\"Residuals\")\n",
    "    plt.xlabel(y_label)\n",
    "    plt.show()\n",
    "\n",
    "\n",
    "def linreg_model(x_train, y_train, x_test, y_test):\n",
    "    lm, preds_train, preds_test = linreg_fit_and_predict(\n",
    "        x_train, y_train, x_test, y_test\n",
    "    )\n",
    "\n",
    "    evaluate_model_train(x_train, y_train, preds_train)\n",
    "    evaluate_model_test(x_test, y_test, preds_test)\n",
    "\n",
    "    plot_residuals(y_test, preds_test)\n",
    "    \n",
    "\n",
    "def evaluate_multi_model_train(X, y, preds):\n",
    "    y_label = y.columns[0]\n",
    "    X_labels = X.columns\n",
    "\n",
    "    print(\"Model Evaluation on TRAIN Data\")\n",
    "    meanse = mean_squared_error(y, preds)\n",
    "    print(f\"\\tMSE: {meanse:.8f}\")\n",
    "\n",
    "    medianae = median_absolute_error(y, preds)\n",
    "    print(f\"\\tMAE: {medianae:.8f}\")\n",
    "\n",
    "    r2 = r2_score(y, preds)\n",
    "    print(\n",
    "        f\"\\t{r2:.2%} of the variance in {y_label} can be explained by {X_labels}.\"\n",
    "    )\n",
    "    print()\n",
    "\n",
    "    print(\"P-VALUE\")\n",
    "    f_vals, p_vals = f_regression(X, y)\n",
    "    print(f\"\\tTrain: {p_vals[0]:.8}\")\n",
    "    print()\n",
    "    \n",
    "def evaluate_multi_model_test(X, y, preds):\n",
    "    y_label = y.columns[0]\n",
    "    X_labels = X.columns\n",
    "\n",
    "    print(\"Model Evaluation on TEST Data\")\n",
    "    meanse = mean_squared_error(y, preds)\n",
    "    print(f\"\\tMSE: {meanse:.8f}\")\n",
    "\n",
    "    medianae = median_absolute_error(y, preds)\n",
    "    print(f\"\\tMAE: {medianae:.8f}\")\n",
    "\n",
    "    r2 = r2_score(y, preds)\n",
    "    print(\n",
    "        f\"\\t{r2:.2%} of the variance in {y_label} can be explained by {X_labels}.\"\n",
    "    )\n",
    "    print()\n",
    "\n",
    "    print(\"P-VALUE\")\n",
    "    f_vals, p_vals = f_regression(X, y)\n",
    "    print(f\"\\tTest: {p_vals[0]:.8}\")\n",
    "    print()\n",
    "    \n",
    "def multi_linreg_fit_and_evaluate(X_train, y_train, X_test, y_test):\n",
    "    lm = LinearRegression()\n",
    "    lm.fit(X_train, y_train)\n",
    "\n",
    "    y_label = y_train.columns[0]\n",
    "    y_intercept = lm.intercept_[0]\n",
    "    print(\"Multivariate:\")\n",
    "    print(f\"{y_label} = \")\n",
    "    print(f\"{y_intercept:.8f}\")\n",
    "    for i, col in enumerate(X_train.columns):\n",
    "        coefficient = lm.coef_[0][i]\n",
    "        print(f\"+ {coefficient:.8}*{col}\")\n",
    "\n",
    "    preds_train = lm.predict(X_train)\n",
    "    evaluate_multi_model_train(X_train, y_train, preds_train)\n",
    "    \n",
    "    preds_test = lm.predict(X_test)\n",
    "    evaluate_model_test(X_test, y_test, preds_test)\n",
    "    \n",
    "    plot_residuals(y_test, preds_test)\n",
    "\n",
    "\n",
    "def normalize_cols(df_train, df_test, cols):\n",
    "    df_train_norm = pd.DataFrame()\n",
    "    for col in cols:\n",
    "        minimum = df_train[col].min()\n",
    "        maximum = df_train[col].max()\n",
    "        df_train_norm[f\"{col}_norm\"] = (df_train[col] - minimum) / (maximum - minimum)\n",
    "    \n",
    "    df_test_norm = pd.DataFrame()\n",
    "    for col in cols:\n",
    "        minimum = df_train[col].min()  # use the min and max from the train set\n",
    "        maximum = df_train[col].max()\n",
    "        df_test_norm[f\"{col}_norm\"] = (df_test[col] - minimum) / (maximum - minimum)\n",
    "    return df_train_norm, df_test_norm"
   ]
  },
  {
   "cell_type": "code",
   "execution_count": 48,
   "metadata": {},
   "outputs": [
    {
     "ename": "NameError",
     "evalue": "name 'X' is not defined",
     "output_type": "error",
     "traceback": [
      "\u001b[0;31m---------------------------------------------------------------------------\u001b[0m",
      "\u001b[0;31mNameError\u001b[0m                                 Traceback (most recent call last)",
      "\u001b[0;32m<ipython-input-48-f9df3150f8c3>\u001b[0m in \u001b[0;36m<module>\u001b[0;34m\u001b[0m\n\u001b[1;32m      1\u001b[0m \u001b[0;31m#X = new_df.drop(['logerror', 'abs_log'], axis=1)\u001b[0m\u001b[0;34m\u001b[0m\u001b[0;34m\u001b[0m\u001b[0;34m\u001b[0m\u001b[0m\n\u001b[0;32m----> 2\u001b[0;31m \u001b[0mprint\u001b[0m\u001b[0;34m(\u001b[0m\u001b[0mX\u001b[0m\u001b[0;34m.\u001b[0m\u001b[0mhead\u001b[0m\u001b[0;34m(\u001b[0m\u001b[0;34m)\u001b[0m\u001b[0;34m)\u001b[0m\u001b[0;34m\u001b[0m\u001b[0;34m\u001b[0m\u001b[0m\n\u001b[0m\u001b[1;32m      3\u001b[0m \u001b[0;34m\u001b[0m\u001b[0m\n\u001b[1;32m      4\u001b[0m \u001b[0;31m#y = new_df[['abs_log']]\u001b[0m\u001b[0;34m\u001b[0m\u001b[0;34m\u001b[0m\u001b[0;34m\u001b[0m\u001b[0m\n\u001b[1;32m      5\u001b[0m \u001b[0mprint\u001b[0m\u001b[0;34m(\u001b[0m\u001b[0my\u001b[0m\u001b[0;34m.\u001b[0m\u001b[0mhead\u001b[0m\u001b[0;34m(\u001b[0m\u001b[0;34m)\u001b[0m\u001b[0;34m)\u001b[0m\u001b[0;34m\u001b[0m\u001b[0;34m\u001b[0m\u001b[0m\n",
      "\u001b[0;31mNameError\u001b[0m: name 'X' is not defined"
     ]
    }
   ],
   "source": [
    "#X = new_df.drop(['logerror', 'abs_log'], axis=1)\n",
    "print(X.head())\n",
    "\n",
    "#y = new_df[['abs_log']]\n",
    "print(y.head())"
   ]
  },
  {
   "cell_type": "code",
   "execution_count": null,
   "metadata": {
    "scrolled": true
   },
   "outputs": [],
   "source": [
    "X_train, X_test, y_train, y_test = train_test_split(X, y, train_size=.60, random_state=42)"
   ]
  },
  {
   "cell_type": "code",
   "execution_count": null,
   "metadata": {},
   "outputs": [],
   "source": [
    "from sklearn.feature_selection import f_regression"
   ]
  },
  {
   "cell_type": "code",
   "execution_count": null,
   "metadata": {},
   "outputs": [],
   "source": [
    "multi_linreg_fit_and_evaluate(X_train, y_train, X_test, y_test)"
   ]
  },
  {
   "cell_type": "code",
   "execution_count": null,
   "metadata": {},
   "outputs": [],
   "source": [
    "linreg_model(X_train, y_train, X_test, y_test)"
   ]
  },
  {
   "cell_type": "code",
   "execution_count": null,
   "metadata": {},
   "outputs": [],
   "source": [
    "from sklearn.datasets import make_friedman1\n",
    "from sklearn.feature_selection import RFE\n",
    "from sklearn.svm import SVR\n",
    "# XX, yy = make_friedman1(n_samples=50, n_features=10, random_state=0)\n",
    "estimator = SVR(kernel=\"sigmoid\")\n",
    "selector = RFE(estimator, 5, step=1)\n",
    "selector = selector.fit(X_train, y_train)\n",
    "print(f'support {selector.support_}')\n",
    "print(f'ranking {selector.ranking_}')\n",
    "print(f'X_cols {X_train.columns}')\n",
    "# print(f'yy {}')\n"
   ]
  },
  {
   "cell_type": "code",
   "execution_count": null,
   "metadata": {},
   "outputs": [],
   "source": []
  }
 ],
 "metadata": {
  "kernelspec": {
   "display_name": "Python 3",
   "language": "python",
   "name": "python3"
  },
  "language_info": {
   "codemirror_mode": {
    "name": "ipython",
    "version": 3
   },
   "file_extension": ".py",
   "mimetype": "text/x-python",
   "name": "python",
   "nbconvert_exporter": "python",
   "pygments_lexer": "ipython3",
   "version": "3.7.1"
  }
 },
 "nbformat": 4,
 "nbformat_minor": 2
}
