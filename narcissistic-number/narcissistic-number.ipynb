{
 "cells": [
  {
   "cell_type": "markdown",
   "metadata": {},
   "source": [
    "### Goal\n",
    "Find the first twenty narcisstic numbers.\n",
    "\n",
    "### Background\n",
    "*In recreational number theory, a narcissistic number is a number that is the sum of its own digits each raised to the power of the number of digits. This definition depends on the base b of the number system used, e.g., b = 10 for the decimal system or b = 2 for the binary system. - Wikipedia*\n",
    "\n",
    "### STD (Stuff to Do)\n",
    "1. Start counting numbers from 0 incrementing by one.\n",
    "1. Check to see if the number satisfy the condition for a narcissistic number.\n",
    "    - convert number to string\n",
    "    - convert character to int\n",
    "    - do exponent operation on each character\n",
    "    - sum all thge powers\n",
    "1. Print and store the number if it matches.\n",
    "1. Increment by one.\n",
    "1. Stop when reaches 20 stored of narcissistic numbers."
   ]
  },
  {
   "cell_type": "code",
   "execution_count": 42,
   "metadata": {},
   "outputs": [],
   "source": [
    "def is_narcissistic(number):\n",
    "    pass\n",
    "\n",
    "\n",
    "i = 0\n",
    "nn = []\n",
    "while len(nn) < 20:\n",
    "    for n in nn:\n",
    "        sum = 0\n",
    "        number = int(n)\n",
    "        print(number)\n",
    "    if i == 15:\n",
    "        break\n",
    "    i += 1\n",
    "    "
   ]
  },
  {
   "cell_type": "code",
   "execution_count": null,
   "metadata": {},
   "outputs": [],
   "source": []
  },
  {
   "cell_type": "code",
   "execution_count": null,
   "metadata": {},
   "outputs": [],
   "source": []
  }
 ],
 "metadata": {
  "kernelspec": {
   "display_name": "Python 3",
   "language": "python",
   "name": "python3"
  },
  "language_info": {
   "codemirror_mode": {
    "name": "ipython",
    "version": 3
   },
   "file_extension": ".py",
   "mimetype": "text/x-python",
   "name": "python",
   "nbconvert_exporter": "python",
   "pygments_lexer": "ipython3",
   "version": "3.7.1"
  }
 },
 "nbformat": 4,
 "nbformat_minor": 2
}
