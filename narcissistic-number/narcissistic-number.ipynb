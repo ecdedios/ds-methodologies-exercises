{
 "cells": [
  {
   "cell_type": "markdown",
   "metadata": {},
   "source": [
    "### Goal\n",
    "Find the first twenty narcisstic numbers.\n",
    "\n",
    "### Background\n",
    "*In recreational number theory, a narcissistic number is a number that is the sum of its own digits each raised to the power of the number of digits. This definition depends on the base b of the number system used, e.g., b = 10 for the decimal system or b = 2 for the binary system. - Wikipedia*\n",
    "\n",
    "### STD (Stuff to Do)\n",
    "1. Start counting numbers from 0 incrementing by one.\n",
    "1. Check to see if the number satisfy the condition for a narcissistic number.\n",
    "    - convert number to string\n",
    "    - convert character to int\n",
    "    - do exponent operation on each character\n",
    "    - sum all thge powers\n",
    "1. Print and store the number if it matches.\n",
    "1. Increment by one.\n",
    "1. Stop when reaches 20 stored of narcissistic numbers."
   ]
  },
  {
   "cell_type": "code",
   "execution_count": 1,
   "metadata": {},
   "outputs": [],
   "source": [
    "def is_narc(n):\n",
    "    chars = [int(n) for n in list(str(n))]\n",
    "    number_of_chars = len(chars)\n",
    "    return sum([char ** number_of_chars for char in chars]) == n\n",
    "\n",
    "    number_to_find = 25\n",
    "    number_of_found = 0\n",
    "    i = 0\n",
    "    while True:\n",
    "        if is_narc(i):\n",
    "            number_of_found += 1\n",
    "            print('{:2}: {:6}'.format(number_of_found, i))\n",
    "        if number_of_found == number_to_find:\n",
    "            break\n",
    "        i += 1"
   ]
  },
  {
   "cell_type": "code",
   "execution_count": null,
   "metadata": {},
   "outputs": [],
   "source": []
  },
  {
   "cell_type": "code",
   "execution_count": null,
   "metadata": {},
   "outputs": [],
   "source": []
  }
 ],
 "metadata": {
  "kernelspec": {
   "display_name": "Python 3",
   "language": "python",
   "name": "python3"
  },
  "language_info": {
   "codemirror_mode": {
    "name": "ipython",
    "version": 3
   },
   "file_extension": ".py",
   "mimetype": "text/x-python",
   "name": "python",
   "nbconvert_exporter": "python",
   "pygments_lexer": "ipython3",
   "version": "3.7.1"
  }
 },
 "nbformat": 4,
 "nbformat_minor": 2
}
