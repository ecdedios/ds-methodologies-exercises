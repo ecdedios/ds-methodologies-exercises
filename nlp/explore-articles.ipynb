{
 "cells": [
  {
   "cell_type": "code",
   "execution_count": 1,
   "metadata": {},
   "outputs": [],
   "source": [
    "import re\n",
    "import unicodedata\n",
    "import pandas as pd\n",
    "import nltk\n",
    "import acquire\n",
    "import prepare\n",
    "\n",
    "# Visualization\n",
    "%matplotlib inline\n",
    "import matplotlib.pyplot as plt\n",
    "import seaborn as sns\n",
    "\n",
    "ADDITIONAL_STOPWORDS = ['r', 'u', '2', 'ltgt', 'was']\n",
    "\n",
    "def clean(text):\n",
    "    'A simple function to cleanup text data'\n",
    "    wnl = nltk.stem.WordNetLemmatizer()\n",
    "    stopwords = nltk.corpus.stopwords.words('english') + ADDITIONAL_STOPWORDS\n",
    "    text = (unicodedata.normalize('NFKD', text)\n",
    "             .encode('ascii', 'ignore')\n",
    "             .decode('utf-8', 'ignore')\n",
    "             .lower())\n",
    "    words = re.sub(r'[^\\w\\s]', '', text).split()\n",
    "    return [wnl.lemmatize(word) for word in words if word not in stopwords]\n",
    "\n",
    "# Clean up the text file and label the columns\n",
    "df = pd.read_csv('spam.csv', encoding='latin_1')\n",
    "df = df.drop(columns=['Unnamed: 2', 'Unnamed: 3', 'Unnamed: 4'])\n",
    "df = df.rename(index=str, columns={\"v1\": \"label\", \"v2\": \"text\"})\n",
    "df.head()\n",
    "\n",
    "from wordcloud import WordCloud"
   ]
  },
  {
   "cell_type": "markdown",
   "metadata": {},
   "source": [
    "## Explore the blog articles using the techniques discussed in the exploration lesson."
   ]
  },
  {
   "cell_type": "code",
   "execution_count": 2,
   "metadata": {},
   "outputs": [],
   "source": [
    "ADDITIONAL_STOPWORDS = ['r', 'u', '2', 'ltgt']\n",
    "\n",
    "def clean(text):\n",
    "    'A simple function to cleanup text data'\n",
    "    wnl = nltk.stem.WordNetLemmatizer()\n",
    "    stopwords = nltk.corpus.stopwords.words('english') + ADDITIONAL_STOPWORDS\n",
    "    text = (unicodedata.normalize('NFKD', text)\n",
    "             .encode('ascii', 'ignore')\n",
    "             .decode('utf-8', 'ignore')\n",
    "             .lower())\n",
    "    words = re.sub(r'[^\\w\\s]', '', text).split()\n",
    "    return [wnl.lemmatize(word) for word in words if word not in stopwords]"
   ]
  },
  {
   "cell_type": "code",
   "execution_count": 5,
   "metadata": {},
   "outputs": [
    {
     "name": "stdout",
     "output_type": "stream",
     "text": [
      "/en/news/volkswagen-unit-porsche-fined-₹4100-crore-over-diesel-scandal-1557251200422\n",
      "/en/news/guj-trader-who-gifted-cars-to-staff-to-remove-illegal-road-he-built-1557214245553\n",
      "/en/news/spacexs-billionaire-moon-tourist-says-has-no-money-selling-art-1557239146967\n",
      "/en/news/britannia-broke-rules-by-not-reporting-wadias-arrest-ingovern-1557234445948\n",
      "/en/news/resigned-pledged-shares-provided-₹250-cr-to-banks-naresh-goyal-1557250273105\n",
      "/en/news/ai-sent-₹2cr-to-nigeria-instead-of-us-firm-airline-says-probe-on-1557243035697\n",
      "/en/news/us-warns-india-against-tariffs-over-scrapping-of-trade-benefits-1557245457108\n",
      "/en/news/infosys-makes-hyd-staff-pay-for-parking-activists-call-it-illegal-1557230142855\n",
      "/en/news/we-cant-ensure-cheaper-oil-sales-to-india-after-iran-sanctions-us-1557222796840\n",
      "/en/news/indigo-talking-to-airbus-to-buy-yettobereleased-a321-xlr-jets-1557237922203\n",
      "/en/news/unsure-on-galaxy-fold-shipping-will-cancel-us-preorders-samsung-1557244991830\n",
      "/en/news/apple-features-warren-buffett-in-its-1st-game-since-2008-1557237491109\n",
      "/en/news/easemytrip-plans-to-raise-up-to-₹750-crore-via-ipo-report-1557226789034\n",
      "/en/news/pepsico-india-withdraws-lawsuit-against-two-gujarat-farmers-1557164631129\n",
      "/en/news/uschina-trade-war-would-be-bad-for-the-whole-world-buffett-1557207015460\n",
      "/en/news/piramal-canadian-pension-fund-set-up-$600-mn-energy-trust-1557249186702\n",
      "/en/news/pg-renames-merck-as-procter-gamble-health-1557235940201\n",
      "/en/news/icici-bank-classifies-loans-to-jet-airways-as-bad-loans-in-q4-1557236035280\n",
      "/en/news/cbdt-clarifies-no-dip-in-itr-efiling-says-19-rise-instead-1557199818343\n",
      "/en/news/indias-oil-imports-from-iran-plunged-57-in-april-report-1557244468210\n",
      "/en/news/have-enough-funds-to-meet-current-future-capex-needs-ongc-1557244172728\n",
      "/en/news/mastercard-to-invest-₹7000-crore-in-india-in-next-5-years-1557230838270\n",
      "/en/news/india-us-to-engage-regularly-to-resolve-trade-issues-1557226198668\n",
      "/en/news/found-no-merit-in-taking-jet-airways-boeing-777s-air-india-1557203426231\n",
      "/en/news/saudi-aramco-to-supply-additional-oil-to-india-reports-1557245824244\n",
      "/en/news/mi-defeat-csk-to-enter-ipl-final-for-the-fifth-time-1557250496611\n",
      "/en/news/preity-zinta-jokingly-warns-ms-dhoni-of-kidnapping-his-daughter-ziva-1557250276935\n",
      "/en/news/rayudu-shankar-end-ipl-2019-league-stage-with-identical-numbers-1557160234554\n",
      "/en/news/sorry-to-let-fans-down-i-will-come-back-stronger-jaydev-unadkat-1557250068073\n",
      "/en/news/mandhanas-trailblazers-beat-harmanpreets-supernovas-on-last-ball-1557164677116\n",
      "/en/news/i-am-just-21-its-difficult-to-think-like-a-30yearold-rishabh-pant-1557250441362\n",
      "/en/news/what-should-dhoni-do-if-he-wins-toss-iit-asks-students-in-exam-1557232545521\n",
      "/en/news/umpire-nigel-llong-damages-door-by-kicking-it-after-spat-with-kohli-1557217835761\n",
      "/en/news/what-are-the-matchups-for-the-ipl-2019-playoffs-1557164149576\n",
      "/en/news/selfish-afridi-ruined-many-careers-for-his-own-good-imran-farhat-1557256779146\n",
      "/en/news/warner-should-open-with-finch-in-world-cup-mark-waugh-1557251565022\n",
      "/en/news/ive-told-hales-he-still-has-an-international-future-england-coach-1557253584713\n",
      "/en/news/ending-conference-in-2-hrs-over-barca-vs-liverpool-match-google-ceo-1557253536474\n",
      "/en/news/chris-gayle-named-as-windies-vicecaptain-for-2019-world-cup-1557251932789\n",
      "/en/news/id-be-disappointed-if-india-dont-win-world-cup-azharuddin-1557250440733\n",
      "/en/news/indian-publishers-made-me-an-old-man-i-wasnt-born-in-1975-afridi-1557243941527\n",
      "/en/news/destroy-them-like-suicide-bombers-afridi-on-orders-for-india-matches-1557244852578\n",
      "/en/news/transformed-england-favourites-to-win-2019-world-cup-gavaskar-1557164020524\n",
      "/en/news/imran-tahir-becomes-4th-spinner-to-take-300-wickets-in-t20-cricket-1557254164807\n",
      "/en/news/riyan-parag-is-an-absolute-potential-superstar-dean-jones-1557256166463\n",
      "/en/news/chris-morris-replaces-injured-anrich-nortje-in-sas-wc-squad-1557251048684\n",
      "/en/news/trump-awards-highest-us-civilian-honour-to-tiger-woods-1557249942397\n",
      "/en/news/i-will-execute-ashwins-tips-in-wc-kxips-18yrold-mujeeb-1557256067715\n",
      "/en/news/11yrs-hell-of-a-journey-ramsey-cries-on-arsenal-farewell-1557220352469\n",
      "/en/news/theres-a-way-back-for-everyone-vaughan-post-hales-wc-snub-1557233142352\n"
     ]
    }
   ],
   "source": [
    "corpus = acquire.get_news_texts('business',\n",
    "                                'sports')"
   ]
  },
  {
   "cell_type": "code",
   "execution_count": 6,
   "metadata": {},
   "outputs": [
    {
     "data": {
      "text/plain": [
       "[{'title': 'MI defeat CSK to enter IPL final for the fifth time | Sports News | Inshorts',\n",
       "  'category': 'sports',\n",
       "  'content': '\\nMI defeat CSK to enter IPL final for the fifth time\\n'},\n",
       " {'title': 'Preity Zinta jokingly warns MS Dhoni of kidnapping his daughter Ziva | Sports News | Inshorts',\n",
       "  'category': 'sports',\n",
       "  'content': '\\nPreity Zinta jokingly warns MS Dhoni of kidnapping his daughter Ziva\\n'},\n",
       " {'title': 'Rayudu, Shankar end IPL 2019 league stage with identical numbers | Sports News | Inshorts',\n",
       "  'category': 'sports',\n",
       "  'content': '\\nRayudu, Shankar end IPL 2019 league stage with identical numbers\\n'},\n",
       " {'title': 'Sorry to let fans down, I will come back stronger: Jaydev Unadkat | Sports News | Inshorts',\n",
       "  'category': 'sports',\n",
       "  'content': '\\nSorry to let fans down, I will come back stronger: Jaydev Unadkat\\n'},\n",
       " {'title': \"Mandhana's Trailblazers beat Harmanpreet's Supernovas on last ball | Sports News | Inshorts\",\n",
       "  'category': 'sports',\n",
       "  'content': \"\\nMandhana's Trailblazers beat Harmanpreet's Supernovas on last ball\\n\"},\n",
       " {'title': \"I am just 21, it's difficult to think like a 30-year-old: Rishabh Pant  | Sports News | Inshorts\",\n",
       "  'category': 'sports',\n",
       "  'content': \"\\nI am just 21, it's difficult to think like a 30-year-old: Rishabh Pant \\n\"},\n",
       " {'title': 'What should Dhoni do if he wins toss? IIT asks students in exam | Sports News | Inshorts',\n",
       "  'category': 'sports',\n",
       "  'content': '\\nWhat should Dhoni do if he wins toss? IIT asks students in exam\\n'},\n",
       " {'title': 'Umpire Nigel Llong damages door by kicking it after spat with Kohli | Sports News | Inshorts',\n",
       "  'category': 'sports',\n",
       "  'content': '\\nUmpire Nigel Llong damages door by kicking it after spat with Kohli\\n'},\n",
       " {'title': 'What are the matchups for the IPL 2019 playoffs? | Sports News | Inshorts',\n",
       "  'category': 'sports',\n",
       "  'content': '\\nWhat are the matchups for the IPL 2019 playoffs?\\n'},\n",
       " {'title': 'Selfish Afridi ruined many careers for his own good: Imran Farhat | Sports News | Inshorts',\n",
       "  'category': 'sports',\n",
       "  'content': '\\nSelfish Afridi ruined many careers for his own good: Imran Farhat\\n'},\n",
       " {'title': 'Warner should open with Finch in World Cup: Mark Waugh | Sports News | Inshorts',\n",
       "  'category': 'sports',\n",
       "  'content': '\\nWarner should open with Finch in World Cup: Mark Waugh\\n'},\n",
       " {'title': \"I've told Hales he still has an international future: England coach | Sports News | Inshorts\",\n",
       "  'category': 'sports',\n",
       "  'content': \"\\nI've told Hales he still has an international future: England coach\\n\"},\n",
       " {'title': 'Ending conference in 2 hrs over Barca vs Liverpool match: Google CEO | Sports News | Inshorts',\n",
       "  'category': 'sports',\n",
       "  'content': '\\nEnding conference in 2 hrs over Barca vs Liverpool match: Google CEO\\n'},\n",
       " {'title': \"Chris Gayle named as Windies' vice-captain for 2019 World Cup | Sports News | Inshorts\",\n",
       "  'category': 'sports',\n",
       "  'content': \"\\nChris Gayle named as Windies' vice-captain for 2019 World Cup\\n\"},\n",
       " {'title': \"I'd be disappointed if India don't win World Cup: Azharuddin | Sports News | Inshorts\",\n",
       "  'category': 'sports',\n",
       "  'content': \"\\nI'd be disappointed if India don't win World Cup: Azharuddin\\n\"},\n",
       " {'title': \"Indian publishers made me an old man, I wasn't born in 1975: Afridi | Sports News | Inshorts\",\n",
       "  'category': 'sports',\n",
       "  'content': \"\\nIndian publishers made me an old man, I wasn't born in 1975: Afridi\\n\"},\n",
       " {'title': 'Destroy them like suicide bombers: Afridi on orders for India matches | Sports News | Inshorts',\n",
       "  'category': 'sports',\n",
       "  'content': '\\nDestroy them like suicide bombers: Afridi on orders for India matches\\n'},\n",
       " {'title': 'Transformed England favourites to win 2019 World Cup: Gavaskar | Sports News | Inshorts',\n",
       "  'category': 'sports',\n",
       "  'content': '\\nTransformed England favourites to win 2019 World Cup: Gavaskar\\n'},\n",
       " {'title': 'Imran Tahir becomes 4th spinner to take 300 wickets in T20 cricket | Sports News | Inshorts',\n",
       "  'category': 'sports',\n",
       "  'content': '\\nImran Tahir becomes 4th spinner to take 300 wickets in T20 cricket\\n'},\n",
       " {'title': 'Riyan Parag is an absolute potential superstar: Dean Jones | Sports News | Inshorts',\n",
       "  'category': 'sports',\n",
       "  'content': '\\nRiyan Parag is an absolute potential superstar: Dean Jones\\n'},\n",
       " {'title': \"Chris Morris replaces injured Anrich Nortje in SA's WC squad | Sports News | Inshorts\",\n",
       "  'category': 'sports',\n",
       "  'content': \"\\nChris Morris replaces injured Anrich Nortje in SA's WC squad\\n\"},\n",
       " {'title': 'Trump awards highest US civilian honour to Tiger Woods | Sports News | Inshorts',\n",
       "  'category': 'sports',\n",
       "  'content': '\\nTrump awards highest US civilian honour to Tiger Woods\\n'},\n",
       " {'title': \"I will execute Ashwin's tips in WC: KXIP's 18-yr-old Mujeeb | Sports News | Inshorts\",\n",
       "  'category': 'sports',\n",
       "  'content': \"\\nI will execute Ashwin's tips in WC: KXIP's 18-yr-old Mujeeb\\n\"},\n",
       " {'title': '11yrs, hell of a journey: Ramsey cries on Arsenal farewell | Sports News | Inshorts',\n",
       "  'category': 'sports',\n",
       "  'content': '\\n11yrs, hell of a journey: Ramsey cries on Arsenal farewell\\n'},\n",
       " {'title': \"There’s a way back for everyone: Vaughan post Hales' WC snub | Sports News | Inshorts\",\n",
       "  'category': 'sports',\n",
       "  'content': \"\\nThere’s a way back for everyone: Vaughan post Hales' WC snub\\n\"}]"
      ]
     },
     "execution_count": 6,
     "metadata": {},
     "output_type": "execute_result"
    }
   ],
   "source": [
    "corpus"
   ]
  },
  {
   "cell_type": "code",
   "execution_count": null,
   "metadata": {},
   "outputs": [],
   "source": []
  },
  {
   "cell_type": "code",
   "execution_count": null,
   "metadata": {},
   "outputs": [],
   "source": []
  },
  {
   "cell_type": "code",
   "execution_count": null,
   "metadata": {},
   "outputs": [],
   "source": []
  },
  {
   "cell_type": "code",
   "execution_count": null,
   "metadata": {
    "scrolled": false
   },
   "outputs": [],
   "source": [
    "prepare.prepare_article_data(corpus)\n",
    "corpus"
   ]
  },
  {
   "cell_type": "code",
   "execution_count": null,
   "metadata": {},
   "outputs": [],
   "source": [
    "corpus_df = pd.DataFrame(corpus)\n",
    "corpus_df.head()"
   ]
  },
  {
   "cell_type": "code",
   "execution_count": null,
   "metadata": {},
   "outputs": [],
   "source": [
    "corpus_df= corpus_df[['category', 'title', 'clean']]\n",
    "corpus_df"
   ]
  },
  {
   "cell_type": "code",
   "execution_count": null,
   "metadata": {},
   "outputs": [],
   "source": [
    "category_words = clean(' '.join(df[df.label == 'ham'].text))\n",
    "spam_words = clean(' '.join(df[df.label == 'spam'].text))\n",
    "all_words = clean(' '.join(df.text))"
   ]
  },
  {
   "cell_type": "code",
   "execution_count": null,
   "metadata": {},
   "outputs": [],
   "source": []
  },
  {
   "cell_type": "code",
   "execution_count": null,
   "metadata": {},
   "outputs": [],
   "source": []
  },
  {
   "cell_type": "code",
   "execution_count": null,
   "metadata": {},
   "outputs": [],
   "source": []
  },
  {
   "cell_type": "code",
   "execution_count": null,
   "metadata": {},
   "outputs": [],
   "source": []
  },
  {
   "cell_type": "code",
   "execution_count": null,
   "metadata": {},
   "outputs": [],
   "source": []
  },
  {
   "cell_type": "code",
   "execution_count": null,
   "metadata": {},
   "outputs": [],
   "source": [
    "all_cloud = WordCloud(background_color='white', height=1000, width=400).generate(' '.join(all_words))\n",
    "ham_cloud = WordCloud(background_color='white', height=600, width=800).generate(' '.join(ham_words))\n",
    "spam_cloud = WordCloud(background_color='white', height=600, width=800).generate(' '.join(spam_words))\n",
    "\n",
    "plt.figure(figsize=(10, 8))\n",
    "axs = [plt.axes([0, 0, .5, 1]), plt.axes([.5, .5, .5, .5]), plt.axes([.5, 0, .5, .5])]\n",
    "\n",
    "axs[0].imshow(all_cloud)\n",
    "axs[1].imshow(ham_cloud)\n",
    "axs[2].imshow(spam_cloud)\n",
    "\n",
    "axs[0].set_title('All Words')\n",
    "axs[1].set_title('Ham')\n",
    "axs[2].set_title('Spam')\n",
    "\n",
    "for ax in axs: ax.axis('off')"
   ]
  }
 ],
 "metadata": {
  "kernelspec": {
   "display_name": "Python 3",
   "language": "python",
   "name": "python3"
  },
  "language_info": {
   "codemirror_mode": {
    "name": "ipython",
    "version": 3
   },
   "file_extension": ".py",
   "mimetype": "text/x-python",
   "name": "python",
   "nbconvert_exporter": "python",
   "pygments_lexer": "ipython3",
   "version": "3.7.1"
  }
 },
 "nbformat": 4,
 "nbformat_minor": 2
}
