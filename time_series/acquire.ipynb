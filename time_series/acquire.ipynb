{
 "cells": [
  {
   "cell_type": "code",
   "execution_count": 1,
   "metadata": {},
   "outputs": [],
   "source": [
    "import requests\n",
    "import pandas as pd"
   ]
  },
  {
   "cell_type": "code",
   "execution_count": 2,
   "metadata": {},
   "outputs": [],
   "source": [
    "base_url = 'https://python.zach.lol'\n",
    "response = requests.get('https://python.zach.lol/api/v1/items')"
   ]
  },
  {
   "cell_type": "code",
   "execution_count": 3,
   "metadata": {},
   "outputs": [],
   "source": [
    "data = response.json()"
   ]
  },
  {
   "cell_type": "code",
   "execution_count": 4,
   "metadata": {},
   "outputs": [
    {
     "data": {
      "text/plain": [
       "dict_keys(['payload', 'status'])"
      ]
     },
     "execution_count": 4,
     "metadata": {},
     "output_type": "execute_result"
    }
   ],
   "source": [
    "data.keys()"
   ]
  },
  {
   "cell_type": "code",
   "execution_count": 5,
   "metadata": {},
   "outputs": [
    {
     "data": {
      "text/plain": [
       "dict_keys(['items', 'max_page', 'next_page', 'page', 'previous_page'])"
      ]
     },
     "execution_count": 5,
     "metadata": {},
     "output_type": "execute_result"
    }
   ],
   "source": [
    "data['payload'].keys()"
   ]
  },
  {
   "cell_type": "code",
   "execution_count": 6,
   "metadata": {},
   "outputs": [
    {
     "data": {
      "text/html": [
       "<div>\n",
       "<style scoped>\n",
       "    .dataframe tbody tr th:only-of-type {\n",
       "        vertical-align: middle;\n",
       "    }\n",
       "\n",
       "    .dataframe tbody tr th {\n",
       "        vertical-align: top;\n",
       "    }\n",
       "\n",
       "    .dataframe thead th {\n",
       "        text-align: right;\n",
       "    }\n",
       "</style>\n",
       "<table border=\"1\" class=\"dataframe\">\n",
       "  <thead>\n",
       "    <tr style=\"text-align: right;\">\n",
       "      <th></th>\n",
       "      <th>item_brand</th>\n",
       "      <th>item_id</th>\n",
       "      <th>item_name</th>\n",
       "      <th>item_price</th>\n",
       "      <th>item_upc12</th>\n",
       "      <th>item_upc14</th>\n",
       "    </tr>\n",
       "  </thead>\n",
       "  <tbody>\n",
       "    <tr>\n",
       "      <th>0</th>\n",
       "      <td>Riceland</td>\n",
       "      <td>1</td>\n",
       "      <td>Riceland American Jazmine Rice</td>\n",
       "      <td>0.84</td>\n",
       "      <td>35200264013</td>\n",
       "      <td>35200264013</td>\n",
       "    </tr>\n",
       "    <tr>\n",
       "      <th>1</th>\n",
       "      <td>Caress</td>\n",
       "      <td>2</td>\n",
       "      <td>Caress Velvet Bliss Ultra Silkening Beauty Bar...</td>\n",
       "      <td>6.44</td>\n",
       "      <td>11111065925</td>\n",
       "      <td>11111065925</td>\n",
       "    </tr>\n",
       "    <tr>\n",
       "      <th>2</th>\n",
       "      <td>Earths Best</td>\n",
       "      <td>3</td>\n",
       "      <td>Earths Best Organic Fruit Yogurt Smoothie Mixe...</td>\n",
       "      <td>2.43</td>\n",
       "      <td>23923330139</td>\n",
       "      <td>23923330139</td>\n",
       "    </tr>\n",
       "    <tr>\n",
       "      <th>3</th>\n",
       "      <td>Boars Head</td>\n",
       "      <td>4</td>\n",
       "      <td>Boars Head Sliced White American Cheese - 120 Ct</td>\n",
       "      <td>3.14</td>\n",
       "      <td>208528800007</td>\n",
       "      <td>208528800007</td>\n",
       "    </tr>\n",
       "    <tr>\n",
       "      <th>4</th>\n",
       "      <td>Back To Nature</td>\n",
       "      <td>5</td>\n",
       "      <td>Back To Nature Gluten Free White Cheddar Rice ...</td>\n",
       "      <td>2.61</td>\n",
       "      <td>759283100036</td>\n",
       "      <td>759283100036</td>\n",
       "    </tr>\n",
       "  </tbody>\n",
       "</table>\n",
       "</div>"
      ],
      "text/plain": [
       "       item_brand  item_id                                          item_name  \\\n",
       "0        Riceland        1                     Riceland American Jazmine Rice   \n",
       "1          Caress        2  Caress Velvet Bliss Ultra Silkening Beauty Bar...   \n",
       "2     Earths Best        3  Earths Best Organic Fruit Yogurt Smoothie Mixe...   \n",
       "3      Boars Head        4   Boars Head Sliced White American Cheese - 120 Ct   \n",
       "4  Back To Nature        5  Back To Nature Gluten Free White Cheddar Rice ...   \n",
       "\n",
       "   item_price    item_upc12    item_upc14  \n",
       "0        0.84   35200264013   35200264013  \n",
       "1        6.44   11111065925   11111065925  \n",
       "2        2.43   23923330139   23923330139  \n",
       "3        3.14  208528800007  208528800007  \n",
       "4        2.61  759283100036  759283100036  "
      ]
     },
     "execution_count": 6,
     "metadata": {},
     "output_type": "execute_result"
    }
   ],
   "source": [
    "df = pd.DataFrame(data['payload']['items'])\n",
    "df.head()"
   ]
  },
  {
   "cell_type": "code",
   "execution_count": 7,
   "metadata": {},
   "outputs": [
    {
     "name": "stdout",
     "output_type": "stream",
     "text": [
      "max_page:  3\n"
     ]
    }
   ],
   "source": [
    "print('max_page:  %s' % data['payload']['max_page'])"
   ]
  },
  {
   "cell_type": "code",
   "execution_count": 8,
   "metadata": {},
   "outputs": [
    {
     "name": "stdout",
     "output_type": "stream",
     "text": [
      "3\n"
     ]
    }
   ],
   "source": [
    "print(data['payload']['max_page'])"
   ]
  },
  {
   "cell_type": "code",
   "execution_count": 9,
   "metadata": {},
   "outputs": [
    {
     "data": {
      "text/plain": [
       "'https://python.zach.lol'"
      ]
     },
     "execution_count": 9,
     "metadata": {},
     "output_type": "execute_result"
    }
   ],
   "source": [
    "base_url"
   ]
  },
  {
   "cell_type": "code",
   "execution_count": 10,
   "metadata": {},
   "outputs": [
    {
     "data": {
      "text/plain": [
       "(20, 6)"
      ]
     },
     "execution_count": 10,
     "metadata": {},
     "output_type": "execute_result"
    }
   ],
   "source": [
    "df = pd.DataFrame(data['payload']['items'])\n",
    "df.shape"
   ]
  },
  {
   "cell_type": "code",
   "execution_count": 11,
   "metadata": {},
   "outputs": [],
   "source": [
    "response = requests.get(base_url + data['payload']['next_page'])\n",
    "data = response.json()"
   ]
  },
  {
   "cell_type": "code",
   "execution_count": 12,
   "metadata": {},
   "outputs": [],
   "source": [
    "df = pd.concat([df, pd.DataFrame(data['payload']['items'])]).reset_index()"
   ]
  },
  {
   "cell_type": "code",
   "execution_count": 15,
   "metadata": {},
   "outputs": [
    {
     "data": {
      "text/plain": [
       "(40, 7)"
      ]
     },
     "execution_count": 15,
     "metadata": {},
     "output_type": "execute_result"
    }
   ],
   "source": [
    "df.shape"
   ]
  },
  {
   "cell_type": "code",
   "execution_count": 16,
   "metadata": {},
   "outputs": [],
   "source": [
    "response = requests.get(base_url + data['payload']['next_page'])\n",
    "data = response.json()"
   ]
  },
  {
   "cell_type": "code",
   "execution_count": 17,
   "metadata": {},
   "outputs": [
    {
     "name": "stderr",
     "output_type": "stream",
     "text": [
      "/usr/local/anaconda3/lib/python3.7/site-packages/ipykernel_launcher.py:1: FutureWarning: Sorting because non-concatenation axis is not aligned. A future version\n",
      "of pandas will change to not sort by default.\n",
      "\n",
      "To accept the future behavior, pass 'sort=False'.\n",
      "\n",
      "To retain the current behavior and silence the warning, pass 'sort=True'.\n",
      "\n",
      "  \"\"\"Entry point for launching an IPython kernel.\n"
     ]
    }
   ],
   "source": [
    "df = pd.concat([df, pd.DataFrame(data['payload']['items'])]).reset_index()"
   ]
  },
  {
   "cell_type": "code",
   "execution_count": 18,
   "metadata": {},
   "outputs": [
    {
     "data": {
      "text/plain": [
       "(50, 8)"
      ]
     },
     "execution_count": 18,
     "metadata": {},
     "output_type": "execute_result"
    }
   ],
   "source": [
    "df.shape"
   ]
  },
  {
   "cell_type": "code",
   "execution_count": 19,
   "metadata": {},
   "outputs": [
    {
     "data": {
      "text/html": [
       "<div>\n",
       "<style scoped>\n",
       "    .dataframe tbody tr th:only-of-type {\n",
       "        vertical-align: middle;\n",
       "    }\n",
       "\n",
       "    .dataframe tbody tr th {\n",
       "        vertical-align: top;\n",
       "    }\n",
       "\n",
       "    .dataframe thead th {\n",
       "        text-align: right;\n",
       "    }\n",
       "</style>\n",
       "<table border=\"1\" class=\"dataframe\">\n",
       "  <thead>\n",
       "    <tr style=\"text-align: right;\">\n",
       "      <th></th>\n",
       "      <th>level_0</th>\n",
       "      <th>index</th>\n",
       "      <th>item_brand</th>\n",
       "      <th>item_id</th>\n",
       "      <th>item_name</th>\n",
       "      <th>item_price</th>\n",
       "      <th>item_upc12</th>\n",
       "      <th>item_upc14</th>\n",
       "    </tr>\n",
       "  </thead>\n",
       "  <tbody>\n",
       "    <tr>\n",
       "      <th>0</th>\n",
       "      <td>0</td>\n",
       "      <td>0.0</td>\n",
       "      <td>Riceland</td>\n",
       "      <td>1</td>\n",
       "      <td>Riceland American Jazmine Rice</td>\n",
       "      <td>0.84</td>\n",
       "      <td>35200264013</td>\n",
       "      <td>35200264013</td>\n",
       "    </tr>\n",
       "    <tr>\n",
       "      <th>1</th>\n",
       "      <td>1</td>\n",
       "      <td>1.0</td>\n",
       "      <td>Caress</td>\n",
       "      <td>2</td>\n",
       "      <td>Caress Velvet Bliss Ultra Silkening Beauty Bar...</td>\n",
       "      <td>6.44</td>\n",
       "      <td>11111065925</td>\n",
       "      <td>11111065925</td>\n",
       "    </tr>\n",
       "    <tr>\n",
       "      <th>2</th>\n",
       "      <td>2</td>\n",
       "      <td>2.0</td>\n",
       "      <td>Earths Best</td>\n",
       "      <td>3</td>\n",
       "      <td>Earths Best Organic Fruit Yogurt Smoothie Mixe...</td>\n",
       "      <td>2.43</td>\n",
       "      <td>23923330139</td>\n",
       "      <td>23923330139</td>\n",
       "    </tr>\n",
       "    <tr>\n",
       "      <th>3</th>\n",
       "      <td>3</td>\n",
       "      <td>3.0</td>\n",
       "      <td>Boars Head</td>\n",
       "      <td>4</td>\n",
       "      <td>Boars Head Sliced White American Cheese - 120 Ct</td>\n",
       "      <td>3.14</td>\n",
       "      <td>208528800007</td>\n",
       "      <td>208528800007</td>\n",
       "    </tr>\n",
       "    <tr>\n",
       "      <th>4</th>\n",
       "      <td>4</td>\n",
       "      <td>4.0</td>\n",
       "      <td>Back To Nature</td>\n",
       "      <td>5</td>\n",
       "      <td>Back To Nature Gluten Free White Cheddar Rice ...</td>\n",
       "      <td>2.61</td>\n",
       "      <td>759283100036</td>\n",
       "      <td>759283100036</td>\n",
       "    </tr>\n",
       "  </tbody>\n",
       "</table>\n",
       "</div>"
      ],
      "text/plain": [
       "   level_0  index      item_brand  item_id  \\\n",
       "0        0    0.0        Riceland        1   \n",
       "1        1    1.0          Caress        2   \n",
       "2        2    2.0     Earths Best        3   \n",
       "3        3    3.0      Boars Head        4   \n",
       "4        4    4.0  Back To Nature        5   \n",
       "\n",
       "                                           item_name  item_price  \\\n",
       "0                     Riceland American Jazmine Rice        0.84   \n",
       "1  Caress Velvet Bliss Ultra Silkening Beauty Bar...        6.44   \n",
       "2  Earths Best Organic Fruit Yogurt Smoothie Mixe...        2.43   \n",
       "3   Boars Head Sliced White American Cheese - 120 Ct        3.14   \n",
       "4  Back To Nature Gluten Free White Cheddar Rice ...        2.61   \n",
       "\n",
       "     item_upc12    item_upc14  \n",
       "0   35200264013   35200264013  \n",
       "1   11111065925   11111065925  \n",
       "2   23923330139   23923330139  \n",
       "3  208528800007  208528800007  \n",
       "4  759283100036  759283100036  "
      ]
     },
     "execution_count": 19,
     "metadata": {},
     "output_type": "execute_result"
    }
   ],
   "source": [
    "df.head()"
   ]
  },
  {
   "cell_type": "code",
   "execution_count": 25,
   "metadata": {},
   "outputs": [],
   "source": [
    "response = requests.get(base_url + '/api/v1/stores?page=0')"
   ]
  },
  {
   "cell_type": "code",
   "execution_count": 85,
   "metadata": {},
   "outputs": [
    {
     "name": "stdout",
     "output_type": "stream",
     "text": [
      "https://python.zach.lol/api/v1/sales?page=1\n",
      "(5000, 5)\n",
      "https://python.zach.lol/api/v1/sales?page=2\n",
      "(10000, 5)\n",
      "https://python.zach.lol/api/v1/sales?page=3\n",
      "(15000, 5)\n",
      "https://python.zach.lol/api/v1/sales?page=4\n",
      "(20000, 5)\n",
      "https://python.zach.lol/api/v1/sales?page=5\n",
      "(25000, 5)\n",
      "https://python.zach.lol/api/v1/sales?page=6\n",
      "(30000, 5)\n",
      "https://python.zach.lol/api/v1/sales?page=7\n",
      "(35000, 5)\n",
      "https://python.zach.lol/api/v1/sales?page=8\n",
      "(40000, 5)\n",
      "https://python.zach.lol/api/v1/sales?page=9\n",
      "(45000, 5)\n",
      "https://python.zach.lol/api/v1/sales?page=10\n",
      "(50000, 5)\n",
      "https://python.zach.lol/api/v1/sales?page=11\n",
      "(55000, 5)\n",
      "https://python.zach.lol/api/v1/sales?page=12\n",
      "(60000, 5)\n",
      "https://python.zach.lol/api/v1/sales?page=13\n",
      "(65000, 5)\n",
      "https://python.zach.lol/api/v1/sales?page=14\n",
      "(70000, 5)\n",
      "https://python.zach.lol/api/v1/sales?page=15\n",
      "(75000, 5)\n",
      "https://python.zach.lol/api/v1/sales?page=16\n",
      "(80000, 5)\n",
      "https://python.zach.lol/api/v1/sales?page=17\n",
      "(85000, 5)\n",
      "https://python.zach.lol/api/v1/sales?page=18\n",
      "(90000, 5)\n",
      "https://python.zach.lol/api/v1/sales?page=19\n",
      "(95000, 5)\n",
      "https://python.zach.lol/api/v1/sales?page=20\n",
      "(100000, 5)\n",
      "https://python.zach.lol/api/v1/sales?page=21\n",
      "(105000, 5)\n",
      "https://python.zach.lol/api/v1/sales?page=22\n",
      "(110000, 5)\n",
      "https://python.zach.lol/api/v1/sales?page=23\n",
      "(115000, 5)\n",
      "https://python.zach.lol/api/v1/sales?page=24\n",
      "(120000, 5)\n",
      "https://python.zach.lol/api/v1/sales?page=25\n",
      "(125000, 5)\n",
      "https://python.zach.lol/api/v1/sales?page=26\n",
      "(130000, 5)\n",
      "https://python.zach.lol/api/v1/sales?page=27\n",
      "(135000, 5)\n",
      "https://python.zach.lol/api/v1/sales?page=28\n",
      "(140000, 5)\n",
      "https://python.zach.lol/api/v1/sales?page=29\n",
      "(145000, 5)\n",
      "https://python.zach.lol/api/v1/sales?page=30\n",
      "(150000, 5)\n",
      "https://python.zach.lol/api/v1/sales?page=31\n",
      "(155000, 5)\n",
      "https://python.zach.lol/api/v1/sales?page=32\n",
      "(160000, 5)\n",
      "https://python.zach.lol/api/v1/sales?page=33\n",
      "(165000, 5)\n",
      "https://python.zach.lol/api/v1/sales?page=34\n",
      "(170000, 5)\n",
      "https://python.zach.lol/api/v1/sales?page=35\n",
      "(175000, 5)\n",
      "https://python.zach.lol/api/v1/sales?page=36\n",
      "(180000, 5)\n",
      "https://python.zach.lol/api/v1/sales?page=37\n",
      "(185000, 5)\n",
      "https://python.zach.lol/api/v1/sales?page=38\n",
      "(190000, 5)\n",
      "https://python.zach.lol/api/v1/sales?page=39\n",
      "(195000, 5)\n",
      "https://python.zach.lol/api/v1/sales?page=40\n",
      "(200000, 5)\n",
      "https://python.zach.lol/api/v1/sales?page=41\n",
      "(205000, 5)\n",
      "https://python.zach.lol/api/v1/sales?page=42\n",
      "(210000, 5)\n",
      "https://python.zach.lol/api/v1/sales?page=43\n",
      "(215000, 5)\n",
      "https://python.zach.lol/api/v1/sales?page=44\n",
      "(220000, 5)\n",
      "https://python.zach.lol/api/v1/sales?page=45\n",
      "(225000, 5)\n",
      "https://python.zach.lol/api/v1/sales?page=46\n",
      "(230000, 5)\n",
      "https://python.zach.lol/api/v1/sales?page=47\n",
      "(235000, 5)\n",
      "https://python.zach.lol/api/v1/sales?page=48\n",
      "(240000, 5)\n",
      "https://python.zach.lol/api/v1/sales?page=49\n",
      "(245000, 5)\n",
      "https://python.zach.lol/api/v1/sales?page=50\n",
      "(250000, 5)\n",
      "https://python.zach.lol/api/v1/sales?page=51\n",
      "(255000, 5)\n",
      "https://python.zach.lol/api/v1/sales?page=52\n",
      "(260000, 5)\n",
      "https://python.zach.lol/api/v1/sales?page=53\n",
      "(265000, 5)\n",
      "https://python.zach.lol/api/v1/sales?page=54\n",
      "(270000, 5)\n",
      "https://python.zach.lol/api/v1/sales?page=55\n",
      "(275000, 5)\n",
      "https://python.zach.lol/api/v1/sales?page=56\n",
      "(280000, 5)\n",
      "https://python.zach.lol/api/v1/sales?page=57\n",
      "(285000, 5)\n",
      "https://python.zach.lol/api/v1/sales?page=58\n",
      "(290000, 5)\n",
      "https://python.zach.lol/api/v1/sales?page=59\n",
      "(295000, 5)\n",
      "https://python.zach.lol/api/v1/sales?page=60\n",
      "(300000, 5)\n",
      "https://python.zach.lol/api/v1/sales?page=61\n",
      "(305000, 5)\n",
      "https://python.zach.lol/api/v1/sales?page=62\n",
      "(310000, 5)\n",
      "https://python.zach.lol/api/v1/sales?page=63\n",
      "(315000, 5)\n",
      "https://python.zach.lol/api/v1/sales?page=64\n",
      "(320000, 5)\n",
      "https://python.zach.lol/api/v1/sales?page=65\n",
      "(325000, 5)\n",
      "https://python.zach.lol/api/v1/sales?page=66\n",
      "(330000, 5)\n",
      "https://python.zach.lol/api/v1/sales?page=67\n",
      "(335000, 5)\n",
      "https://python.zach.lol/api/v1/sales?page=68\n",
      "(340000, 5)\n",
      "https://python.zach.lol/api/v1/sales?page=69\n",
      "(345000, 5)\n",
      "https://python.zach.lol/api/v1/sales?page=70\n",
      "(350000, 5)\n",
      "https://python.zach.lol/api/v1/sales?page=71\n",
      "(355000, 5)\n",
      "https://python.zach.lol/api/v1/sales?page=72\n",
      "(360000, 5)\n",
      "https://python.zach.lol/api/v1/sales?page=73\n",
      "(365000, 5)\n",
      "https://python.zach.lol/api/v1/sales?page=74\n",
      "(370000, 5)\n",
      "https://python.zach.lol/api/v1/sales?page=75\n",
      "(375000, 5)\n",
      "https://python.zach.lol/api/v1/sales?page=76\n",
      "(380000, 5)\n",
      "https://python.zach.lol/api/v1/sales?page=77\n",
      "(385000, 5)\n",
      "https://python.zach.lol/api/v1/sales?page=78\n",
      "(390000, 5)\n",
      "https://python.zach.lol/api/v1/sales?page=79\n",
      "(395000, 5)\n",
      "https://python.zach.lol/api/v1/sales?page=80\n",
      "(400000, 5)\n",
      "https://python.zach.lol/api/v1/sales?page=81\n",
      "(405000, 5)\n",
      "https://python.zach.lol/api/v1/sales?page=82\n",
      "(410000, 5)\n",
      "https://python.zach.lol/api/v1/sales?page=83\n",
      "(415000, 5)\n",
      "https://python.zach.lol/api/v1/sales?page=84\n",
      "(420000, 5)\n",
      "https://python.zach.lol/api/v1/sales?page=85\n",
      "(425000, 5)\n",
      "https://python.zach.lol/api/v1/sales?page=86\n",
      "(430000, 5)\n",
      "https://python.zach.lol/api/v1/sales?page=87\n",
      "(435000, 5)\n",
      "https://python.zach.lol/api/v1/sales?page=88\n",
      "(440000, 5)\n",
      "https://python.zach.lol/api/v1/sales?page=89\n",
      "(445000, 5)\n",
      "https://python.zach.lol/api/v1/sales?page=90\n",
      "(450000, 5)\n",
      "https://python.zach.lol/api/v1/sales?page=91\n",
      "(455000, 5)\n",
      "https://python.zach.lol/api/v1/sales?page=92\n",
      "(460000, 5)\n",
      "https://python.zach.lol/api/v1/sales?page=93\n",
      "(465000, 5)\n",
      "https://python.zach.lol/api/v1/sales?page=94\n",
      "(470000, 5)\n",
      "https://python.zach.lol/api/v1/sales?page=95\n",
      "(475000, 5)\n",
      "https://python.zach.lol/api/v1/sales?page=96\n",
      "(480000, 5)\n",
      "https://python.zach.lol/api/v1/sales?page=97\n",
      "(485000, 5)\n",
      "https://python.zach.lol/api/v1/sales?page=98\n",
      "(490000, 5)\n",
      "https://python.zach.lol/api/v1/sales?page=99\n",
      "(495000, 5)\n",
      "https://python.zach.lol/api/v1/sales?page=100\n",
      "(500000, 5)\n",
      "https://python.zach.lol/api/v1/sales?page=101\n",
      "(505000, 5)\n",
      "https://python.zach.lol/api/v1/sales?page=102\n",
      "(510000, 5)\n",
      "https://python.zach.lol/api/v1/sales?page=103\n",
      "(515000, 5)\n",
      "https://python.zach.lol/api/v1/sales?page=104\n",
      "(520000, 5)\n",
      "https://python.zach.lol/api/v1/sales?page=105\n",
      "(525000, 5)\n",
      "https://python.zach.lol/api/v1/sales?page=106\n",
      "(530000, 5)\n",
      "https://python.zach.lol/api/v1/sales?page=107\n",
      "(535000, 5)\n",
      "https://python.zach.lol/api/v1/sales?page=108\n",
      "(540000, 5)\n",
      "https://python.zach.lol/api/v1/sales?page=109\n",
      "(545000, 5)\n",
      "https://python.zach.lol/api/v1/sales?page=110\n",
      "(550000, 5)\n",
      "https://python.zach.lol/api/v1/sales?page=111\n",
      "(555000, 5)\n",
      "https://python.zach.lol/api/v1/sales?page=112\n",
      "(560000, 5)\n",
      "https://python.zach.lol/api/v1/sales?page=113\n",
      "(565000, 5)\n",
      "https://python.zach.lol/api/v1/sales?page=114\n",
      "(570000, 5)\n",
      "https://python.zach.lol/api/v1/sales?page=115\n",
      "(575000, 5)\n",
      "https://python.zach.lol/api/v1/sales?page=116\n",
      "(580000, 5)\n",
      "https://python.zach.lol/api/v1/sales?page=117\n",
      "(585000, 5)\n",
      "https://python.zach.lol/api/v1/sales?page=118\n",
      "(590000, 5)\n",
      "https://python.zach.lol/api/v1/sales?page=119\n",
      "(595000, 5)\n",
      "https://python.zach.lol/api/v1/sales?page=120\n",
      "(600000, 5)\n",
      "https://python.zach.lol/api/v1/sales?page=121\n",
      "(605000, 5)\n",
      "https://python.zach.lol/api/v1/sales?page=122\n",
      "(610000, 5)\n",
      "https://python.zach.lol/api/v1/sales?page=123\n",
      "(615000, 5)\n",
      "https://python.zach.lol/api/v1/sales?page=124\n",
      "(620000, 5)\n",
      "https://python.zach.lol/api/v1/sales?page=125\n",
      "(625000, 5)\n",
      "https://python.zach.lol/api/v1/sales?page=126\n",
      "(630000, 5)\n",
      "https://python.zach.lol/api/v1/sales?page=127\n",
      "(635000, 5)\n",
      "https://python.zach.lol/api/v1/sales?page=128\n",
      "(640000, 5)\n",
      "https://python.zach.lol/api/v1/sales?page=129\n",
      "(645000, 5)\n",
      "https://python.zach.lol/api/v1/sales?page=130\n",
      "(650000, 5)\n",
      "https://python.zach.lol/api/v1/sales?page=131\n",
      "(655000, 5)\n",
      "https://python.zach.lol/api/v1/sales?page=132\n",
      "(660000, 5)\n",
      "https://python.zach.lol/api/v1/sales?page=133\n",
      "(665000, 5)\n",
      "https://python.zach.lol/api/v1/sales?page=134\n",
      "(670000, 5)\n",
      "https://python.zach.lol/api/v1/sales?page=135\n",
      "(675000, 5)\n",
      "https://python.zach.lol/api/v1/sales?page=136\n",
      "(680000, 5)\n",
      "https://python.zach.lol/api/v1/sales?page=137\n",
      "(685000, 5)\n",
      "https://python.zach.lol/api/v1/sales?page=138\n",
      "(690000, 5)\n",
      "https://python.zach.lol/api/v1/sales?page=139\n",
      "(695000, 5)\n",
      "https://python.zach.lol/api/v1/sales?page=140\n",
      "(700000, 5)\n",
      "https://python.zach.lol/api/v1/sales?page=141\n",
      "(705000, 5)\n",
      "https://python.zach.lol/api/v1/sales?page=142\n",
      "(710000, 5)\n",
      "https://python.zach.lol/api/v1/sales?page=143\n",
      "(715000, 5)\n",
      "https://python.zach.lol/api/v1/sales?page=144\n",
      "(720000, 5)\n",
      "https://python.zach.lol/api/v1/sales?page=145\n",
      "(725000, 5)\n"
     ]
    },
    {
     "name": "stdout",
     "output_type": "stream",
     "text": [
      "https://python.zach.lol/api/v1/sales?page=146\n",
      "(730000, 5)\n",
      "https://python.zach.lol/api/v1/sales?page=147\n",
      "(735000, 5)\n",
      "https://python.zach.lol/api/v1/sales?page=148\n",
      "(740000, 5)\n",
      "https://python.zach.lol/api/v1/sales?page=149\n",
      "(745000, 5)\n",
      "https://python.zach.lol/api/v1/sales?page=150\n",
      "(750000, 5)\n",
      "https://python.zach.lol/api/v1/sales?page=151\n",
      "(755000, 5)\n",
      "https://python.zach.lol/api/v1/sales?page=152\n",
      "(760000, 5)\n",
      "https://python.zach.lol/api/v1/sales?page=153\n",
      "(765000, 5)\n",
      "https://python.zach.lol/api/v1/sales?page=154\n",
      "(770000, 5)\n",
      "https://python.zach.lol/api/v1/sales?page=155\n",
      "(775000, 5)\n",
      "https://python.zach.lol/api/v1/sales?page=156\n",
      "(780000, 5)\n",
      "https://python.zach.lol/api/v1/sales?page=157\n",
      "(785000, 5)\n",
      "https://python.zach.lol/api/v1/sales?page=158\n",
      "(790000, 5)\n",
      "https://python.zach.lol/api/v1/sales?page=159\n",
      "(795000, 5)\n",
      "https://python.zach.lol/api/v1/sales?page=160\n",
      "(800000, 5)\n",
      "https://python.zach.lol/api/v1/sales?page=161\n",
      "(805000, 5)\n",
      "https://python.zach.lol/api/v1/sales?page=162\n",
      "(810000, 5)\n",
      "https://python.zach.lol/api/v1/sales?page=163\n",
      "(815000, 5)\n",
      "https://python.zach.lol/api/v1/sales?page=164\n",
      "(820000, 5)\n",
      "https://python.zach.lol/api/v1/sales?page=165\n",
      "(825000, 5)\n",
      "https://python.zach.lol/api/v1/sales?page=166\n",
      "(830000, 5)\n",
      "https://python.zach.lol/api/v1/sales?page=167\n",
      "(835000, 5)\n",
      "https://python.zach.lol/api/v1/sales?page=168\n",
      "(840000, 5)\n",
      "https://python.zach.lol/api/v1/sales?page=169\n",
      "(845000, 5)\n",
      "https://python.zach.lol/api/v1/sales?page=170\n",
      "(850000, 5)\n",
      "https://python.zach.lol/api/v1/sales?page=171\n",
      "(855000, 5)\n",
      "https://python.zach.lol/api/v1/sales?page=172\n",
      "(860000, 5)\n",
      "https://python.zach.lol/api/v1/sales?page=173\n",
      "(865000, 5)\n",
      "https://python.zach.lol/api/v1/sales?page=174\n",
      "(870000, 5)\n",
      "https://python.zach.lol/api/v1/sales?page=175\n",
      "(875000, 5)\n",
      "https://python.zach.lol/api/v1/sales?page=176\n",
      "(880000, 5)\n",
      "https://python.zach.lol/api/v1/sales?page=177\n",
      "(885000, 5)\n",
      "https://python.zach.lol/api/v1/sales?page=178\n",
      "(890000, 5)\n",
      "https://python.zach.lol/api/v1/sales?page=179\n",
      "(895000, 5)\n",
      "https://python.zach.lol/api/v1/sales?page=180\n",
      "(900000, 5)\n",
      "https://python.zach.lol/api/v1/sales?page=181\n",
      "(905000, 5)\n",
      "https://python.zach.lol/api/v1/sales?page=182\n",
      "(910000, 5)\n",
      "https://python.zach.lol/api/v1/sales?page=183\n",
      "(915000, 5)\n"
     ]
    }
   ],
   "source": [
    "location='sales'\n",
    "\n",
    "response = requests.get(base_url + '/api/v1/' + location + '?page=' + (str(i+1)))\n",
    "data = response.json()\n",
    "\n",
    "df = pd.DataFrame(data['payload'][location])\n",
    "\n",
    "for i in range((data['payload']['max_page'])):\n",
    "    print(base_url + '/api/v1/' + location + '?page=' + (str(i+1)))\n",
    "    data = response.json()\n",
    "    print(df.shape)\n",
    "    df = pd.concat([df, pd.DataFrame(data['payload'][location])])"
   ]
  },
  {
   "cell_type": "code",
   "execution_count": 68,
   "metadata": {},
   "outputs": [],
   "source": [
    "df.to_csv(\"python_zach_lol.csv\")"
   ]
  },
  {
   "cell_type": "code",
   "execution_count": 86,
   "metadata": {},
   "outputs": [
    {
     "data": {
      "text/html": [
       "<div>\n",
       "<style scoped>\n",
       "    .dataframe tbody tr th:only-of-type {\n",
       "        vertical-align: middle;\n",
       "    }\n",
       "\n",
       "    .dataframe tbody tr th {\n",
       "        vertical-align: top;\n",
       "    }\n",
       "\n",
       "    .dataframe thead th {\n",
       "        text-align: right;\n",
       "    }\n",
       "</style>\n",
       "<table border=\"1\" class=\"dataframe\">\n",
       "  <thead>\n",
       "    <tr style=\"text-align: right;\">\n",
       "      <th></th>\n",
       "      <th>item</th>\n",
       "      <th>sale_amount</th>\n",
       "      <th>sale_date</th>\n",
       "      <th>sale_id</th>\n",
       "      <th>store</th>\n",
       "    </tr>\n",
       "  </thead>\n",
       "  <tbody>\n",
       "    <tr>\n",
       "      <th>0</th>\n",
       "      <td>1</td>\n",
       "      <td>13.0</td>\n",
       "      <td>Tue, 01 Jan 2013 00:00:00 GMT</td>\n",
       "      <td>1</td>\n",
       "      <td>1</td>\n",
       "    </tr>\n",
       "    <tr>\n",
       "      <th>1</th>\n",
       "      <td>1</td>\n",
       "      <td>11.0</td>\n",
       "      <td>Wed, 02 Jan 2013 00:00:00 GMT</td>\n",
       "      <td>2</td>\n",
       "      <td>1</td>\n",
       "    </tr>\n",
       "    <tr>\n",
       "      <th>2</th>\n",
       "      <td>1</td>\n",
       "      <td>14.0</td>\n",
       "      <td>Thu, 03 Jan 2013 00:00:00 GMT</td>\n",
       "      <td>3</td>\n",
       "      <td>1</td>\n",
       "    </tr>\n",
       "    <tr>\n",
       "      <th>3</th>\n",
       "      <td>1</td>\n",
       "      <td>13.0</td>\n",
       "      <td>Fri, 04 Jan 2013 00:00:00 GMT</td>\n",
       "      <td>4</td>\n",
       "      <td>1</td>\n",
       "    </tr>\n",
       "    <tr>\n",
       "      <th>4</th>\n",
       "      <td>1</td>\n",
       "      <td>10.0</td>\n",
       "      <td>Sat, 05 Jan 2013 00:00:00 GMT</td>\n",
       "      <td>5</td>\n",
       "      <td>1</td>\n",
       "    </tr>\n",
       "  </tbody>\n",
       "</table>\n",
       "</div>"
      ],
      "text/plain": [
       "   item  sale_amount                      sale_date  sale_id  store\n",
       "0     1         13.0  Tue, 01 Jan 2013 00:00:00 GMT        1      1\n",
       "1     1         11.0  Wed, 02 Jan 2013 00:00:00 GMT        2      1\n",
       "2     1         14.0  Thu, 03 Jan 2013 00:00:00 GMT        3      1\n",
       "3     1         13.0  Fri, 04 Jan 2013 00:00:00 GMT        4      1\n",
       "4     1         10.0  Sat, 05 Jan 2013 00:00:00 GMT        5      1"
      ]
     },
     "execution_count": 86,
     "metadata": {},
     "output_type": "execute_result"
    }
   ],
   "source": [
    "df.head()"
   ]
  },
  {
   "cell_type": "code",
   "execution_count": 87,
   "metadata": {},
   "outputs": [
    {
     "data": {
      "text/plain": [
       "(920000, 5)"
      ]
     },
     "execution_count": 87,
     "metadata": {},
     "output_type": "execute_result"
    }
   ],
   "source": [
    "df.shape"
   ]
  },
  {
   "cell_type": "code",
   "execution_count": null,
   "metadata": {},
   "outputs": [],
   "source": []
  }
 ],
 "metadata": {
  "kernelspec": {
   "display_name": "Python 3",
   "language": "python",
   "name": "python3"
  },
  "language_info": {
   "codemirror_mode": {
    "name": "ipython",
    "version": 3
   },
   "file_extension": ".py",
   "mimetype": "text/x-python",
   "name": "python",
   "nbconvert_exporter": "python",
   "pygments_lexer": "ipython3",
   "version": "3.7.1"
  }
 },
 "nbformat": 4,
 "nbformat_minor": 2
}
