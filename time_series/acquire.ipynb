{
 "cells": [
  {
   "cell_type": "code",
   "execution_count": 1,
   "metadata": {},
   "outputs": [],
   "source": [
    "import requests\n",
    "import pandas as pd"
   ]
  },
  {
   "cell_type": "code",
   "execution_count": 2,
   "metadata": {},
   "outputs": [],
   "source": [
    "base_url = 'https://python.zach.lol'"
   ]
  },
  {
   "cell_type": "code",
   "execution_count": 19,
   "metadata": {},
   "outputs": [],
   "source": [
    "def get_data(location):\n",
    "\tresponse = requests.get(base_url + '/api/v1/' + location + '?page=1')\n",
    "\tdata = response.json()\n",
    "\n",
    "\tdf = pd.DataFrame(data['payload'][location])\n",
    "\n",
    "\tfor i in range((data['payload']['max_page'])):\n",
    "# \t\tprint(base_url + '/api/v1/' + location + '?page=' + (str(i+1)))\n",
    "\t\tdata = response.json()\n",
    "# \t\tprint(df.shape)\n",
    "\t\tdf = pd.concat([df, pd.DataFrame(data['payload'][location])])\n",
    "\treturn df"
   ]
  },
  {
   "cell_type": "code",
   "execution_count": 20,
   "metadata": {},
   "outputs": [],
   "source": [
    "df_items = get_data('items')\n",
    "df_stores = get_data('stores')\n",
    "df_sales = get_data('sales')"
   ]
  },
  {
   "cell_type": "code",
   "execution_count": 21,
   "metadata": {},
   "outputs": [],
   "source": [
    "df_items.to_csv('data_items.csv')\n",
    "df_stores.to_csv('data_stores.csv')\n",
    "df_sales.to_csv('data_sales.csv')"
   ]
  },
  {
   "cell_type": "code",
   "execution_count": 15,
   "metadata": {},
   "outputs": [],
   "source": [
    "df = df_sales.join(df_items.set_index('item_id'), on='item', how='inner')\n",
    "df = df.join(df_stores.set_index('store_id'), on='store', how='inner')"
   ]
  },
  {
   "cell_type": "code",
   "execution_count": 16,
   "metadata": {},
   "outputs": [
    {
     "name": "stdout",
     "output_type": "stream",
     "text": [
      "SHAPE: (7360000, 14)\n",
      "COLUMNS: Index(['item', 'sale_amount', 'sale_date', 'sale_id', 'store', 'item_brand',\n",
      "       'item_name', 'item_price', 'item_upc12', 'item_upc14', 'store_address',\n",
      "       'store_city', 'store_state', 'store_zipcode'],\n",
      "      dtype='object')\n"
     ]
    }
   ],
   "source": [
    "print(f'SHAPE: {df.shape}')\n",
    "print(f'COLUMNS: {df.columns}')"
   ]
  },
  {
   "cell_type": "code",
   "execution_count": null,
   "metadata": {},
   "outputs": [],
   "source": []
  }
 ],
 "metadata": {
  "kernelspec": {
   "display_name": "Python 3",
   "language": "python",
   "name": "python3"
  },
  "language_info": {
   "codemirror_mode": {
    "name": "ipython",
    "version": 3
   },
   "file_extension": ".py",
   "mimetype": "text/x-python",
   "name": "python",
   "nbconvert_exporter": "python",
   "pygments_lexer": "ipython3",
   "version": "3.7.1"
  }
 },
 "nbformat": 4,
 "nbformat_minor": 2
}
